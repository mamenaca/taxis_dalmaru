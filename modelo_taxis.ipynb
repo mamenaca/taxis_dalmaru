{
  "cells": [
    {
      "cell_type": "markdown",
      "metadata": {
        "id": "view-in-github",
        "colab_type": "text"
      },
      "source": [
        "<a href=\"https://colab.research.google.com/github/mamenaca/taxis_dalmaru/blob/main/modelo_taxis.ipynb\" target=\"_parent\"><img src=\"https://colab.research.google.com/assets/colab-badge.svg\" alt=\"Open In Colab\"/></a>"
      ]
    },
    {
      "cell_type": "markdown",
      "source": [
        "#PAQUETES REQUERIDOS"
      ],
      "metadata": {
        "id": "NTWBkpddHqtj"
      },
      "id": "NTWBkpddHqtj"
    },
    {
      "cell_type": "code",
      "source": [
        "%%capture\n",
        "!pip install ipympl\n"
      ],
      "metadata": {
        "id": "qBXkuETEoo2s"
      },
      "id": "qBXkuETEoo2s",
      "execution_count": 78,
      "outputs": []
    },
    {
      "cell_type": "code",
      "source": [
        "%matplotlib ipympl"
      ],
      "metadata": {
        "id": "NoZPMqXQrrk1"
      },
      "id": "NoZPMqXQrrk1",
      "execution_count": 79,
      "outputs": []
    },
    {
      "cell_type": "code",
      "execution_count": 80,
      "id": "optimum-satisfaction",
      "metadata": {
        "id": "optimum-satisfaction"
      },
      "outputs": [],
      "source": [
        "import pandas as pd\n",
        "import numpy as np\n",
        "import matplotlib \n",
        "from matplotlib import pyplot as plt\n",
        "from matplotlib.pyplot import figure\n",
        "import copy\n",
        "import statsmodels.api as sm\n",
        "from statsmodels.stats.outliers_influence import summary_table\n",
        "from itertools import cycle"
      ]
    },
    {
      "cell_type": "code",
      "source": [
        "%%capture\n",
        "!pip install pmdarima\n"
      ],
      "metadata": {
        "id": "NRTJOyxAFTqC"
      },
      "id": "NRTJOyxAFTqC",
      "execution_count": 81,
      "outputs": []
    },
    {
      "cell_type": "code",
      "execution_count": 82,
      "id": "nearby-infrastructure",
      "metadata": {
        "scrolled": false,
        "id": "nearby-infrastructure"
      },
      "outputs": [],
      "source": [
        "from pmdarima.arima import auto_arima\n",
        "import datetime\n"
      ]
    },
    {
      "cell_type": "code",
      "source": [
        "from pmdarima.arima import ADFTest\n",
        "from pmdarima import utils"
      ],
      "metadata": {
        "id": "KEjywYKMIYlg"
      },
      "id": "KEjywYKMIYlg",
      "execution_count": 83,
      "outputs": []
    },
    {
      "cell_type": "code",
      "source": [
        "#from google.colab import output\n",
        "#output.enable_custom_widget_manager()"
      ],
      "metadata": {
        "id": "Voe1iUH4uA7h"
      },
      "id": "Voe1iUH4uA7h",
      "execution_count": 84,
      "outputs": []
    },
    {
      "cell_type": "code",
      "source": [],
      "metadata": {
        "id": "Y_CNiK8xjqkX"
      },
      "id": "Y_CNiK8xjqkX",
      "execution_count": 84,
      "outputs": []
    },
    {
      "cell_type": "markdown",
      "id": "shaped-document",
      "metadata": {
        "id": "shaped-document"
      },
      "source": [
        "Guardar el archivo HV del taxi como xlsx"
      ]
    },
    {
      "cell_type": "code",
      "execution_count": 154,
      "id": "junior-johnson",
      "metadata": {
        "scrolled": true,
        "colab": {
          "base_uri": "https://localhost:8080/",
          "height": 372
        },
        "id": "junior-johnson",
        "outputId": "d9be1d73-f6c0-4bdf-e68e-e13369b7971b"
      },
      "outputs": [
        {
          "output_type": "execute_result",
          "data": {
            "text/plain": [
              "     COD      FECHA   PLACA CANTIDAD    FACTURA  \\\n",
              "0  52939 2022-02-09  FXS804        1  CTA COBRO   \n",
              "1      1 2021-07-17  FXS804        1        NaN   \n",
              "2      1 2021-11-08  FXS804        1       1928   \n",
              "3      1 2022-03-14  FXS804        1       1529   \n",
              "4      1 2022-05-09  FXS804        1   TCFE1933   \n",
              "\n",
              "                                  CONCEPTO  \\\n",
              "0                              Computadora   \n",
              "1                             Kit Embrague   \n",
              "2                             Sacada Golpe   \n",
              "3  Pintura guardabarro delantero izquierdo   \n",
              "4                              Guardafango   \n",
              "\n",
              "                                         OBSERVACIÓN  VALOR UNITARIO   GASTOS  \n",
              "0                                   ANTENA Y ENLLAVE         600.000  600.000  \n",
              "1  BUJE TREN TRAS-ROTULAS-AXIALES-ABRAZ PLAST-TER...         581.437  581.437  \n",
              "2  costilla izq, hechura costilla izq, sacada gol...         500.000  500.000  \n",
              "3  RETOQUE PUERTA DELANTERO IZQ,PUERTA TRASERA IZ...         485.000  485.000  \n",
              "4                                                NaN         476.000  476.000  "
            ],
            "text/html": [
              "\n",
              "  <div id=\"df-df468a77-0bc9-4fde-86b9-fbaffc74a5f6\">\n",
              "    <div class=\"colab-df-container\">\n",
              "      <div>\n",
              "<style scoped>\n",
              "    .dataframe tbody tr th:only-of-type {\n",
              "        vertical-align: middle;\n",
              "    }\n",
              "\n",
              "    .dataframe tbody tr th {\n",
              "        vertical-align: top;\n",
              "    }\n",
              "\n",
              "    .dataframe thead th {\n",
              "        text-align: right;\n",
              "    }\n",
              "</style>\n",
              "<table border=\"1\" class=\"dataframe\">\n",
              "  <thead>\n",
              "    <tr style=\"text-align: right;\">\n",
              "      <th></th>\n",
              "      <th>COD</th>\n",
              "      <th>FECHA</th>\n",
              "      <th>PLACA</th>\n",
              "      <th>CANTIDAD</th>\n",
              "      <th>FACTURA</th>\n",
              "      <th>CONCEPTO</th>\n",
              "      <th>OBSERVACIÓN</th>\n",
              "      <th>VALOR UNITARIO</th>\n",
              "      <th>GASTOS</th>\n",
              "    </tr>\n",
              "  </thead>\n",
              "  <tbody>\n",
              "    <tr>\n",
              "      <th>0</th>\n",
              "      <td>52939</td>\n",
              "      <td>2022-02-09</td>\n",
              "      <td>FXS804</td>\n",
              "      <td>1</td>\n",
              "      <td>CTA COBRO</td>\n",
              "      <td>Computadora</td>\n",
              "      <td>ANTENA Y ENLLAVE</td>\n",
              "      <td>600.000</td>\n",
              "      <td>600.000</td>\n",
              "    </tr>\n",
              "    <tr>\n",
              "      <th>1</th>\n",
              "      <td>1</td>\n",
              "      <td>2021-07-17</td>\n",
              "      <td>FXS804</td>\n",
              "      <td>1</td>\n",
              "      <td>NaN</td>\n",
              "      <td>Kit Embrague</td>\n",
              "      <td>BUJE TREN TRAS-ROTULAS-AXIALES-ABRAZ PLAST-TER...</td>\n",
              "      <td>581.437</td>\n",
              "      <td>581.437</td>\n",
              "    </tr>\n",
              "    <tr>\n",
              "      <th>2</th>\n",
              "      <td>1</td>\n",
              "      <td>2021-11-08</td>\n",
              "      <td>FXS804</td>\n",
              "      <td>1</td>\n",
              "      <td>1928</td>\n",
              "      <td>Sacada Golpe</td>\n",
              "      <td>costilla izq, hechura costilla izq, sacada gol...</td>\n",
              "      <td>500.000</td>\n",
              "      <td>500.000</td>\n",
              "    </tr>\n",
              "    <tr>\n",
              "      <th>3</th>\n",
              "      <td>1</td>\n",
              "      <td>2022-03-14</td>\n",
              "      <td>FXS804</td>\n",
              "      <td>1</td>\n",
              "      <td>1529</td>\n",
              "      <td>Pintura guardabarro delantero izquierdo</td>\n",
              "      <td>RETOQUE PUERTA DELANTERO IZQ,PUERTA TRASERA IZ...</td>\n",
              "      <td>485.000</td>\n",
              "      <td>485.000</td>\n",
              "    </tr>\n",
              "    <tr>\n",
              "      <th>4</th>\n",
              "      <td>1</td>\n",
              "      <td>2022-05-09</td>\n",
              "      <td>FXS804</td>\n",
              "      <td>1</td>\n",
              "      <td>TCFE1933</td>\n",
              "      <td>Guardafango</td>\n",
              "      <td>NaN</td>\n",
              "      <td>476.000</td>\n",
              "      <td>476.000</td>\n",
              "    </tr>\n",
              "  </tbody>\n",
              "</table>\n",
              "</div>\n",
              "      <button class=\"colab-df-convert\" onclick=\"convertToInteractive('df-df468a77-0bc9-4fde-86b9-fbaffc74a5f6')\"\n",
              "              title=\"Convert this dataframe to an interactive table.\"\n",
              "              style=\"display:none;\">\n",
              "        \n",
              "  <svg xmlns=\"http://www.w3.org/2000/svg\" height=\"24px\"viewBox=\"0 0 24 24\"\n",
              "       width=\"24px\">\n",
              "    <path d=\"M0 0h24v24H0V0z\" fill=\"none\"/>\n",
              "    <path d=\"M18.56 5.44l.94 2.06.94-2.06 2.06-.94-2.06-.94-.94-2.06-.94 2.06-2.06.94zm-11 1L8.5 8.5l.94-2.06 2.06-.94-2.06-.94L8.5 2.5l-.94 2.06-2.06.94zm10 10l.94 2.06.94-2.06 2.06-.94-2.06-.94-.94-2.06-.94 2.06-2.06.94z\"/><path d=\"M17.41 7.96l-1.37-1.37c-.4-.4-.92-.59-1.43-.59-.52 0-1.04.2-1.43.59L10.3 9.45l-7.72 7.72c-.78.78-.78 2.05 0 2.83L4 21.41c.39.39.9.59 1.41.59.51 0 1.02-.2 1.41-.59l7.78-7.78 2.81-2.81c.8-.78.8-2.07 0-2.86zM5.41 20L4 18.59l7.72-7.72 1.47 1.35L5.41 20z\"/>\n",
              "  </svg>\n",
              "      </button>\n",
              "      \n",
              "  <style>\n",
              "    .colab-df-container {\n",
              "      display:flex;\n",
              "      flex-wrap:wrap;\n",
              "      gap: 12px;\n",
              "    }\n",
              "\n",
              "    .colab-df-convert {\n",
              "      background-color: #E8F0FE;\n",
              "      border: none;\n",
              "      border-radius: 50%;\n",
              "      cursor: pointer;\n",
              "      display: none;\n",
              "      fill: #1967D2;\n",
              "      height: 32px;\n",
              "      padding: 0 0 0 0;\n",
              "      width: 32px;\n",
              "    }\n",
              "\n",
              "    .colab-df-convert:hover {\n",
              "      background-color: #E2EBFA;\n",
              "      box-shadow: 0px 1px 2px rgba(60, 64, 67, 0.3), 0px 1px 3px 1px rgba(60, 64, 67, 0.15);\n",
              "      fill: #174EA6;\n",
              "    }\n",
              "\n",
              "    [theme=dark] .colab-df-convert {\n",
              "      background-color: #3B4455;\n",
              "      fill: #D2E3FC;\n",
              "    }\n",
              "\n",
              "    [theme=dark] .colab-df-convert:hover {\n",
              "      background-color: #434B5C;\n",
              "      box-shadow: 0px 1px 3px 1px rgba(0, 0, 0, 0.15);\n",
              "      filter: drop-shadow(0px 1px 2px rgba(0, 0, 0, 0.3));\n",
              "      fill: #FFFFFF;\n",
              "    }\n",
              "  </style>\n",
              "\n",
              "      <script>\n",
              "        const buttonEl =\n",
              "          document.querySelector('#df-df468a77-0bc9-4fde-86b9-fbaffc74a5f6 button.colab-df-convert');\n",
              "        buttonEl.style.display =\n",
              "          google.colab.kernel.accessAllowed ? 'block' : 'none';\n",
              "\n",
              "        async function convertToInteractive(key) {\n",
              "          const element = document.querySelector('#df-df468a77-0bc9-4fde-86b9-fbaffc74a5f6');\n",
              "          const dataTable =\n",
              "            await google.colab.kernel.invokeFunction('convertToInteractive',\n",
              "                                                     [key], {});\n",
              "          if (!dataTable) return;\n",
              "\n",
              "          const docLinkHtml = 'Like what you see? Visit the ' +\n",
              "            '<a target=\"_blank\" href=https://colab.research.google.com/notebooks/data_table.ipynb>data table notebook</a>'\n",
              "            + ' to learn more about interactive tables.';\n",
              "          element.innerHTML = '';\n",
              "          dataTable['output_type'] = 'display_data';\n",
              "          await google.colab.output.renderOutput(dataTable, element);\n",
              "          const docLink = document.createElement('div');\n",
              "          docLink.innerHTML = docLinkHtml;\n",
              "          element.appendChild(docLink);\n",
              "        }\n",
              "      </script>\n",
              "    </div>\n",
              "  </div>\n",
              "  "
            ]
          },
          "metadata": {},
          "execution_count": 154
        }
      ],
      "source": [
        "datos=pd.read_excel(r\"Por_Taxi.xlsx\",skiprows=(0,1,2,3,4,5,6,7,8,9,10))#10\n",
        "datos[\"GASTOS\"]=list(map(lambda x:str(x).replace(\"$\",\"\"),datos[\"GASTOS\"]))\n",
        "datos[\"GASTOS\"]=list(map(lambda x:float(str(x).replace(\".\",\"\"))/(1000**(str(x).count(\".\")-1)) if (str(x).count(\".\")>=2) else float(x) ,datos[\"GASTOS\"]))\n",
        "#datos=datos.replace(to_replace=\"00.000\",value=\"00\",regex=True)\n",
        "#openpyxl\n",
        "fin=datos[datos[\"COD\"]==\"TOTAL EGRESOS\"].index.to_numpy().max()\n",
        "datos1=copy.deepcopy(datos.iloc[0:fin,])\n",
        "del datos\n",
        "datos=copy.deepcopy(datos1)\n",
        "#datos1\n",
        "#pd.set_option('display.max_rows', None)\n",
        "datos.head()\n"
      ]
    },
    {
      "cell_type": "code",
      "execution_count": 155,
      "id": "painted-strategy",
      "metadata": {
        "colab": {
          "base_uri": "https://localhost:8080/"
        },
        "id": "painted-strategy",
        "outputId": "d9a2f6f3-1d7c-41a1-ab77-181fdb2b318f"
      },
      "outputs": [
        {
          "output_type": "stream",
          "name": "stdout",
          "text": [
            "<class 'pandas.core.frame.DataFrame'>\n",
            "RangeIndex: 386 entries, 0 to 385\n",
            "Data columns (total 9 columns):\n",
            " #   Column          Non-Null Count  Dtype         \n",
            "---  ------          --------------  -----         \n",
            " 0   COD             386 non-null    object        \n",
            " 1   FECHA           386 non-null    datetime64[ns]\n",
            " 2   PLACA           386 non-null    object        \n",
            " 3   CANTIDAD        386 non-null    object        \n",
            " 4   FACTURA         260 non-null    object        \n",
            " 5   CONCEPTO        386 non-null    object        \n",
            " 6   OBSERVACIÓN     196 non-null    object        \n",
            " 7   VALOR UNITARIO  386 non-null    float64       \n",
            " 8   GASTOS          386 non-null    float64       \n",
            "dtypes: datetime64[ns](1), float64(2), object(6)\n",
            "memory usage: 27.3+ KB\n"
          ]
        }
      ],
      "source": [
        "datos[\"FECHA\"]=pd.to_datetime(datos[\"FECHA\"],format=\"%d/%m/%Y\")\n",
        "#datos[\"Fecha_monitoreo\"]=pd.to_datetime(datos[\"Fecha_monitoreo\"],format=\"%d/%m/%Y\")\n",
        "datos[\"FECHA\"][0]\n",
        "datos.info()"
      ]
    },
    {
      "cell_type": "code",
      "execution_count": 156,
      "id": "driven-italic",
      "metadata": {
        "id": "driven-italic"
      },
      "outputs": [],
      "source": [
        "datos_gas=copy.deepcopy(datos.groupby(\"FECHA\").agg({\"GASTOS\":\"sum\"}))"
      ]
    },
    {
      "cell_type": "code",
      "source": [
        "datos_ing=pd.read_excel(r\"Entregas_Diarias.xlsx\",skiprows=(0,1,2,3,4)).fillna(0)\n",
        "datos_ing1=copy.deepcopy(datos_ing.transpose().reset_index())\n",
        "datos_ing1.head()"
      ],
      "metadata": {
        "colab": {
          "base_uri": "https://localhost:8080/",
          "height": 206
        },
        "id": "zqfVq6xtQIfr",
        "outputId": "71c4f979-e00d-43d4-9c15-404838ed0d25"
      },
      "id": "zqfVq6xtQIfr",
      "execution_count": 157,
      "outputs": [
        {
          "output_type": "execute_result",
          "data": {
            "text/plain": [
              "                 index       0         1\n",
              "0                PLACA  FXS804  TOTAL(1)\n",
              "1                TURNO       L         0\n",
              "2  2020-10-08 00:00:00       0         0\n",
              "3  2020-10-09 00:00:00       0         0\n",
              "4  2020-10-10 00:00:00      40        40"
            ],
            "text/html": [
              "\n",
              "  <div id=\"df-3a4636e9-08e2-48eb-815a-9f4e14506933\">\n",
              "    <div class=\"colab-df-container\">\n",
              "      <div>\n",
              "<style scoped>\n",
              "    .dataframe tbody tr th:only-of-type {\n",
              "        vertical-align: middle;\n",
              "    }\n",
              "\n",
              "    .dataframe tbody tr th {\n",
              "        vertical-align: top;\n",
              "    }\n",
              "\n",
              "    .dataframe thead th {\n",
              "        text-align: right;\n",
              "    }\n",
              "</style>\n",
              "<table border=\"1\" class=\"dataframe\">\n",
              "  <thead>\n",
              "    <tr style=\"text-align: right;\">\n",
              "      <th></th>\n",
              "      <th>index</th>\n",
              "      <th>0</th>\n",
              "      <th>1</th>\n",
              "    </tr>\n",
              "  </thead>\n",
              "  <tbody>\n",
              "    <tr>\n",
              "      <th>0</th>\n",
              "      <td>PLACA</td>\n",
              "      <td>FXS804</td>\n",
              "      <td>TOTAL(1)</td>\n",
              "    </tr>\n",
              "    <tr>\n",
              "      <th>1</th>\n",
              "      <td>TURNO</td>\n",
              "      <td>L</td>\n",
              "      <td>0</td>\n",
              "    </tr>\n",
              "    <tr>\n",
              "      <th>2</th>\n",
              "      <td>2020-10-08 00:00:00</td>\n",
              "      <td>0</td>\n",
              "      <td>0</td>\n",
              "    </tr>\n",
              "    <tr>\n",
              "      <th>3</th>\n",
              "      <td>2020-10-09 00:00:00</td>\n",
              "      <td>0</td>\n",
              "      <td>0</td>\n",
              "    </tr>\n",
              "    <tr>\n",
              "      <th>4</th>\n",
              "      <td>2020-10-10 00:00:00</td>\n",
              "      <td>40</td>\n",
              "      <td>40</td>\n",
              "    </tr>\n",
              "  </tbody>\n",
              "</table>\n",
              "</div>\n",
              "      <button class=\"colab-df-convert\" onclick=\"convertToInteractive('df-3a4636e9-08e2-48eb-815a-9f4e14506933')\"\n",
              "              title=\"Convert this dataframe to an interactive table.\"\n",
              "              style=\"display:none;\">\n",
              "        \n",
              "  <svg xmlns=\"http://www.w3.org/2000/svg\" height=\"24px\"viewBox=\"0 0 24 24\"\n",
              "       width=\"24px\">\n",
              "    <path d=\"M0 0h24v24H0V0z\" fill=\"none\"/>\n",
              "    <path d=\"M18.56 5.44l.94 2.06.94-2.06 2.06-.94-2.06-.94-.94-2.06-.94 2.06-2.06.94zm-11 1L8.5 8.5l.94-2.06 2.06-.94-2.06-.94L8.5 2.5l-.94 2.06-2.06.94zm10 10l.94 2.06.94-2.06 2.06-.94-2.06-.94-.94-2.06-.94 2.06-2.06.94z\"/><path d=\"M17.41 7.96l-1.37-1.37c-.4-.4-.92-.59-1.43-.59-.52 0-1.04.2-1.43.59L10.3 9.45l-7.72 7.72c-.78.78-.78 2.05 0 2.83L4 21.41c.39.39.9.59 1.41.59.51 0 1.02-.2 1.41-.59l7.78-7.78 2.81-2.81c.8-.78.8-2.07 0-2.86zM5.41 20L4 18.59l7.72-7.72 1.47 1.35L5.41 20z\"/>\n",
              "  </svg>\n",
              "      </button>\n",
              "      \n",
              "  <style>\n",
              "    .colab-df-container {\n",
              "      display:flex;\n",
              "      flex-wrap:wrap;\n",
              "      gap: 12px;\n",
              "    }\n",
              "\n",
              "    .colab-df-convert {\n",
              "      background-color: #E8F0FE;\n",
              "      border: none;\n",
              "      border-radius: 50%;\n",
              "      cursor: pointer;\n",
              "      display: none;\n",
              "      fill: #1967D2;\n",
              "      height: 32px;\n",
              "      padding: 0 0 0 0;\n",
              "      width: 32px;\n",
              "    }\n",
              "\n",
              "    .colab-df-convert:hover {\n",
              "      background-color: #E2EBFA;\n",
              "      box-shadow: 0px 1px 2px rgba(60, 64, 67, 0.3), 0px 1px 3px 1px rgba(60, 64, 67, 0.15);\n",
              "      fill: #174EA6;\n",
              "    }\n",
              "\n",
              "    [theme=dark] .colab-df-convert {\n",
              "      background-color: #3B4455;\n",
              "      fill: #D2E3FC;\n",
              "    }\n",
              "\n",
              "    [theme=dark] .colab-df-convert:hover {\n",
              "      background-color: #434B5C;\n",
              "      box-shadow: 0px 1px 3px 1px rgba(0, 0, 0, 0.15);\n",
              "      filter: drop-shadow(0px 1px 2px rgba(0, 0, 0, 0.3));\n",
              "      fill: #FFFFFF;\n",
              "    }\n",
              "  </style>\n",
              "\n",
              "      <script>\n",
              "        const buttonEl =\n",
              "          document.querySelector('#df-3a4636e9-08e2-48eb-815a-9f4e14506933 button.colab-df-convert');\n",
              "        buttonEl.style.display =\n",
              "          google.colab.kernel.accessAllowed ? 'block' : 'none';\n",
              "\n",
              "        async function convertToInteractive(key) {\n",
              "          const element = document.querySelector('#df-3a4636e9-08e2-48eb-815a-9f4e14506933');\n",
              "          const dataTable =\n",
              "            await google.colab.kernel.invokeFunction('convertToInteractive',\n",
              "                                                     [key], {});\n",
              "          if (!dataTable) return;\n",
              "\n",
              "          const docLinkHtml = 'Like what you see? Visit the ' +\n",
              "            '<a target=\"_blank\" href=https://colab.research.google.com/notebooks/data_table.ipynb>data table notebook</a>'\n",
              "            + ' to learn more about interactive tables.';\n",
              "          element.innerHTML = '';\n",
              "          dataTable['output_type'] = 'display_data';\n",
              "          await google.colab.output.renderOutput(dataTable, element);\n",
              "          const docLink = document.createElement('div');\n",
              "          docLink.innerHTML = docLinkHtml;\n",
              "          element.appendChild(docLink);\n",
              "        }\n",
              "      </script>\n",
              "    </div>\n",
              "  </div>\n",
              "  "
            ]
          },
          "metadata": {},
          "execution_count": 157
        }
      ]
    },
    {
      "cell_type": "code",
      "execution_count": 158,
      "id": "stock-volleyball",
      "metadata": {
        "id": "stock-volleyball"
      },
      "outputs": [],
      "source": [
        "datos_ing=pd.read_excel(r\"Entregas_Diarias.xlsx\",skiprows=(0,1,2,3,4))#4\n",
        "datos_ing1=copy.deepcopy(datos_ing.transpose().reset_index())\n",
        "del datos_ing\n",
        "\n",
        "fin1=datos_ing1[datos_ing1[\"index\"]==\"TOTAL\"].index.to_numpy().max()\n",
        "datos_ing=copy.deepcopy(datos_ing1[2:fin1])\n",
        "del datos_ing1\n"
      ]
    },
    {
      "cell_type": "code",
      "execution_count": 159,
      "id": "retired-watch",
      "metadata": {
        "colab": {
          "base_uri": "https://localhost:8080/"
        },
        "id": "retired-watch",
        "outputId": "5800bc7e-b77f-41d7-c861-d7b92806e3b8"
      },
      "outputs": [
        {
          "output_type": "execute_result",
          "data": {
            "text/plain": [
              "Index(['index', 0, 1], dtype='object')"
            ]
          },
          "metadata": {},
          "execution_count": 159
        }
      ],
      "source": [
        "datos_ing.keys()"
      ]
    },
    {
      "cell_type": "code",
      "execution_count": 160,
      "id": "endless-plate",
      "metadata": {
        "id": "endless-plate",
        "colab": {
          "base_uri": "https://localhost:8080/"
        },
        "outputId": "1d5aa3a0-716e-4a92-d066-c77c9d541ebe"
      },
      "outputs": [
        {
          "output_type": "execute_result",
          "data": {
            "text/plain": [
              "Index(['index', 0, 1], dtype='object')"
            ]
          },
          "metadata": {},
          "execution_count": 160
        }
      ],
      "source": [
        "datos_ing.columns"
      ]
    },
    {
      "cell_type": "code",
      "execution_count": 161,
      "id": "vanilla-display",
      "metadata": {
        "id": "vanilla-display"
      },
      "outputs": [],
      "source": [
        "total_correg=datos_ing.columns[len(datos_ing.columns)-1]#-1\n",
        "datos_ingre=copy.deepcopy(datos_ing.groupby(\"index\").agg({total_correg:\"sum\"}))"
      ]
    },
    {
      "cell_type": "code",
      "execution_count": 162,
      "id": "therapeutic-principle",
      "metadata": {
        "id": "therapeutic-principle"
      },
      "outputs": [],
      "source": [
        "datos_ingre[\"gastos\"]=datos_gas[\"GASTOS\"]\n",
        "ingre_gas=copy.deepcopy(datos_ingre.fillna(0))\n",
        "del datos_ingre\n"
      ]
    },
    {
      "cell_type": "code",
      "execution_count": 163,
      "id": "legal-winter",
      "metadata": {
        "colab": {
          "base_uri": "https://localhost:8080/",
          "height": 237
        },
        "id": "legal-winter",
        "outputId": "06c32b9b-8684-4be9-b6c5-110909be7272"
      },
      "outputs": [
        {
          "output_type": "execute_result",
          "data": {
            "text/plain": [
              "            ingresos  gastos\n",
              "index                       \n",
              "2020-10-08       0.0     0.0\n",
              "2020-10-09       0.0     0.0\n",
              "2020-10-10      40.0     0.0\n",
              "2020-10-11      60.0    20.0\n",
              "2020-10-12      60.0     0.0"
            ],
            "text/html": [
              "\n",
              "  <div id=\"df-dc3b52f4-42c1-4682-a9c8-e3b6af9b1556\">\n",
              "    <div class=\"colab-df-container\">\n",
              "      <div>\n",
              "<style scoped>\n",
              "    .dataframe tbody tr th:only-of-type {\n",
              "        vertical-align: middle;\n",
              "    }\n",
              "\n",
              "    .dataframe tbody tr th {\n",
              "        vertical-align: top;\n",
              "    }\n",
              "\n",
              "    .dataframe thead th {\n",
              "        text-align: right;\n",
              "    }\n",
              "</style>\n",
              "<table border=\"1\" class=\"dataframe\">\n",
              "  <thead>\n",
              "    <tr style=\"text-align: right;\">\n",
              "      <th></th>\n",
              "      <th>ingresos</th>\n",
              "      <th>gastos</th>\n",
              "    </tr>\n",
              "    <tr>\n",
              "      <th>index</th>\n",
              "      <th></th>\n",
              "      <th></th>\n",
              "    </tr>\n",
              "  </thead>\n",
              "  <tbody>\n",
              "    <tr>\n",
              "      <th>2020-10-08</th>\n",
              "      <td>0.0</td>\n",
              "      <td>0.0</td>\n",
              "    </tr>\n",
              "    <tr>\n",
              "      <th>2020-10-09</th>\n",
              "      <td>0.0</td>\n",
              "      <td>0.0</td>\n",
              "    </tr>\n",
              "    <tr>\n",
              "      <th>2020-10-10</th>\n",
              "      <td>40.0</td>\n",
              "      <td>0.0</td>\n",
              "    </tr>\n",
              "    <tr>\n",
              "      <th>2020-10-11</th>\n",
              "      <td>60.0</td>\n",
              "      <td>20.0</td>\n",
              "    </tr>\n",
              "    <tr>\n",
              "      <th>2020-10-12</th>\n",
              "      <td>60.0</td>\n",
              "      <td>0.0</td>\n",
              "    </tr>\n",
              "  </tbody>\n",
              "</table>\n",
              "</div>\n",
              "      <button class=\"colab-df-convert\" onclick=\"convertToInteractive('df-dc3b52f4-42c1-4682-a9c8-e3b6af9b1556')\"\n",
              "              title=\"Convert this dataframe to an interactive table.\"\n",
              "              style=\"display:none;\">\n",
              "        \n",
              "  <svg xmlns=\"http://www.w3.org/2000/svg\" height=\"24px\"viewBox=\"0 0 24 24\"\n",
              "       width=\"24px\">\n",
              "    <path d=\"M0 0h24v24H0V0z\" fill=\"none\"/>\n",
              "    <path d=\"M18.56 5.44l.94 2.06.94-2.06 2.06-.94-2.06-.94-.94-2.06-.94 2.06-2.06.94zm-11 1L8.5 8.5l.94-2.06 2.06-.94-2.06-.94L8.5 2.5l-.94 2.06-2.06.94zm10 10l.94 2.06.94-2.06 2.06-.94-2.06-.94-.94-2.06-.94 2.06-2.06.94z\"/><path d=\"M17.41 7.96l-1.37-1.37c-.4-.4-.92-.59-1.43-.59-.52 0-1.04.2-1.43.59L10.3 9.45l-7.72 7.72c-.78.78-.78 2.05 0 2.83L4 21.41c.39.39.9.59 1.41.59.51 0 1.02-.2 1.41-.59l7.78-7.78 2.81-2.81c.8-.78.8-2.07 0-2.86zM5.41 20L4 18.59l7.72-7.72 1.47 1.35L5.41 20z\"/>\n",
              "  </svg>\n",
              "      </button>\n",
              "      \n",
              "  <style>\n",
              "    .colab-df-container {\n",
              "      display:flex;\n",
              "      flex-wrap:wrap;\n",
              "      gap: 12px;\n",
              "    }\n",
              "\n",
              "    .colab-df-convert {\n",
              "      background-color: #E8F0FE;\n",
              "      border: none;\n",
              "      border-radius: 50%;\n",
              "      cursor: pointer;\n",
              "      display: none;\n",
              "      fill: #1967D2;\n",
              "      height: 32px;\n",
              "      padding: 0 0 0 0;\n",
              "      width: 32px;\n",
              "    }\n",
              "\n",
              "    .colab-df-convert:hover {\n",
              "      background-color: #E2EBFA;\n",
              "      box-shadow: 0px 1px 2px rgba(60, 64, 67, 0.3), 0px 1px 3px 1px rgba(60, 64, 67, 0.15);\n",
              "      fill: #174EA6;\n",
              "    }\n",
              "\n",
              "    [theme=dark] .colab-df-convert {\n",
              "      background-color: #3B4455;\n",
              "      fill: #D2E3FC;\n",
              "    }\n",
              "\n",
              "    [theme=dark] .colab-df-convert:hover {\n",
              "      background-color: #434B5C;\n",
              "      box-shadow: 0px 1px 3px 1px rgba(0, 0, 0, 0.15);\n",
              "      filter: drop-shadow(0px 1px 2px rgba(0, 0, 0, 0.3));\n",
              "      fill: #FFFFFF;\n",
              "    }\n",
              "  </style>\n",
              "\n",
              "      <script>\n",
              "        const buttonEl =\n",
              "          document.querySelector('#df-dc3b52f4-42c1-4682-a9c8-e3b6af9b1556 button.colab-df-convert');\n",
              "        buttonEl.style.display =\n",
              "          google.colab.kernel.accessAllowed ? 'block' : 'none';\n",
              "\n",
              "        async function convertToInteractive(key) {\n",
              "          const element = document.querySelector('#df-dc3b52f4-42c1-4682-a9c8-e3b6af9b1556');\n",
              "          const dataTable =\n",
              "            await google.colab.kernel.invokeFunction('convertToInteractive',\n",
              "                                                     [key], {});\n",
              "          if (!dataTable) return;\n",
              "\n",
              "          const docLinkHtml = 'Like what you see? Visit the ' +\n",
              "            '<a target=\"_blank\" href=https://colab.research.google.com/notebooks/data_table.ipynb>data table notebook</a>'\n",
              "            + ' to learn more about interactive tables.';\n",
              "          element.innerHTML = '';\n",
              "          dataTable['output_type'] = 'display_data';\n",
              "          await google.colab.output.renderOutput(dataTable, element);\n",
              "          const docLink = document.createElement('div');\n",
              "          docLink.innerHTML = docLinkHtml;\n",
              "          element.appendChild(docLink);\n",
              "        }\n",
              "      </script>\n",
              "    </div>\n",
              "  </div>\n",
              "  "
            ]
          },
          "metadata": {},
          "execution_count": 163
        }
      ],
      "source": [
        "ingre_gas.columns=[\"ingresos\",\"gastos\"]\n",
        "ingre_gas.head()"
      ]
    },
    {
      "cell_type": "markdown",
      "source": [
        "#Primer criterio: Tendencia de los Ingresos vs Gastos"
      ],
      "metadata": {
        "id": "fJKP-L7BUgNI"
      },
      "id": "fJKP-L7BUgNI"
    },
    {
      "cell_type": "markdown",
      "source": [
        "____________________________________________________________\n",
        "**Descripción**: En esta sección se procesan los datos de ingresos y gastos, se les aplica una suma del histórico de cada uno, y se analiza con evidencia estadística si los Ingresos son lo suficientemente superiores a los gastos. \n",
        "\n",
        "Aunque es visible todo el código y las gráficas, al final de la sección se da la conclusión respecto a este primer criterio\n",
        "____________________________________________________________"
      ],
      "metadata": {
        "id": "CRhIxbWrtPLq"
      },
      "id": "CRhIxbWrtPLq"
    },
    {
      "cell_type": "markdown",
      "source": [
        "##Cálculos y gráficas"
      ],
      "metadata": {
        "id": "BDx-50U4yHqu"
      },
      "id": "BDx-50U4yHqu"
    },
    {
      "cell_type": "markdown",
      "source": [
        "Datos crudos:"
      ],
      "metadata": {
        "id": "DnOISTmrzSwz"
      },
      "id": "DnOISTmrzSwz"
    },
    {
      "cell_type": "code",
      "source": [
        "Y1=ingre_gas[\"ingresos\"]\n",
        "Y2=ingre_gas[\"gastos\"]\n"
      ],
      "metadata": {
        "id": "aqkgMfHsTWha"
      },
      "id": "aqkgMfHsTWha",
      "execution_count": 164,
      "outputs": []
    },
    {
      "cell_type": "code",
      "execution_count": 165,
      "id": "victorian-layer",
      "metadata": {
        "colab": {
          "base_uri": "https://localhost:8080/",
          "height": 377,
          "referenced_widgets": [
            "f6b614924a964202abc13f92713df842",
            "1bc9c53e040e4fe88824e9612d72c2f6",
            "c47a4da8375647688144a65e17a7301d",
            "cffdf982064347e09e7e2936a3d1fd96"
          ]
        },
        "id": "victorian-layer",
        "outputId": "80431829-9aa2-4f15-913c-99fa8ed8578c"
      },
      "outputs": [
        {
          "output_type": "display_data",
          "data": {
            "text/plain": [
              "Canvas(toolbar=Toolbar(toolitems=[('Home', 'Reset original view', 'home', 'home'), ('Back', 'Back to previous …"
            ],
            "image/png": "[encoded data removed]",
            "text/html": [
              "\n",
              "            <div style=\"display: inline-block;\">\n",
              "                <div class=\"jupyter-widgets widget-label\" style=\"text-align: center;\">\n",
              "                    Figure\n",
              "                </div>\n",
              "                <img src='data:image/png;base64,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' width=432.0/>\n",
              "            </div>\n",
              "        "
            ],
            "application/vnd.jupyter.widget-view+json": {
              "version_major": 2,
              "version_minor": 0,
              "model_id": "f6b614924a964202abc13f92713df842"
            }
          },
          "metadata": {
            "application/vnd.jupyter.widget-view+json": {
              "colab": {
                "custom_widget_manager": {
                  "url": "https://ssl.gstatic.com/colaboratory-static/widgets/colab-cdn-widget-manager/d2e234f7cc04bf79/manager.min.js"
                }
              }
            }
          }
        }
      ],
      "source": [
        "%matplotlib ipympl\n",
        "X=ingre_gas.index\n",
        "Y1=ingre_gas[\"ingresos\"]\n",
        "Y2=ingre_gas[\"gastos\"]\n",
        "plt.figure()\n",
        "plt.plot_date(X,Y1,label=\"Ingresos\")\n",
        "plt.plot_date(X,Y2,label=\"Gastos\")\n",
        "plt.grid()\n",
        "plt.legend(loc=\"best\")\n",
        "plt.show()"
      ]
    },
    {
      "cell_type": "markdown",
      "source": [
        "Ingresos y Gastos acumulados"
      ],
      "metadata": {
        "id": "YsBZGRQszhiO"
      },
      "id": "YsBZGRQszhiO"
    },
    {
      "cell_type": "code",
      "execution_count": 166,
      "id": "fitted-profile",
      "metadata": {
        "colab": {
          "base_uri": "https://localhost:8080/",
          "height": 377,
          "referenced_widgets": [
            "c8d177644f8849de8219fcf88ffc992d",
            "acffd0dbebf348cd89503fee1a645868",
            "22d80dbcba86446f97fdc44a43c5c67f",
            "3a50606742e34aaea2e57c9c80bc51bf"
          ]
        },
        "id": "fitted-profile",
        "outputId": "c5d66d05-3dcd-424c-e032-6afc106af2cf"
      },
      "outputs": [
        {
          "output_type": "display_data",
          "data": {
            "text/plain": [
              "Canvas(toolbar=Toolbar(toolitems=[('Home', 'Reset original view', 'home', 'home'), ('Back', 'Back to previous …"
            ],
            "image/png": "[encoded data removed]",
            "text/html": [
              "\n",
              "            <div style=\"display: inline-block;\">\n",
              "                <div class=\"jupyter-widgets widget-label\" style=\"text-align: center;\">\n",
              "                    Figure\n",
              "                </div>\n",
              "                <img src='data:image/png;base64,iVBORw0KGgoAAAANSUhEUgAAAbAAAAEgCAYAAADVKCZpAAAAOXRFWHRTb2Z0d2FyZQBNYXRwbG90bGliIHZlcnNpb24zLjYuMiwgaHR0cHM6Ly9tYXRwbG90bGliLm9yZy8o6BhiAAAACXBIWXMAAAsTAAALEwEAmpwYAAAtfklEQVR4nO3dfXwU5b338c+V8BAaKBQpKRAsaOmD8kwAeygY61FAexTtUYt4hFZFT/FUyV0KtpxTatWXqAep9aEHWxTaeiCegylFKDe1rM9SwYRQRG+QUk2kqKhoEDTgdf+xE9yETbIzO7M7s/t9v155ubl2Zva368KXmfnNNcZai4iISNQUZLsAERERLxRgIiISSQowERGJJAWYiIhEkgJMREQiSQEmIiKRpAATEZFIUoCJiEgkKcBERCSSFGAiIhJJHbJdgB969eplBwwY4Hq9gwcPUlxc7H9BPlKN/lCN/lCN6Qt7fU2yVeeWLVvestZ+NqWFrbWR/xk1apT1YuPGjZ7WyyTV6A/V6A/VmL6w19ckW3UCm22Kf/frEKKIiESSAkxERCJJASYiIpGUE00cyTQ2NlJXV8fhw4dbXaZ79+7s2LEjg1W5l8kai4qKKC0tpWPHjhl5PRGRdHgKMGPMHuB94ChwxFpbZozpCawEBgB7gIutte8YYwzwM+Ac4ANghrX2BWc704H5zmZvstYuc8ZHAQ8CXYC1wHXOyb2U1dXV0a1bNwYMGEC8hOO9//77dOvWzc1mMy5TNVpr2b9/P3V1dQwcODDw1xMRSVc6hxDPsNYOt9aWOb/PAx6z1g4CHnN+B5gMDHJ+ZgL3ATiB92NgLDAG+LEx5jPOOvcBVyWsN8ltcYcPH+aEE05oNbykOWMMJ5xwQpt7rCIiYeLnIcTzgXLn8TIgBsx1xpc7e1DPGWN6GGP6OMtusNa+DWCM2QBMMsbEgE9ba59zxpcDU4B1bgtSeLmjz0tEvKiqruf29S/z+ruH6NujC3MmfokpI/oF/rpeA8wC/9cYY4H/stYuAUqstXud5/8OlDiP+wGvJaxb54y1NV6XZDxyunbtSkNDQ7bLEBEJzPyqbfzmuVeP/V7/7iHm/M9WgMBDzGuAfc1aW2+M6Q1sMMa8lPiktdY64RYYY8xM4ockKSkpIRaLNXu+e/fuvP/++21u4+jRo8eWefQv+/jZxj38/b0P+dynO3PdGQM4d3BJm+unor0a2nP06FHeeecdOnTITL/N4cOHj/ss29PQ0OB6nUxTjf5QjekLe31NGhoauOWhDTy47SM+cvm3eeNRy/xVNfQ4sDOY4hye/la01tY7/33DGPMI8XNY+4wxfay1e51DhG84i9cD/RNWL3XG6vnkkGPTeMwZL02yfMsalgBLAMrKymx5eXmz53fs2NFu80NTg0RVdT0/WbuLQ41HAdj73of8ZO0uioq6pP0viG7duhGLxViwYAG9evXiL3/5C6NGjeI3v/kNxhjWrl1LRUUFxcXFjBs3jt27d7NmzRoWLFjAK6+8ws6dOxk4cCB33XUX11xzDa++Gv+XzuLFixk3bhyPP/441113HRA/BPjEE0/QtWtXfvCDH7Bu3TqMMcyfP59LLrmEvXv3cskll/Dee+9x5MgR7rvvPsaPH9+s3qKiIkaMGOHqPcZiMVp+/mGjGv2hGtMX9vqa3PLQBpbUfuR5/YZGAn+frgPMGFMMFFhr33cenw3cCKwGpgO3Ov/9nbPKauBaY8wK4g0bB5yQWw/cktC4cTZwg7X2bWPMe8aY04BNwOXAz72/xfbdvv7lY+HV5FDjUW5f/7Jvu8DV1dVs376dvn37Mm7cOJ5++mnKysq4+uqreeKJJxg4cCBTp05tts6LL77IunXr6N27N5deeimzZ8/ma1/7Gq+++ioTJ05kx44d3HHHHdxzzz2MGzeOhoYGioqKWLVqFTU1NWzdupW33nqL0aNHM2HCBB566CEmTpzIj370I44ePcoHH3zgy3sTkdxSVV2fVnhlipc9sBLgEeeEfwfgIWvtH4wxzwOVxpgrgL8BFzvLryXeQr+LeBv9twGcoPop8Lyz3I1NDR3Ad/mkjX4dHho43Hj93UOuxr0YM2YMpaXxHcvhw4ezZ88eunbtykknnXSsbX3q1KksWbLk2DrnnXceXbp0AeCPf/wjL7744rHn3nvvPRoaGhg3bhwVFRVMmzaNCy+8kNLSUp566immTp1KYWEhJSUlnH766Tz//POMHj2a73znOzQ2NjJlyhSGDx/u2/sTkdzQ8pyWVz26BH89qesAs9buBoYlGd8PnJlk3AKzWtnWUmBpkvHNwGC3tXnVt0cX6pOEVd8eXXx7jc6dOx97XFhYyJEjR9pdJ3Em6I8//pjnnnuOoqKiZsvMmzePc889l7Vr1zJu3DjWr1/f6vYmTJjAE088waOPPsqMGTOoqKjg8ssv9/BuRCQX+RVeAAvOO9WX7bRFU0kBcyZ+iS4dC5uNdelYyJyJXwr0db/0pS+xe/du9uzZA8DKlStbXfbss8/m5z//5EhqTU0NAK+88gpDhgxh7ty5jB49mpdeeonx48ezcuVKjh49yptvvskTTzzBmDFj+Nvf/kZJSQlXXXUVV155JS+88EKQb09EImTa/c/6Fl6XnXZiqNvoc0rTB53p6xi6dOnCvffey6RJkyguLmb06NGtLnvXXXcxa9Yshg4dypEjR5gwYQK/+MUvWLx4MRs3bqSgoIBTTz2VyZMn06lTJ5599lmGDRuGMYbbbruNz33ucyxbtozbb7+djh070rVrV5YvXx7o+xORaJh2/7M8/crb7S/YjuJOhdx8wZCMhBcowI6ZMqKf7x960zVg5eXlzbpx7r777mOPzzjjDF566SWstcyaNYuysvjEJgsWLAA+acPv1atX0j20xL2yRLfffju33357s7Hp06czffp0z+9HRHLP/KptKYfXuJN78turvhpwRalTgGXZ/fffz7Jly/joo48YMWIEV199dbZLEpE8UFVdz5yHa2j8OLXlLzvtRG6aMiTYolxSgGXZ7NmzmT17drbLEJE8UlVdz/Ura1JePozhBQowEZG84ja8Fl8yPGPntNxSgImI5Am3bfJhDi9QG72ISF5wG15n9C8MdXiB9sBERHKem/Dq3KGAhd8cGvhEvH7QHljA9u3bx6WXXspJJ53EqFGj+OpXv8ojjzzieju33HJLANWJSK6rqq5PObwG9S7m5Zsmh37Pq4kCrEltJdw5GBb0iP+3tjLtTVprmTJlChMmTGD37t1s2bKFFStWUFdX1/7KLSjARMQtNw0b407uyYaK8kDr8ZsCDOJh9fvvwYHXABv/7++/l3aI/elPf6JTp05cc801x8Y+//nP82//9m/s2bOH8ePHM3LkSEaOHMkzzzwDwN69e5kwYQLDhw9n8ODBPPPMM8ybN49Dhw4xfPhwpk2bBsCiRYsYPHgwgwcPZvHixQAcPHiQc889l2HDhjF48OA2p6YSkdw2v2pbyuF12WknhuoC5VTpHBjAYzdCY4vJfBsPxceHXpx8nRRs376dkSNHJn2ud+/ebNiwgaKiInbu3MnUqVPZvHnzcbc82bdvHxMnTuTuu+8+Nv/hli1beOCBB9i0aRPWWsaOHcvpp5/O7t276du3L48++igABw4c8Fy7iESXm6mhwnqNVyq0BwZwoJVDeq2NezRr1iyGDRvG6NGjaWxs5KqrrmLIkCFcdNFFx26VMnr0aB544AEWLFjAtm3bkt6U86mnnuKCCy6guLiYrl27cuGFF/Lkk08yZMgQNmzYwNy5c3nyySfp3r27r/WLSPjlS3iBAiyue6m78RSdeuqpzWZ8v+eee3jsscd48803ufPOOykpKWHr1q1s3ryZjz6K3zyu6ZYn/fr1Y8aMGTz00EMpv94Xv/hFXnjhBYYMGcL8+fO58cYb06pfRKIln8ILFGBxZ/4HdGxx76+OXeLjafj617/O4cOHue+++46NNd0F+cCBA/Tp04eCggJ+/etfc/Ro/I7QLW95snXr1ng5HTvS2NgIwPjx46mqquKDDz7g4MGDPPLII4wfP57XX3+dT33qU1x22WXMmTNHt0sRySNnLYq5mpQ36uEFOgcW13Se67Eb44cNu5fGwyuN818AxhiqqqqYPXs2t912G5/97GcpLi5m4cKFjBw5km9+85ssX7782O1UAGKxWLNbntx7770AzJw5k6FDhzJy5Eh++9vfMmPGDMaMGQPAlVdeyYgRI1i/fj1z5syhoKCAjh07NgtOEcldZy2KsfONgyktG7YZ5dOhAGsy9OK0AyuZPn36sGLFiqTP1dbWHnu8cOFC4PhbnjTdTmXhwoXHlgGoqKigoqKi2fYmTpzIxIkTfatdRMLPTXiFfWoot3QIUUQkovI5vEABJiISSamGV+cOBTkZXqBDiCIikeLmRpSDehdHbnYNN3I6wKy1GGOyXUZkWGuzXYKItKGqup7ZK2tI5U9qrocX5PAhxKKiIvbv36+/lFNkrWX//v0UFRVluxQRacX3H96q8EqQs3tgpaWl1NXV8eabb7a6zOHDh0P/F3YmaywqKqK0NL2Lt0XEf02HDY/osGEzORtgHTt2ZODAgW0uE4vFGDFiRIYq8iYKNYpIcNzcyyufwgty+BCiiEjUubmXVxRvh5IuBZiISEh9/+GtKS2XS7NruKEAExEJobMWxTjycfstG4N6F+dleEEOnwMTEYkiN9d55eueVxMFmIhISLhp2MiF26GkS4cQRURCwG3DRr6HFyjARESyrqq6nutX1qS0bD6f82pJhxBFRLJI13l5pwATEcmSfL0RpV8UYCIiWTD25g3se/+jlJZVw0ZyOgcmIpJhZy2KpRxeathonacAM8YUGmOqjTFrnN8HGmM2GWN2GWNWGmM6OeOdnd93Oc8PSNjGDc74y8aYiQnjk5yxXcaYeWm+PxGR0KiqrueKPxzUYUOfeN0Duw7YkfD7QuBOa+0XgHeAK5zxK4B3nPE7neUwxpwCfAs4FZgE3OuEYiFwDzAZOAWY6iwrIhJp86u2cf3KGo6muPxlp52o8GqH6wAzxpQC5wK/dH43wNeB/3EWWQZMcR6f7/yO8/yZzvLnAyustR9aa/8K7ALGOD+7rLW7rbUfASucZUVEImva/c+m3GkIOueVKi9NHIuBHwDdnN9PAN611h5xfq8D+jmP+wGvAVhrjxhjDjjL9wOeS9hm4jqvtRgf66FGEZGsq6qup2JlDSnMCgVAgYFFFw9nyoh+7S8s7gLMGPMN4A1r7RZjTHkgFaVey0xgJkBJSQmxWMz1NhoaGjytl0mq0R+q0R+qMXXLth9m42upHjCEvsVwy/hiOLCTWGxngJWlJiyfY1vc7oGNA84zxpwDFAGfBn4G9DDGdHD2wkqBemf5eqA/UGeM6QB0B/YnjDdJXKe18WastUuAJQBlZWW2vLzc5VuJ3yzSy3qZpBr9oRr9oRpTM79qGxtfS/2QYRibNcLwObbH1Tkwa+0N1tpSa+0A4k0Yf7LWTgM2Av/sLDYd+J3zeLXzO87zf7LWWmf8W06X4kBgEPBn4HlgkNPV2Ml5jdWe352ISIa5mVkD1KyRDr8uZJ4LrDDG3ARUA79yxn8F/NoYswt4m3ggYa3dboypBF4EjgCzrLVHAYwx1wLrgUJgqbV2u081iogEykt4qVnDO88BZq2NATHn8W7iHYQtlzkMXNTK+jcDNycZXwus9VqXiEg2TLv/WZ5+5e2Ulu1QYLjjomFq1kiTppISEUmTm/D6Sk/Duh+cE3BF+UEBJiKShvlV21IOr8tOO5F/7LE/4Iryh+ZCFBHxyM0Fyjrf5T/tgYmIeODmVigKr2AowEREXHA7u8biSzSzRlAUYCIiKXLTrAEKr6ApwERE2lFVXc+ch2toTHW3i/hhQ4VXsBRgIiJtqKquZ/bKGmyKy3fuUMDCbw5VeGWAAkxEpA3ff3hryuE1qHcxGyrKgyxHEqiNXkQkiarqegb98FGOfJxafCm8Mk97YCIiLVRV11NRWUOK2RXK2eTzgQJMRKSFuf9bm1J46XxXdinAREQSnLUoxodH2m831F5X9ukcmIiII9XZNQb1LlZ4hYACTESE1MNr3Mk91awREgowEcl7qYaX7p4cLgowEclrbva8NCFvuKiJQ0TykptJeXXOK5wUYCKSd9xMyqsLlMNLASYiecXNfbwUXuGmc2AikjfmV21TeOUQBZiI5IX5Vdv4zXOvprSswisadAhRRHKeDhvmJu2BiUhOcxNel512osIrQrQHJiI5K9XwKgB233pu8AWJr7QHJiI5yc2e16JLhgdbjARCASYiOcftYUPdDiWadAhRRHJGvNMwteDqUGC446JhCq8IU4CJSE7Q7Br5R4cQRSTyFF75SXtgIhJpusYrfynARCSS3MwmDwqvXKQAE5HIcTMtFMTv5aXboeQeBZiIRIqb810Qb5PXjShzkwJMRCKhqrqeOQ/X0JjiMcPOHQpY+M2hapPPYQowEQm9qup6Zq+swaa4vM535QcFmIiEWlV1PdevrEl5+b7FKLzyhOvrwIwxRcaYPxtjthpjthtjfuKMDzTGbDLG7DLGrDTGdHLGOzu/73KeH5CwrRuc8ZeNMRMTxic5Y7uMMfN8eJ8iEkHT7n/WVXiNO7knt4wvDq4gCRUvFzJ/CHzdWjsMGA5MMsacBiwE7rTWfgF4B7jCWf4K4B1n/E5nOYwxpwDfAk4FJgH3GmMKjTGFwD3AZOAUYKqzrIjkkbMWxVw3a6jTML+4DjAb1+D82tH5scDXgf9xxpcBU5zH5zu/4zx/pjHGOOMrrLUfWmv/CuwCxjg/u6y1u621HwErnGVFJE+4uTi5c4cCFl8yXJ2GecjTOTBnL2kL8AXie0uvAO9aa484i9QBTa0//YDXAKy1R4wxB4ATnPHnEjabuM5rLcbHeqlTRKJn2v3Pphxeur4rv3kKMGvtUWC4MaYH8AjwZT+LSoUxZiYwE6CkpIRYLOZ6Gw0NDZ7WyyTV6A/V6I+ga1y2/TBPv3Y0pWX7FsNVgz48rp6wf45hr69JFOpMqwvRWvuuMWYj8FWghzGmg7MXVgrUO4vVA/2BOmNMB6A7sD9hvEniOq2NJ772EmAJQFlZmS0vL3ddfywWw8t6maQa/aEa/RFkjdPuf5anX0v9Hl6tHTIM++cY9vqaRKFOL12In3X2vDDGdAHOAnYAG4F/dhabDvzOebza+R3n+T9Za60z/i2nS3EgMAj4M/A8MMjpauxEvNFjtYf3JiIRkWrDxqDexey59Vyd7xLA2x5YH2CZcx6sAKi01q4xxrwIrDDG3ARUA79ylv8V8GtjzC7gbeKBhLV2uzGmEngROALMcg5NYoy5FlgPFAJLrbXbPb9DEQktN7NrFKDru6Q51wFmra0FRiQZ3028g7Dl+GHgola2dTNwc5LxtcBat7WJSHS4nZB30SXDgytGIkk3tBSRjHMbXpeddqLmNJTjaCopEckoN+GlCXmlLQowEckYN+FVALx80+RgC5JIU4CJSOCqquu5YVUth1K9Fwo65yXtU4CJSKDcnu8q7lTIzRcM0WFDaZcCTEQC46VZQ9d4hcyaCti8FFK+G5uBsu/ANxYFWRWgABORALi9ezIovEJpTQVs/lX7yzVjP1kn4BBTG72I+Gp+1TauX6nwirre+x73EF4JtjzoWy2t0R6YiPjG7SFDUHiFSm0l/P56aDzIV9Ldlk1tUuZ0KMBExLWq6noWrN7Ou4caPW9DzRohc/dYeOulY7+adLdnCtPdQrsUYCLiyrT7n3V1p+RkdB+vkLnjy9Cw199tjprh7/aSUICJSMp++ORBXj+Y2i1PWqNDhiHiqUmjPepCFJEQ8XJuqyXtdYVIbSWsmknqrfEJBp4O08NxhysFmIi0yks7fDLa6wqRZefBXx/3tm6IwgsUYCKShF/BBQqvUFlTkXJ4WZoaOTJ3SNAtBZiINONHkwaoyzCUXFybdbhjT7r86K/B1eIDBZiIHHPWohg733DXpNGhwHDHRcMUVGG3piL1a7MGns6mz1dQHmhB6VOAiQhV1fVUrKzB7RHDQb2L2VBRHkRJ4qcW13i1yhTABf8FQy+GWCzwstKlABPJQ15ub9KSzm1FQG0lrLoGSGHPK2QNGqlQgInkmXRb4tUOH1LpXNO14IC/tWSIAkwkT6TbWWiA8v6FPKDwCp90wisDUz4FRQEmkgfS6SxMPM8Vi8B5kbyUzszvGZjyKSgKMJEc56WzsImaNEKuafZ4rzO/l10Ryuu7UqUAE8lRXjsLm+hcVwjVVkLVLPj4o/S20+vLcO0mf2rKIgWYSA5Kp1FDFyCHUMJ9utIWwW7D1ijARHKM2/Dq3KGAhd8cqsAKi9pKWDcXDqU/G0ozXXrC5IXxa7xyhAJMJIe4bdbQYcIs83PPqiVTCD/2OQRDRgEmkgPctshr+qcQqK2EVVeD57OU7Yhwd2GqFGAiEef2kKE6C0MgnftxpSLi3YWpUoCJRFhVdb2r8NIhwyxyDheeHsThQoBOxfCNxTl1jqs9CjCRiHK756W5C7MoYaYM49c28zCwWlKAiUSQ24uTFV4Zls7UTu0p7Azn353XwdVEASYSMW7CSy3yGeLXBcYtKazapAATiQi3M2torysDgmiDz5MGDD8owERCzsusGuNO7qnwCtqy8+Cvj/u7TYWXKwowkRDzMou8Og0zYE2Ff+GVgzNkZIoCTCSEvNy7SxcnZ9DmpelvQ3tbaXMdYMaY/sByoIT4VXhLrLU/M8b0BFYCA4A9wMXW2neMMQb4GXAO8AEww1r7grOt6cB8Z9M3WWuXOeOjgAeBLsBa4DprbUBX/ImEi5dDhro4OUA+dxQeKSyiw/k/1x6XD7zsgR0B/o+19gVjTDdgizFmAzADeMxae6sxZh4wD5gLTAYGOT9jgfuAsU7g/RgoIx6EW4wxq6217zjLXAVsIh5gk4B13t+mSDR4uXeXwstHfre/mwIY9e1me1pPxWKUDy337zXymOsAs9buBfY6j983xuwA+gHnA+XOYsuAGPEAOx9Y7uxBPWeM6WGM6eMsu8Fa+zaAE4KTjDEx4NPW2uec8eXAFBRgkuOu/9NB3nXZha3zXT7yK7x0gXHGpHUOzBgzABhBfE+pxAk3gL8TP8QI8XB7LWG1OmesrfG6JOMiOcnLjSd1fZfP/AqvC+9XcGWQ5wAzxnQF/he43lr7XvxUV5y11hpjAj1nZYyZCcwEKCkpIRaLud5GQ0ODp/UySTX6I6w1LvzzB+x4290flTP6FzL91CI4sJNYbGdAlSUX1s8xUbIae+97nC++dA+F9sNW10tniicL1PedzK63e0M7n08UPkOIRp2eAswY05F4eP3WWrvKGd5njOljrd3rHCJ8wxmvB/onrF7qjNXzySHHpvGYM16aZPlmrLVLgCUAZWVltry8vOUi7YrFYnhZL5NUoz/CWONZi2LsdBFeYdjrCuPn2NKxGoO811YLpteXKZ25otlfXK2JwmcI0aizwO0KTlfhr4Ad1trEHtDVwHTn8XTgdwnjl5u404ADzqHG9cDZxpjPGGM+A5wNrHeee88Yc5rzWpcnbEsk8qqq6zlp3qOu5zJ8+abJOmSYgt77HocbPwurrspAeJl4O/y1mwJ+HUnGyx7YOOBfgG3GmBpn7IfArUClMeYK4G9A04HgtcRb6HcRb6P/NoC19m1jzE+B553lbmxq6AC+yydt9OtQA4fkCLct8gUGFl08XMGVqmXn8RW/Z8doouaM0PHShfgUrR8uPjPJ8haY1cq2lgLHXRFord0MDHZbm0iYuW2RV3t8CpI0X/h2uxLQxcYhp5k4RDJg7M0b2Pd+6j3yao9vRQbPaym8wk8BJhIgL7NqaBb5VgQxee5xDJR9R8EVEQowkYC4PWRYaOA/db4rOT8nz9W5rJyhABPxmZcLk8ed3JOrBn1IucIruS0PpLe+QisnKcBEfJTOIcOwXzSaVdbNPwcSGbhwiYIrRynARHzi9t5dapFPwZoK17cusTidiLrPVs5TgIn4QC3yPnPdsPFJ88XjEZhBQvyhABNJg5fzXXnfZehnK7wmz81rCjARj9weMgRYfEmeHzL0uxVe4ZXXFGAiHri9MDkME/FmnZ+t8ACm0L9tSSQpwERcqKqu5/qVNa7WyftDhk22POjv9kbN8Hd7EjkKMJEUeTlkqPDCv5tFNjEFMOrbmi1DFGAiqXDbZdihwHDHRcPy+5Ah+HvOS3MTSgsKMJEWvFyMnChvJ+L1e08LtLclbVKAiSTwcpiwSd5emFxbCVWz4OPUm1qaUSu8eKQAEyHenDHn4RoaPc5YVNKtE5t+dJa/RUVBbSVUfRc+bvS2fvf+Ci/xTAEmeU+HDD2qrYRHrgF71Nv6BYVw5n/4W5PkFQWY5JV0DhEmk1cXJtdW8rXHr4XYh+lvq7AznH+39r4kLQowyUlV1fXcsKqWQ4nHBP/wqK+vkW/hxaqr6eBq0qwkFFziIwWY5By/97JaKu5UyM0XDMmf8AJ47EZIK7x0p2PxnwJMcorbKZ5SkfcXI9dWwoHX3K3TpSfM/Wsw9Yg4FGCSE9JtxEhG8xdy7NChKx27xO/DJRIwBZhEVtLzXD7J287CltZcj6tDh937xzsLdY5LMkABJpGT7jVbbTHAtHw8ZJjWPbp0fkuyQwEmkeFncOVtUCVTWwmrZgLW/brd+8Psv/hekkgqFGASeukGV4GBK4d04oeX5uFMGS3VVsK6uXDIhy5NXYgsWaYAk1Dy6/xW0xRPsVjMn8KiLN1pnxJ1KoZvLNa5LskqBZiEjl/XceV9+3uidA4TttSxGH74evrbEUmTAkyyzu+mDAVXCz7ek+tjoOCfFvuyLZF0KcAkaxRcPlpTAZuX4sseVms6FfPSyVdzig4bSkgowCSj/L52S3c+JpgbSQ48HaavPm74jViMU/x9JRHPFGCSEUFcu5XXe1yJtjzo48Z0TZdEhwJMAuX3FE95OZFua5pa4r3ejwvirfBTfqFuQokkBZj4KqhZMrS35fDzcKFubSIRpwCTtD3zeiP/+u/rfJ+TULNlONKa5imJgg4w5T4Fl0SeAkzSMr9qG7+p9e/2JZoB3hFEY4bOb0mOcR1gxpilwDeAN6y1g52xnsBKYACwB7jYWvuOMcYAPwPOAT4AZlhrX3DWmQ7MdzZ7k7V2mTM+CngQ6AKsBa6z1gbYGyxe+H2oMK+Dywmr0wFiPm53wQEfNyYSPl72wB4E7gaWJ4zNAx6z1t5qjJnn/D4XmAwMcn7GAvcBY53A+zFQRvzClS3GmNXW2necZa4CNhEPsEnAOg91SgD8bMpQQwbN9rSMn9sdeLqfWxMJJdcBZq19whgzoMXw+UC583gZ8X9HznXGlzt7UM8ZY3oYY/o4y26w1r4NYIzZAEwyxsSAT1trn3PGlwNTUICFgl9TPOleWwl8bYF3tHINl0iu8escWIm1dq/z+O9AifO4H5B4L/I6Z6yt8bok45JFfux1aW+rFem0wCfS5LqSh3xv4rDWWmNM4OesjDEzgZkAJSUlnmYbb2hoCP0s5dmu8YdPHuR1j81vZ/QvZPqpRZ8MHNhJLLbTn8JcyvbnmMyQmn+nJ+4PHTb94arvO5ldX7zmkyfeBgJ+j2H8HFsKe41hr69JFOr0K8D2GWP6WGv3OocI33DG64H+CcuVOmP1fHLIsWk85oyXJln+ONbaJcASgLKyMlteXp5ssTbFYjG8rJdJ2aqxqrqeipU1bm4mf0wYr9nK6v9rXzsKDcbpJCyl+R+WTNCfmfSFvb4mUajTrwBbDUwHbnX++7uE8WuNMSuIN3EccEJuPXCLMeYzznJnAzdYa982xrxnjDmNeBPH5cDPfapRUuT1XJcOExJM+3vZFWp9F0nCSxv9fxPfe+pljKkj3k14K1BpjLkC+BvQdCB+LfEW+l3E2+i/DeAE1U+B553lbmxq6AC+yydt9OtQA0fGeG2N/0pPw7ofnBNMUVHiZ3ipBV6kXV66EKe28tSZSZa1wKxWtrMUWJpkfDMw2G1dkh4vjRpN1271OJCd81oZ5/eMGK1RC7xISjQTh3gKr8TzXNlqzAhEbSVUzYKP/ZtdxDW1wIukRAGWx7wE16DexWyoKA+moEwLZLom7yxgyq7IdhkikaEAy0NeOwxz6gLkkIUXGOr7TqJUzRoiKVOA5RkvHYY5OU9hEDNgpKKNjsJdsVjG2+JFokwBlie8dhjm1F5XIr9mwGiPpnUSCYwCLA94nQoqZ8MLwBQGH2IKL5FAKcByWFV1PTesqnV9o8mcPGTY0qgZ6Z0D092MRbJOAZajvO51hXEaKD/03vc43Hypu2u4NEGuSKgpwHKQl/DK6cOFtZV8eUcK3X2askkkUhRgOcRLo0bOHy5cdh789XEKUll2y4MKMJEIUYDlAK/nunJyryud6Z4y1ZkoIr5QgEVcVXU9s1fW4PYGbJEMr6AvPjaFwW1bRHynAIuwqup6rl9Z42qdyN7y5O6x8NZLwb7GqBnBbl9EfKUAiyCv9+uK5F4XxPe8Ag0vA85NIkUkOhRgEeK1NR4i0h6fqduVgC4yFskBCrCIOGtRjJ1vuP+LPTJ7XbWVsGomuD6b54Ha5UVyggIs5J55vZHvzHvU9czxoWyPz+IM8MduVaLgEskZCrAQqqquZ8Hq7bx7qNHT+hm5Z1fC4b7TAWLBvpw3n5zbejwWo7y8PNsFiYiPFGAhk855LsjQua7aSlh1NTj7hSbYV2vdhfdrmieRPKYAC5GsN2k4s1ZEQtkVCi+RPKcACwkvrfEdCgx3XDQsvfNctZWwbi4cct+Wnx1qeReROAVYllVV11OxssZ1k0ar57nWVMDmpWSkmy9ovb4M127KdhUiElIKsCzy/YLkLHb5+U7XaYlIOxRgWeB1r6vdaaC2PJhuaZmhm0GKiA8UYBnmZa+r3YuRs3zYUNdYiUg2KMAClG5LPMAZ/Qt5IFl4haj5or7vZEoVXiKSYQqwgHid+qlJU5PGiyt/Ajd/JzPzAx7jrtNvVyxGacAViYi0pADzmR97XccOGS47j69k8rqsTsXwjcU6NyUikaAA89HYmzew7/2PPK/f7Lou56LitGe5MIXw4+wfZhQR8ZsCLE1+7HFBi5k0aiv9mxFDN2kUkRylAPPIayt8SyXdOrHpR2c1H3zsxjS3CpqxQkRynQLMparqeuY8XENjuslFG+3xB+q8b1TnsUQkTyjAUlRVXc8Nq2o55DG5XN2fq3spHHgt9Y3rwmARyUMKsBSkc56rwMCii4e7m3D3zP+A338PGg81H1dQiYgcowBrQ7oNGoN6F7PhH9+A34+G33m7jssCRocFRUSOowBLIt0GjWNzFhY+Datmks4UTwbgo4Pw6nMKMBGRBAqwFrzOEA9JmjJu/Fd8m59wy4PqKBQRSRDaADPGTAJ+BhQCv7TW3hrUa1VV17Ng9XbePdTY6jLnFTzFjzssp6dpSL6AAVMPLAikRLBHA9qwiEg0hTLAjDGFwD3AWUAd8LwxZrW19kW/X6ty6X/yT3tu5nxzFDq3V5ffr+6CKczii4uIhE8oAwwYA+yy1u4GMMasAM4HfA2wd196jAv33kWHAj+3GhDNqCEi0kxY/+ruByReCFXnjPlqzN8fokM296pSYAF0ry0RkeMYa7NzE8S2GGP+GZhkrb3S+f1fgLHW2msTlpkJzAQoKSkZtWLFCtevM2Hj+RRkMMAs0NClP1vG3p3yOg0NDXTt2jW4onygGv2hGv0R9hrDXl+TbNV5xhlnbLHWlqWybFgPIdYD/RN+L3XGjrHWLgGWAJSVldny8nLXL/J6rBd9ect7lS6Zrn3o9v2/UO5inVgshpf3lkmq0R+q0R9hrzHs9TWJQp1hPYT4PDDIGDPQGNMJ+Baw2u8X+fPnLuVIJnZATUH8MOD3X8rAi4mI5IdQ7oFZa48YY64F1hNvo19qrd3u9+v0+PKZVPctZciWG+hMQpu6oe37cJkCGPVtnZcSEcmiUAYYgLV2LbA26NcZfd7VcN7VQb+MiIj4LKyHEEVERNqkABMRkUhSgImISCQpwEREJJIUYCIiEkkKMBERiaRQTiXlljHmTeBvHlbtBRmcisMb1egP1egP1Zi+sNfXJFt1ft5a+9lUFsyJAPPKGLM51Tm3skU1+kM1+kM1pi/s9TWJQp06hCgiIpGkABMRkUjK9wBbku0CUqAa/aEa/aEa0xf2+pqEvs68PgcmIiLRle97YCIiElXW2sj8EL/J5UbgRWA7cJ0z3hPYAOx0/vsZZ3waUAtsA54BhiVsaxLwMrALmNfGa/4BeBdY02J8ILDJWX8l0CmAGpcCbwB/aedzSfpegGudMQv0CuhzTKvGhOfvAhrCVh/wJFDj/LwOVGX5c0y6XBuv6UuNrW0nTN9HP2oM8vvo02cY+PfRZZ2uvo9+/2Q9lFwVC32Akc7jbsD/A04Bbmv6nwzMAxY6j/8h4X/WZGCT87gQeAU4CegEbAVOaeU1zwT+ieMDrBL4lvP4F8C/+lmj8/sEYGTLL0eLOlp9L8AIYACwh+Z/YYSmRuf5MuDXfPIXRqjqS1juf4HLs/U5trVcG6/p15+ZpNsJ0/fRjxqD/D76VV/Q38dU6/TyffT7J+uhlFbx8DvgLOL/UumT8OG/nGTZzwD1zuOvAusTnrsBuKGN1yknIcCI3+/yLaBDsu35UWPC2ICWX44Wz7f7XmjxF0aYanT+sG50Xq8hbPUljH0aeAf4dLY+x7aWS+U1/aix5XbC+H1Mp8ZMfB99+gwD/z62V6cf38d0fyJ7DswYM4D4v+g2ASXW2r3OU38HSpKscgWwznncD3gt4bk6ZyxVJwDvWmuPtLV+mjWmKq33EoIarwVWJ7xu2OprMgV4zFr7XhbrbEu7r+lXjS2201Iovo9p1JiR76MPn+EUMvB9bKfOtqTymmkL7R2Z22KM6Up89/l6a+17xphjz1lrrTHGtlj+DOL/g76mGsNTozGmL3AR8T3c0NXXwlTglxGos7XX9KXGltvxs+5s15ip76NPn2Hg30e//l8ne02/RG4PzBjTkfiH+ltr7SpneJ8xpo/zfB/iJxWblh9K/H/0+dba/c5wPfETlU1KgXpjzFhjTI3zc14bZewHehhjOiSu73ONrb3//gk1XtPae2lrGyGqcQTwBWCXMWYP8CljzK4Q1de0fC9gDPBokm1lss62tPWavtSYbDth+z6mWWPg30c/PsNMfB9TrLMtrb6mr4I4LhnUD/FzT8uBxS3Gb6f5CcPbnMcnEu/i+YcWy3cAdhPvJGw6SXpqG69bzvFNHA/TvInju37WmLDeANo+f9Pue+H4k+ahq9FZriGM9QHXAMuC+j6mWmdby7Xxmn79mUm6nTB9H/2sMYjvo1/1Bf19TLVOL99Hv39832CQP8R3cS3x1s8a5+cc4uekHiPesvlHoKez/C+Jn+hsWnZzwrbOId5d8wrwozZe80ngTeAQ8WPRE53xk4A/O1+Ah4HOAdT438BeoNF57StaqTHpewG+56x3hHjL7S/DVmOLZRrCWB8QAyYF/H1Mtc6ky7Xxmr7U2Np2wvR99KPGIL+PftVHwN9Hl3W6+j76/aOZOEREJJIidw5MREQEFGAiIhJRCjAREYkkBZiIiESSAkxERCJJASYiIpGkABMRkUhSgImISCQpwEREJJIUYCIiEkkKMBERiSQFmIiIRNL/B/Wi6NhnKDwaAAAAAElFTkSuQmCC' width=432.0/>\n",
              "            </div>\n",
              "        "
            ],
            "application/vnd.jupyter.widget-view+json": {
              "version_major": 2,
              "version_minor": 0,
              "model_id": "c8d177644f8849de8219fcf88ffc992d"
            }
          },
          "metadata": {
            "application/vnd.jupyter.widget-view+json": {
              "colab": {
                "custom_widget_manager": {
                  "url": "https://ssl.gstatic.com/colaboratory-static/widgets/colab-cdn-widget-manager/d2e234f7cc04bf79/manager.min.js"
                }
              }
            }
          }
        }
      ],
      "source": [
        "from google.colab import output\n",
        "output.enable_custom_widget_manager()\n",
        "\n",
        "\n",
        "X=ingre_gas.index\n",
        "Y1=ingre_gas[\"ingresos\"].cumsum()\n",
        "Y2=ingre_gas[\"gastos\"].cumsum()\n",
        "plt.rcParams[\"figure.autolayout\"] = True\n",
        "\n",
        "def mouse_event(event):\n",
        "    print('x: {} and y: {}'.format(event.xdata, event.ydata))\n",
        "\n",
        "fig = plt.figure()\n",
        "cid = fig.canvas.mpl_connect('button_press_event', mouse_event)\n",
        "\n",
        "\n",
        "\n",
        "plt.plot_date(X,Y1,label=\"Ingresos\")\n",
        "plt.plot_date(X,Y2,label=\"Gastos\")\n",
        "plt.grid()\n",
        "plt.legend(loc=\"best\")\n",
        "plt.show()"
      ]
    },
    {
      "cell_type": "code",
      "source": [],
      "metadata": {
        "id": "V1Y7_vu2g_AX"
      },
      "id": "V1Y7_vu2g_AX",
      "execution_count": 166,
      "outputs": []
    },
    {
      "cell_type": "code",
      "source": [
        "ejeX1=ingre_gas.head(180).reset_index().index.to_numpy()*len(ingre_gas[\"ingresos\"])/12\n",
        "#ejeX1=matplotlib.dates.date2num(ejeXt[ejeXt==ejeXt])\n",
        "ejeY1=pd.to_numeric(ingre_gas.head(180)[\"ingresos\"].cumsum())\n",
        "#ejeY=pd.to_numeric(ingre_gas[\"ingresos\"])\n",
        "X=ejeX1\n",
        "del ejeX1\n",
        "Y=ejeY1\n",
        "del ejeY1\n",
        "X=X[np.in1d(Y,Y[Y==Y])].reshape(-1,1)\n",
        "Y=Y[Y==Y].values.reshape(-1,1)\n",
        "X=sm.add_constant(X)\n",
        "model1 = sm.OLS(Y, X).fit()\n",
        "model1.summary()\n",
        "(model1.params, model1.rsquared,model1.pvalues)\n",
        "#np.arctan(model1.params[1])*180/np.pi"
      ],
      "metadata": {
        "colab": {
          "base_uri": "https://localhost:8080/"
        },
        "id": "KEswuCO8aHKM",
        "outputId": "fb3fe809-089e-4092-b93a-51f2672f850d"
      },
      "id": "KEswuCO8aHKM",
      "execution_count": 167,
      "outputs": [
        {
          "output_type": "execute_result",
          "data": {
            "text/plain": [
              "(array([-338.2771639 ,    1.23232762]),\n",
              " 0.9965508871331707,\n",
              " array([3.71162735e-021, 4.29359584e-221]))"
            ]
          },
          "metadata": {},
          "execution_count": 167
        }
      ]
    },
    {
      "cell_type": "code",
      "source": [
        "ejeX2=ingre_gas.head(180).reset_index().index.to_numpy()*len(ingre_gas[\"ingresos\"])/12\n",
        "#ejeX2=matplotlib.dates.date2num(ejeXt[ejeXt==ejeXt])\n",
        "ejeY2=pd.to_numeric(ingre_gas.head(180)[\"gastos\"].cumsum())\n",
        "#ejeY=pd.to_numeric(ingre_gas[\"ingresos\"])\n",
        "X=ejeX2\n",
        "del ejeX2\n",
        "Y=ejeY2\n",
        "del ejeY2\n",
        "X=X[np.in1d(Y,Y[Y==Y])].reshape(-1,1)\n",
        "Y=Y[Y==Y].values.reshape(-1,1)\n",
        "X=sm.add_constant(X)\n",
        "model2 = sm.OLS(Y, X).fit()\n",
        "model2.summary()\n",
        "(model2.params, model2.rsquared,model2.pvalues)\n",
        "#np.arctan(model2.params[1])*180/np.pi"
      ],
      "metadata": {
        "colab": {
          "base_uri": "https://localhost:8080/"
        },
        "id": "bzAFmTZ1enc0",
        "outputId": "96823f73-812e-45e5-8e61-5f99c2a57ad7"
      },
      "id": "bzAFmTZ1enc0",
      "execution_count": 168,
      "outputs": [
        {
          "output_type": "execute_result",
          "data": {
            "text/plain": [
              "(array([-568.18650706,    0.59606829]),\n",
              " 0.9330944741680607,\n",
              " array([4.10726291e-014, 1.80759620e-106]))"
            ]
          },
          "metadata": {},
          "execution_count": 168
        }
      ]
    },
    {
      "cell_type": "markdown",
      "source": [
        "##Resultado:"
      ],
      "metadata": {
        "id": "oS36L1eWuGEY"
      },
      "id": "oS36L1eWuGEY"
    },
    {
      "cell_type": "code",
      "source": [
        "ang=np.arctan(model1.params[1])*180/np.pi-np.arctan(model2.params[1])*180/np.pi\n",
        "criterios=[]\n",
        "if ang >7 and model2.pvalues[1]<0.05 and model1.pvalues[1]<0.05:\n",
        "  criterios.append(\"VERDE\")\n",
        "  print(f\"El ángulo formado por ingresos y egresos es de {np.round(ang,2)} grados y, tiene evidencia \\n estadística mayor al 95% de seguir acrecentando la diferencia\")\n",
        "else:\n",
        "  if ang >=5 and ang <=7:\n",
        "    criterios.append(\"AMARILLO\")\n",
        "    print(\"El ángulo formado por ingresos y egresos tiene evidencia \\n mayor al 95% de estar riesgosamente cerrado\")\n",
        "  else:\n",
        "    criterios.append(\"AMARILLO\")\n",
        "    print(\"El ángulo formado por ingresos y egresos tiene evidencia \\n mayor al 95% de ser muy cercano a cero\")\n"
      ],
      "metadata": {
        "colab": {
          "base_uri": "https://localhost:8080/"
        },
        "id": "9faKWfpmmNAy",
        "outputId": "724d26ad-64ed-46c5-c250-0c8d131476e7"
      },
      "id": "9faKWfpmmNAy",
      "execution_count": 169,
      "outputs": [
        {
          "output_type": "stream",
          "name": "stdout",
          "text": [
            "El ángulo formado por ingresos y egresos es de 20.14 grados y, tiene evidencia \n",
            " estadística mayor al 95% de seguir acrecentando la diferencia\n"
          ]
        }
      ]
    },
    {
      "cell_type": "markdown",
      "id": "figured-server",
      "metadata": {
        "id": "figured-server"
      },
      "source": [
        "# Segundo Criterio: Predicciones con model de series de tiempo SARIMA"
      ]
    },
    {
      "cell_type": "markdown",
      "source": [
        "____________________________________________________________\n",
        "**Descripción**: Se modela aquí el VPN (que es la ganancia neta que tiene en cuenta la devaluación del dinero), con un modelo de series de tiempo del tipo SARIMA. Se usa este tipo de modelo por el excelente ajuste que tiene para datos que varían en el tiempo especialmente cuando se tiene basta disponibilidad de datos. El modelo entregará predicciones con viabilidad estadística respecto a las próximas ganancias (9 semanas) del vehículo.\n",
        "____________________________________________________________"
      ],
      "metadata": {
        "id": "tfbTQnZ-uQs5"
      },
      "id": "tfbTQnZ-uQs5"
    },
    {
      "cell_type": "markdown",
      "source": [
        "##Cálculos y gráficas"
      ],
      "metadata": {
        "id": "dlS36TaJx_tA"
      },
      "id": "dlS36TaJx_tA"
    },
    {
      "cell_type": "markdown",
      "id": "light-speaking",
      "metadata": {
        "id": "light-speaking"
      },
      "source": [
        "Prueba de estacionareidad:"
      ]
    },
    {
      "cell_type": "code",
      "execution_count": 170,
      "id": "boring-highway",
      "metadata": {
        "colab": {
          "base_uri": "https://localhost:8080/",
          "height": 237
        },
        "id": "boring-highway",
        "outputId": "b7d2ecd2-e3df-4f1f-bf4d-742986cc095d"
      },
      "outputs": [
        {
          "output_type": "execute_result",
          "data": {
            "text/plain": [
              "            ingresos  gastos         Fi         vpn\n",
              "index                                              \n",
              "2020-10-08       0.0     0.0   0.000000    0.000000\n",
              "2020-10-09       0.0     0.0   0.000000    0.000000\n",
              "2020-10-10      40.0     0.0  39.973347   39.973347\n",
              "2020-10-11      60.0    20.0  39.960027   79.933373\n",
              "2020-10-12      60.0     0.0  59.920067  139.853440"
            ],
            "text/html": [
              "\n",
              "  <div id=\"df-2651b188-f192-4181-a8ea-272576f427bd\">\n",
              "    <div class=\"colab-df-container\">\n",
              "      <div>\n",
              "<style scoped>\n",
              "    .dataframe tbody tr th:only-of-type {\n",
              "        vertical-align: middle;\n",
              "    }\n",
              "\n",
              "    .dataframe tbody tr th {\n",
              "        vertical-align: top;\n",
              "    }\n",
              "\n",
              "    .dataframe thead th {\n",
              "        text-align: right;\n",
              "    }\n",
              "</style>\n",
              "<table border=\"1\" class=\"dataframe\">\n",
              "  <thead>\n",
              "    <tr style=\"text-align: right;\">\n",
              "      <th></th>\n",
              "      <th>ingresos</th>\n",
              "      <th>gastos</th>\n",
              "      <th>Fi</th>\n",
              "      <th>vpn</th>\n",
              "    </tr>\n",
              "    <tr>\n",
              "      <th>index</th>\n",
              "      <th></th>\n",
              "      <th></th>\n",
              "      <th></th>\n",
              "      <th></th>\n",
              "    </tr>\n",
              "  </thead>\n",
              "  <tbody>\n",
              "    <tr>\n",
              "      <th>2020-10-08</th>\n",
              "      <td>0.0</td>\n",
              "      <td>0.0</td>\n",
              "      <td>0.000000</td>\n",
              "      <td>0.000000</td>\n",
              "    </tr>\n",
              "    <tr>\n",
              "      <th>2020-10-09</th>\n",
              "      <td>0.0</td>\n",
              "      <td>0.0</td>\n",
              "      <td>0.000000</td>\n",
              "      <td>0.000000</td>\n",
              "    </tr>\n",
              "    <tr>\n",
              "      <th>2020-10-10</th>\n",
              "      <td>40.0</td>\n",
              "      <td>0.0</td>\n",
              "      <td>39.973347</td>\n",
              "      <td>39.973347</td>\n",
              "    </tr>\n",
              "    <tr>\n",
              "      <th>2020-10-11</th>\n",
              "      <td>60.0</td>\n",
              "      <td>20.0</td>\n",
              "      <td>39.960027</td>\n",
              "      <td>79.933373</td>\n",
              "    </tr>\n",
              "    <tr>\n",
              "      <th>2020-10-12</th>\n",
              "      <td>60.0</td>\n",
              "      <td>0.0</td>\n",
              "      <td>59.920067</td>\n",
              "      <td>139.853440</td>\n",
              "    </tr>\n",
              "  </tbody>\n",
              "</table>\n",
              "</div>\n",
              "      <button class=\"colab-df-convert\" onclick=\"convertToInteractive('df-2651b188-f192-4181-a8ea-272576f427bd')\"\n",
              "              title=\"Convert this dataframe to an interactive table.\"\n",
              "              style=\"display:none;\">\n",
              "        \n",
              "  <svg xmlns=\"http://www.w3.org/2000/svg\" height=\"24px\"viewBox=\"0 0 24 24\"\n",
              "       width=\"24px\">\n",
              "    <path d=\"M0 0h24v24H0V0z\" fill=\"none\"/>\n",
              "    <path d=\"M18.56 5.44l.94 2.06.94-2.06 2.06-.94-2.06-.94-.94-2.06-.94 2.06-2.06.94zm-11 1L8.5 8.5l.94-2.06 2.06-.94-2.06-.94L8.5 2.5l-.94 2.06-2.06.94zm10 10l.94 2.06.94-2.06 2.06-.94-2.06-.94-.94-2.06-.94 2.06-2.06.94z\"/><path d=\"M17.41 7.96l-1.37-1.37c-.4-.4-.92-.59-1.43-.59-.52 0-1.04.2-1.43.59L10.3 9.45l-7.72 7.72c-.78.78-.78 2.05 0 2.83L4 21.41c.39.39.9.59 1.41.59.51 0 1.02-.2 1.41-.59l7.78-7.78 2.81-2.81c.8-.78.8-2.07 0-2.86zM5.41 20L4 18.59l7.72-7.72 1.47 1.35L5.41 20z\"/>\n",
              "  </svg>\n",
              "      </button>\n",
              "      \n",
              "  <style>\n",
              "    .colab-df-container {\n",
              "      display:flex;\n",
              "      flex-wrap:wrap;\n",
              "      gap: 12px;\n",
              "    }\n",
              "\n",
              "    .colab-df-convert {\n",
              "      background-color: #E8F0FE;\n",
              "      border: none;\n",
              "      border-radius: 50%;\n",
              "      cursor: pointer;\n",
              "      display: none;\n",
              "      fill: #1967D2;\n",
              "      height: 32px;\n",
              "      padding: 0 0 0 0;\n",
              "      width: 32px;\n",
              "    }\n",
              "\n",
              "    .colab-df-convert:hover {\n",
              "      background-color: #E2EBFA;\n",
              "      box-shadow: 0px 1px 2px rgba(60, 64, 67, 0.3), 0px 1px 3px 1px rgba(60, 64, 67, 0.15);\n",
              "      fill: #174EA6;\n",
              "    }\n",
              "\n",
              "    [theme=dark] .colab-df-convert {\n",
              "      background-color: #3B4455;\n",
              "      fill: #D2E3FC;\n",
              "    }\n",
              "\n",
              "    [theme=dark] .colab-df-convert:hover {\n",
              "      background-color: #434B5C;\n",
              "      box-shadow: 0px 1px 3px 1px rgba(0, 0, 0, 0.15);\n",
              "      filter: drop-shadow(0px 1px 2px rgba(0, 0, 0, 0.3));\n",
              "      fill: #FFFFFF;\n",
              "    }\n",
              "  </style>\n",
              "\n",
              "      <script>\n",
              "        const buttonEl =\n",
              "          document.querySelector('#df-2651b188-f192-4181-a8ea-272576f427bd button.colab-df-convert');\n",
              "        buttonEl.style.display =\n",
              "          google.colab.kernel.accessAllowed ? 'block' : 'none';\n",
              "\n",
              "        async function convertToInteractive(key) {\n",
              "          const element = document.querySelector('#df-2651b188-f192-4181-a8ea-272576f427bd');\n",
              "          const dataTable =\n",
              "            await google.colab.kernel.invokeFunction('convertToInteractive',\n",
              "                                                     [key], {});\n",
              "          if (!dataTable) return;\n",
              "\n",
              "          const docLinkHtml = 'Like what you see? Visit the ' +\n",
              "            '<a target=\"_blank\" href=https://colab.research.google.com/notebooks/data_table.ipynb>data table notebook</a>'\n",
              "            + ' to learn more about interactive tables.';\n",
              "          element.innerHTML = '';\n",
              "          dataTable['output_type'] = 'display_data';\n",
              "          await google.colab.output.renderOutput(dataTable, element);\n",
              "          const docLink = document.createElement('div');\n",
              "          docLink.innerHTML = docLinkHtml;\n",
              "          element.appendChild(docLink);\n",
              "        }\n",
              "      </script>\n",
              "    </div>\n",
              "  </div>\n",
              "  "
            ]
          },
          "metadata": {},
          "execution_count": 170
        }
      ],
      "source": [
        "inversion=0#200000 #200 millones, porque todo está dividido en 1000\n",
        "ti=0.03333333/100 #tasa de interés TED, equivaltente a 12% EA para taxis en COL\n",
        "n=ingre_gas.reset_index().index\n",
        "ingre_gas[\"Fi\"]=(ingre_gas[\"ingresos\"]-ingre_gas[\"gastos\"])/((1+ti)**n)\n",
        "ingre_gas[\"Fi\"][0]=ingre_gas[\"Fi\"][0]-inversion\n",
        "ingre_gas[\"vpn\"]=ingre_gas[\"Fi\"].cumsum()\n",
        "ingre_gas_vpn=copy.deepcopy(ingre_gas)\n",
        "del ingre_gas\n",
        "ingre_gas_vpn.head()\n"
      ]
    },
    {
      "cell_type": "code",
      "source": [
        "ingre_gas_vpn.head()"
      ],
      "metadata": {
        "colab": {
          "base_uri": "https://localhost:8080/",
          "height": 237
        },
        "id": "H5dbZmxSWDEC",
        "outputId": "52cc82eb-4082-48d6-8d37-cc1a7906bfba"
      },
      "id": "H5dbZmxSWDEC",
      "execution_count": 171,
      "outputs": [
        {
          "output_type": "execute_result",
          "data": {
            "text/plain": [
              "            ingresos  gastos         Fi         vpn\n",
              "index                                              \n",
              "2020-10-08       0.0     0.0   0.000000    0.000000\n",
              "2020-10-09       0.0     0.0   0.000000    0.000000\n",
              "2020-10-10      40.0     0.0  39.973347   39.973347\n",
              "2020-10-11      60.0    20.0  39.960027   79.933373\n",
              "2020-10-12      60.0     0.0  59.920067  139.853440"
            ],
            "text/html": [
              "\n",
              "  <div id=\"df-595b3a38-5f89-4625-b551-ef6af70c9b59\">\n",
              "    <div class=\"colab-df-container\">\n",
              "      <div>\n",
              "<style scoped>\n",
              "    .dataframe tbody tr th:only-of-type {\n",
              "        vertical-align: middle;\n",
              "    }\n",
              "\n",
              "    .dataframe tbody tr th {\n",
              "        vertical-align: top;\n",
              "    }\n",
              "\n",
              "    .dataframe thead th {\n",
              "        text-align: right;\n",
              "    }\n",
              "</style>\n",
              "<table border=\"1\" class=\"dataframe\">\n",
              "  <thead>\n",
              "    <tr style=\"text-align: right;\">\n",
              "      <th></th>\n",
              "      <th>ingresos</th>\n",
              "      <th>gastos</th>\n",
              "      <th>Fi</th>\n",
              "      <th>vpn</th>\n",
              "    </tr>\n",
              "    <tr>\n",
              "      <th>index</th>\n",
              "      <th></th>\n",
              "      <th></th>\n",
              "      <th></th>\n",
              "      <th></th>\n",
              "    </tr>\n",
              "  </thead>\n",
              "  <tbody>\n",
              "    <tr>\n",
              "      <th>2020-10-08</th>\n",
              "      <td>0.0</td>\n",
              "      <td>0.0</td>\n",
              "      <td>0.000000</td>\n",
              "      <td>0.000000</td>\n",
              "    </tr>\n",
              "    <tr>\n",
              "      <th>2020-10-09</th>\n",
              "      <td>0.0</td>\n",
              "      <td>0.0</td>\n",
              "      <td>0.000000</td>\n",
              "      <td>0.000000</td>\n",
              "    </tr>\n",
              "    <tr>\n",
              "      <th>2020-10-10</th>\n",
              "      <td>40.0</td>\n",
              "      <td>0.0</td>\n",
              "      <td>39.973347</td>\n",
              "      <td>39.973347</td>\n",
              "    </tr>\n",
              "    <tr>\n",
              "      <th>2020-10-11</th>\n",
              "      <td>60.0</td>\n",
              "      <td>20.0</td>\n",
              "      <td>39.960027</td>\n",
              "      <td>79.933373</td>\n",
              "    </tr>\n",
              "    <tr>\n",
              "      <th>2020-10-12</th>\n",
              "      <td>60.0</td>\n",
              "      <td>0.0</td>\n",
              "      <td>59.920067</td>\n",
              "      <td>139.853440</td>\n",
              "    </tr>\n",
              "  </tbody>\n",
              "</table>\n",
              "</div>\n",
              "      <button class=\"colab-df-convert\" onclick=\"convertToInteractive('df-595b3a38-5f89-4625-b551-ef6af70c9b59')\"\n",
              "              title=\"Convert this dataframe to an interactive table.\"\n",
              "              style=\"display:none;\">\n",
              "        \n",
              "  <svg xmlns=\"http://www.w3.org/2000/svg\" height=\"24px\"viewBox=\"0 0 24 24\"\n",
              "       width=\"24px\">\n",
              "    <path d=\"M0 0h24v24H0V0z\" fill=\"none\"/>\n",
              "    <path d=\"M18.56 5.44l.94 2.06.94-2.06 2.06-.94-2.06-.94-.94-2.06-.94 2.06-2.06.94zm-11 1L8.5 8.5l.94-2.06 2.06-.94-2.06-.94L8.5 2.5l-.94 2.06-2.06.94zm10 10l.94 2.06.94-2.06 2.06-.94-2.06-.94-.94-2.06-.94 2.06-2.06.94z\"/><path d=\"M17.41 7.96l-1.37-1.37c-.4-.4-.92-.59-1.43-.59-.52 0-1.04.2-1.43.59L10.3 9.45l-7.72 7.72c-.78.78-.78 2.05 0 2.83L4 21.41c.39.39.9.59 1.41.59.51 0 1.02-.2 1.41-.59l7.78-7.78 2.81-2.81c.8-.78.8-2.07 0-2.86zM5.41 20L4 18.59l7.72-7.72 1.47 1.35L5.41 20z\"/>\n",
              "  </svg>\n",
              "      </button>\n",
              "      \n",
              "  <style>\n",
              "    .colab-df-container {\n",
              "      display:flex;\n",
              "      flex-wrap:wrap;\n",
              "      gap: 12px;\n",
              "    }\n",
              "\n",
              "    .colab-df-convert {\n",
              "      background-color: #E8F0FE;\n",
              "      border: none;\n",
              "      border-radius: 50%;\n",
              "      cursor: pointer;\n",
              "      display: none;\n",
              "      fill: #1967D2;\n",
              "      height: 32px;\n",
              "      padding: 0 0 0 0;\n",
              "      width: 32px;\n",
              "    }\n",
              "\n",
              "    .colab-df-convert:hover {\n",
              "      background-color: #E2EBFA;\n",
              "      box-shadow: 0px 1px 2px rgba(60, 64, 67, 0.3), 0px 1px 3px 1px rgba(60, 64, 67, 0.15);\n",
              "      fill: #174EA6;\n",
              "    }\n",
              "\n",
              "    [theme=dark] .colab-df-convert {\n",
              "      background-color: #3B4455;\n",
              "      fill: #D2E3FC;\n",
              "    }\n",
              "\n",
              "    [theme=dark] .colab-df-convert:hover {\n",
              "      background-color: #434B5C;\n",
              "      box-shadow: 0px 1px 3px 1px rgba(0, 0, 0, 0.15);\n",
              "      filter: drop-shadow(0px 1px 2px rgba(0, 0, 0, 0.3));\n",
              "      fill: #FFFFFF;\n",
              "    }\n",
              "  </style>\n",
              "\n",
              "      <script>\n",
              "        const buttonEl =\n",
              "          document.querySelector('#df-595b3a38-5f89-4625-b551-ef6af70c9b59 button.colab-df-convert');\n",
              "        buttonEl.style.display =\n",
              "          google.colab.kernel.accessAllowed ? 'block' : 'none';\n",
              "\n",
              "        async function convertToInteractive(key) {\n",
              "          const element = document.querySelector('#df-595b3a38-5f89-4625-b551-ef6af70c9b59');\n",
              "          const dataTable =\n",
              "            await google.colab.kernel.invokeFunction('convertToInteractive',\n",
              "                                                     [key], {});\n",
              "          if (!dataTable) return;\n",
              "\n",
              "          const docLinkHtml = 'Like what you see? Visit the ' +\n",
              "            '<a target=\"_blank\" href=https://colab.research.google.com/notebooks/data_table.ipynb>data table notebook</a>'\n",
              "            + ' to learn more about interactive tables.';\n",
              "          element.innerHTML = '';\n",
              "          dataTable['output_type'] = 'display_data';\n",
              "          await google.colab.output.renderOutput(dataTable, element);\n",
              "          const docLink = document.createElement('div');\n",
              "          docLink.innerHTML = docLinkHtml;\n",
              "          element.appendChild(docLink);\n",
              "        }\n",
              "      </script>\n",
              "    </div>\n",
              "  </div>\n",
              "  "
            ]
          },
          "metadata": {},
          "execution_count": 171
        }
      ]
    },
    {
      "cell_type": "code",
      "source": [],
      "metadata": {
        "id": "2H08tHNgYHWt"
      },
      "id": "2H08tHNgYHWt",
      "execution_count": 171,
      "outputs": []
    },
    {
      "cell_type": "code",
      "execution_count": 172,
      "id": "incorrect-blues",
      "metadata": {
        "colab": {
          "base_uri": "https://localhost:8080/"
        },
        "id": "incorrect-blues",
        "outputId": "f99eaf1a-82d3-4557-e7bd-a208506e9574"
      },
      "outputs": [
        {
          "output_type": "execute_result",
          "data": {
            "text/plain": [
              "(0.5122950191629977, True)"
            ]
          },
          "metadata": {},
          "execution_count": 172
        }
      ],
      "source": [
        "dias_mod=360\n",
        "\n",
        "adf=ADFTest(alpha=0.5)\n",
        "\n",
        "delta_dia=7\n",
        "\n",
        "datos=copy.deepcopy(ingre_gas_vpn.iloc[list(np.arange(0,len(ingre_gas_vpn[[\"vpn\"]])+1,delta_dia))].tail(dias_mod)[[\"vpn\"]])#\"vpn\"]])+1\n",
        "result=adf.should_diff(datos)\n",
        "result"
      ]
    },
    {
      "cell_type": "code",
      "execution_count": 173,
      "id": "still-record",
      "metadata": {
        "id": "still-record",
        "colab": {
          "base_uri": "https://localhost:8080/"
        },
        "outputId": "1a1338ab-2c10-41cb-eb1a-67bf598e123e"
      },
      "outputs": [
        {
          "output_type": "stream",
          "name": "stdout",
          "text": [
            "Performing stepwise search to minimize aic\n",
            " ARIMA(0,1,0)(0,0,0)[52] intercept   : AIC=1385.582, Time=0.02 sec\n"
          ]
        },
        {
          "output_type": "stream",
          "name": "stderr",
          "text": [
            "/usr/local/lib/python3.8/dist-packages/pmdarima/arima/_validation.py:76: UserWarning: stepwise model cannot be fit in parallel (n_jobs=1). Falling back to stepwise parameter search.\n",
            "  warnings.warn('stepwise model cannot be fit in parallel (n_jobs=%i). '\n"
          ]
        },
        {
          "output_type": "stream",
          "name": "stdout",
          "text": [
            " ARIMA(1,1,0)(1,0,0)[52] intercept   : AIC=1384.701, Time=2.30 sec\n",
            " ARIMA(0,1,1)(0,0,1)[52] intercept   : AIC=1385.138, Time=1.19 sec\n",
            " ARIMA(0,1,0)(0,0,0)[52]             : AIC=1412.470, Time=0.02 sec\n",
            " ARIMA(1,1,0)(0,0,0)[52] intercept   : AIC=1384.761, Time=0.06 sec\n",
            " ARIMA(1,1,0)(2,0,0)[52] intercept   : AIC=1386.701, Time=10.68 sec\n",
            " ARIMA(1,1,0)(1,0,1)[52] intercept   : AIC=1386.701, Time=1.95 sec\n",
            " ARIMA(1,1,0)(0,0,1)[52] intercept   : AIC=1384.703, Time=1.37 sec\n",
            " ARIMA(1,1,0)(2,0,1)[52] intercept   : AIC=1388.701, Time=15.25 sec\n",
            " ARIMA(0,1,0)(1,0,0)[52] intercept   : AIC=1384.683, Time=1.81 sec\n",
            " ARIMA(0,1,0)(2,0,0)[52] intercept   : AIC=1386.683, Time=6.91 sec\n",
            " ARIMA(0,1,0)(1,0,1)[52] intercept   : AIC=1386.683, Time=1.40 sec\n",
            " ARIMA(0,1,0)(0,0,1)[52] intercept   : AIC=1384.683, Time=1.16 sec\n",
            " ARIMA(0,1,0)(2,0,1)[52] intercept   : AIC=1388.683, Time=10.36 sec\n",
            " ARIMA(0,1,1)(1,0,0)[52] intercept   : AIC=1385.119, Time=2.61 sec\n",
            " ARIMA(1,1,1)(1,0,0)[52] intercept   : AIC=1383.841, Time=4.12 sec\n",
            " ARIMA(1,1,1)(0,0,0)[52] intercept   : AIC=1386.674, Time=0.08 sec\n",
            " ARIMA(1,1,1)(2,0,0)[52] intercept   : AIC=1385.832, Time=14.76 sec\n",
            " ARIMA(1,1,1)(1,0,1)[52] intercept   : AIC=1385.832, Time=3.74 sec\n",
            " ARIMA(1,1,1)(0,0,1)[52] intercept   : AIC=1383.833, Time=3.85 sec\n",
            " ARIMA(1,1,1)(0,0,2)[52] intercept   : AIC=inf, Time=17.99 sec\n",
            " ARIMA(1,1,1)(1,0,2)[52] intercept   : AIC=1387.832, Time=15.59 sec\n",
            " ARIMA(2,1,1)(0,0,1)[52] intercept   : AIC=1387.367, Time=2.38 sec\n",
            " ARIMA(1,1,2)(0,0,1)[52] intercept   : AIC=1387.757, Time=2.41 sec\n",
            " ARIMA(0,1,2)(0,0,1)[52] intercept   : AIC=1385.642, Time=1.71 sec\n",
            " ARIMA(2,1,0)(0,0,1)[52] intercept   : AIC=1385.363, Time=1.84 sec\n",
            " ARIMA(2,1,2)(0,0,1)[52] intercept   : AIC=1387.682, Time=3.11 sec\n",
            " ARIMA(1,1,1)(0,0,1)[52]             : AIC=inf, Time=1.84 sec\n",
            "\n",
            "Best model:  ARIMA(1,1,1)(0,0,1)[52] intercept\n",
            "Total fit time: 130.746 seconds\n"
          ]
        }
      ],
      "source": [
        "\n",
        "#with threadpool_limits(limits=1, user_api='blas'): #blas   you can use it for MKL also\n",
        "modelo_arima=auto_arima(datos, start_p=0, d=None, start_q=0, max_p=5, max_d=5, \n",
        "          max_q=5, start_P=0, D=None, start_Q=0, max_P=5, max_D=5, max_Q=5, \n",
        "           m=52, seasonal=result[1],  \n",
        "            n_jobs=-1, stepwise=True,\n",
        "            suppress_warnings=True, \n",
        "             error_action='warn', trace=True, random_state=20, \n",
        "             n_fits=50)"
      ]
    },
    {
      "cell_type": "code",
      "execution_count": 174,
      "id": "raising-syndicate",
      "metadata": {
        "scrolled": true,
        "id": "raising-syndicate",
        "colab": {
          "base_uri": "https://localhost:8080/"
        },
        "outputId": "7f46aa55-1a06-4146-f3a2-85cbf449a04b"
      },
      "outputs": [
        {
          "output_type": "stream",
          "name": "stderr",
          "text": [
            "/usr/local/lib/python3.8/dist-packages/statsmodels/tsa/base/tsa_model.py:834: ValueWarning: No supported index is available. Prediction results will be given with an integer index beginning at `start`.\n",
            "  return get_prediction_index(\n"
          ]
        },
        {
          "output_type": "execute_result",
          "data": {
            "text/plain": [
              "RangeIndex(start=96, stop=105, step=1)"
            ]
          },
          "metadata": {},
          "execution_count": 174
        }
      ],
      "source": [
        "dias_pred=9 #<- SON SEMANAS\n",
        "datos_predic_fut_X=modelo_arima.predict(n_periods=dias_pred)\n",
        "datos_predic_fut_X.index\n"
      ]
    },
    {
      "cell_type": "code",
      "execution_count": 175,
      "id": "general-thesaurus",
      "metadata": {
        "scrolled": true,
        "id": "general-thesaurus"
      },
      "outputs": [],
      "source": [
        "#datos_predic=pd.DataFrame()\n",
        "#datos_predic.head()#.predict_in_sample(return_conf_int=True)\n",
        "datos_predic=modelo_arima.fit(datos).predict_in_sample(return_conf_int=True)\n",
        "             #modelo_arima.fit(datos).predict(dias_pred,return_conf_int=True)\n",
        "            #modelo_arima.fit(datos).predict_in_sample(return_conf_int=True)"
      ]
    },
    {
      "cell_type": "code",
      "execution_count": 176,
      "id": "precious-edward",
      "metadata": {
        "id": "precious-edward",
        "colab": {
          "base_uri": "https://localhost:8080/"
        },
        "outputId": "6da55098-66ba-4720-f391-e29dba682522"
      },
      "outputs": [
        {
          "output_type": "stream",
          "name": "stderr",
          "text": [
            "/usr/local/lib/python3.8/dist-packages/statsmodels/tsa/base/tsa_model.py:834: ValueWarning: No supported index is available. Prediction results will be given with an integer index beginning at `start`.\n",
            "  return get_prediction_index(\n"
          ]
        }
      ],
      "source": [
        "\n",
        "#datos_predic_fut=pd.DataFrame(modelo_arima.predict(dias_pred,return_conf_int=True))\n",
        "                #index=pd.date_range(datos.index[len(datos.index)-1]\n",
        "                #+datetime.timedelta(days = 1),periods=60,freq=\"d\"))\n",
        "diaF=datos.index[len(datos.index)-1]\n",
        "datos_predic_fut_X.index=pd.to_datetime(pd.date_range(datos.index[len(datos.index)-1]\n",
        "                +datetime.timedelta(days = 1),periods=dias_pred,freq=\"w\"))\n",
        "datos_predic_fut_Y=modelo_arima.fit(datos).predict(dias_pred,return_conf_int=True)\n",
        "#datos_predic_fut.head()"
      ]
    },
    {
      "cell_type": "code",
      "execution_count": 177,
      "id": "religious-split",
      "metadata": {
        "id": "religious-split",
        "colab": {
          "base_uri": "https://localhost:8080/",
          "height": 377,
          "referenced_widgets": [
            "a7250364738549c08d9f5de0f6e047bf",
            "3a11dd9fd84d4e139e67ab2a11d870c1",
            "cd06a718104d474cb35a8c63acf70dc0",
            "9c15bc8b532e428b862c85ad21530554"
          ]
        },
        "outputId": "5e105cbf-5872-4cd2-aa95-f00f42317ed8"
      },
      "outputs": [
        {
          "output_type": "display_data",
          "data": {
            "text/plain": [
              "Canvas(toolbar=Toolbar(toolitems=[('Home', 'Reset original view', 'home', 'home'), ('Back', 'Back to previous …"
            ],
            "image/png": "[encoded data removed]",
            "text/html": [
              "\n",
              "            <div style=\"display: inline-block;\">\n",
              "                <div class=\"jupyter-widgets widget-label\" style=\"text-align: center;\">\n",
              "                    Figure\n",
              "                </div>\n",
              "                <img src='data:image/png;base64,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' width=432.0/>\n",
              "            </div>\n",
              "        "
            ],
            "application/vnd.jupyter.widget-view+json": {
              "version_major": 2,
              "version_minor": 0,
              "model_id": "a7250364738549c08d9f5de0f6e047bf"
            }
          },
          "metadata": {
            "application/vnd.jupyter.widget-view+json": {
              "colab": {
                "custom_widget_manager": {
                  "url": "https://ssl.gstatic.com/colaboratory-static/widgets/colab-cdn-widget-manager/d2e234f7cc04bf79/manager.min.js"
                }
              }
            }
          }
        }
      ],
      "source": [
        "corr=0\n",
        "plt.rcParams[\"figure.autolayout\"] = True\n",
        "\n",
        "def mouse_event(event):\n",
        "    print('x: {} and y: {}'.format(event.xdata, event.ydata))\n",
        "\n",
        "fig = plt.figure()\n",
        "cid = fig.canvas.mpl_connect('button_press_event', mouse_event)\n",
        "\n",
        "\n",
        "\n",
        "plt.plot(datos.tail(dias_mod-corr),label=\"Datos\",marker=\"2\")\n",
        "plt.plot(datos_predic[0].tail(dias_mod-corr),label=\"Calculados\",color=\"k\")\n",
        "plt.plot(datos_predic_fut_X,label=\"futuros\")\n",
        "\n",
        "plt.fill_between(datos_predic_fut_X.index,\n",
        "                datos_predic_fut_Y[1][:,0],\n",
        "                datos_predic_fut_Y[1][:,1],\n",
        "                color=\"k\",alpha=0.15,label=\"Interv Conf 2\")\n",
        "plt.fill_between(datos_predic[0].tail(dias_mod-corr).index,\n",
        "                datos_predic[1][-dias_mod-corr-1:len(datos_predic[0].tail(dias_mod-corr).index)+1][:,0],\n",
        "                datos_predic[1][-dias_mod-corr-1:len(datos_predic[0].tail(dias_mod-corr).index)+1][:,1],\n",
        "                color=\"crimson\",alpha=0.25,label=\"Interv Conf 1\")\n",
        "plt.legend(loc=\"upper left\")\n",
        "plt.show()"
      ]
    },
    {
      "cell_type": "code",
      "execution_count": 178,
      "id": "young-trainer",
      "metadata": {
        "scrolled": true,
        "id": "young-trainer",
        "colab": {
          "base_uri": "https://localhost:8080/",
          "height": 465
        },
        "outputId": "6ba83894-7f89-4be8-84cb-3b1c2681c807"
      },
      "outputs": [
        {
          "output_type": "execute_result",
          "data": {
            "text/plain": [
              "<class 'statsmodels.iolib.summary.Summary'>\n",
              "\"\"\"\n",
              "                                     SARIMAX Results                                      \n",
              "==========================================================================================\n",
              "Dep. Variable:                                  y   No. Observations:                   96\n",
              "Model:             SARIMAX(1, 1, 1)x(0, 0, 1, 52)   Log Likelihood                -686.916\n",
              "Date:                            Sun, 11 Dec 2022   AIC                           1383.833\n",
              "Time:                                    01:18:16   BIC                           1396.602\n",
              "Sample:                                         0   HQIC                          1388.992\n",
              "                                             - 96                                         \n",
              "Covariance Type:                              opg                                         \n",
              "==============================================================================\n",
              "                 coef    std err          z      P>|z|      [0.025      0.975]\n",
              "------------------------------------------------------------------------------\n",
              "intercept    385.9611    109.990      3.509      0.000     170.384     601.538\n",
              "ar.L1         -0.8492      0.207     -4.097      0.000      -1.255      -0.443\n",
              "ma.L1          0.7288      0.310      2.349      0.019       0.121       1.337\n",
              "ma.S.L52       0.1986      0.174      1.142      0.253      -0.142       0.539\n",
              "sigma2      1.092e+05   1.41e+04      7.742      0.000    8.16e+04    1.37e+05\n",
              "===================================================================================\n",
              "Ljung-Box (L1) (Q):                   0.01   Jarque-Bera (JB):               112.12\n",
              "Prob(Q):                              0.91   Prob(JB):                         0.00\n",
              "Heteroskedasticity (H):               0.80   Skew:                            -1.62\n",
              "Prob(H) (two-sided):                  0.53   Kurtosis:                         7.23\n",
              "===================================================================================\n",
              "\n",
              "Warnings:\n",
              "[1] Covariance matrix calculated using the outer product of gradients (complex-step).\n",
              "\"\"\""
            ],
            "text/html": [
              "<table class=\"simpletable\">\n",
              "<caption>SARIMAX Results</caption>\n",
              "<tr>\n",
              "  <th>Dep. Variable:</th>                  <td>y</td>               <th>  No. Observations:  </th>    <td>96</td>   \n",
              "</tr>\n",
              "<tr>\n",
              "  <th>Model:</th>           <td>SARIMAX(1, 1, 1)x(0, 0, 1, 52)</td> <th>  Log Likelihood     </th> <td>-686.916</td>\n",
              "</tr>\n",
              "<tr>\n",
              "  <th>Date:</th>                   <td>Sun, 11 Dec 2022</td>        <th>  AIC                </th> <td>1383.833</td>\n",
              "</tr>\n",
              "<tr>\n",
              "  <th>Time:</th>                       <td>01:18:16</td>            <th>  BIC                </th> <td>1396.602</td>\n",
              "</tr>\n",
              "<tr>\n",
              "  <th>Sample:</th>                         <td>0</td>               <th>  HQIC               </th> <td>1388.992</td>\n",
              "</tr>\n",
              "<tr>\n",
              "  <th></th>                              <td> - 96</td>             <th>                     </th>     <td> </td>   \n",
              "</tr>\n",
              "<tr>\n",
              "  <th>Covariance Type:</th>               <td>opg</td>              <th>                     </th>     <td> </td>   \n",
              "</tr>\n",
              "</table>\n",
              "<table class=\"simpletable\">\n",
              "<tr>\n",
              "      <td></td>         <th>coef</th>     <th>std err</th>      <th>z</th>      <th>P>|z|</th>  <th>[0.025</th>    <th>0.975]</th>  \n",
              "</tr>\n",
              "<tr>\n",
              "  <th>intercept</th> <td>  385.9611</td> <td>  109.990</td> <td>    3.509</td> <td> 0.000</td> <td>  170.384</td> <td>  601.538</td>\n",
              "</tr>\n",
              "<tr>\n",
              "  <th>ar.L1</th>     <td>   -0.8492</td> <td>    0.207</td> <td>   -4.097</td> <td> 0.000</td> <td>   -1.255</td> <td>   -0.443</td>\n",
              "</tr>\n",
              "<tr>\n",
              "  <th>ma.L1</th>     <td>    0.7288</td> <td>    0.310</td> <td>    2.349</td> <td> 0.019</td> <td>    0.121</td> <td>    1.337</td>\n",
              "</tr>\n",
              "<tr>\n",
              "  <th>ma.S.L52</th>  <td>    0.1986</td> <td>    0.174</td> <td>    1.142</td> <td> 0.253</td> <td>   -0.142</td> <td>    0.539</td>\n",
              "</tr>\n",
              "<tr>\n",
              "  <th>sigma2</th>    <td> 1.092e+05</td> <td> 1.41e+04</td> <td>    7.742</td> <td> 0.000</td> <td> 8.16e+04</td> <td> 1.37e+05</td>\n",
              "</tr>\n",
              "</table>\n",
              "<table class=\"simpletable\">\n",
              "<tr>\n",
              "  <th>Ljung-Box (L1) (Q):</th>     <td>0.01</td> <th>  Jarque-Bera (JB):  </th> <td>112.12</td>\n",
              "</tr>\n",
              "<tr>\n",
              "  <th>Prob(Q):</th>                <td>0.91</td> <th>  Prob(JB):          </th>  <td>0.00</td> \n",
              "</tr>\n",
              "<tr>\n",
              "  <th>Heteroskedasticity (H):</th> <td>0.80</td> <th>  Skew:              </th>  <td>-1.62</td>\n",
              "</tr>\n",
              "<tr>\n",
              "  <th>Prob(H) (two-sided):</th>    <td>0.53</td> <th>  Kurtosis:          </th>  <td>7.23</td> \n",
              "</tr>\n",
              "</table><br/><br/>Warnings:<br/>[1] Covariance matrix calculated using the outer product of gradients (complex-step)."
            ]
          },
          "metadata": {},
          "execution_count": 178
        }
      ],
      "source": [
        "modelo_arima.summary()"
      ]
    },
    {
      "cell_type": "markdown",
      "source": [
        "##Resultado:"
      ],
      "metadata": {
        "id": "x_WcqpG4euOB"
      },
      "id": "x_WcqpG4euOB"
    },
    {
      "cell_type": "code",
      "source": [
        "yuy=np.round(sum(sum(datos_predic[1]<datos.loc[diaF].values))*100/sum(sum(datos_predic[1]*0+1)),2)\n",
        "print(f\"Hay {yuy}% de probabilidad de aumento de \\n las ganancias netas en los próximos 2 meses\")\n",
        "if yuy>55:\n",
        "  criterios.append(\"VERDE\")\n",
        "else:\n",
        "  if yuy >=47 and yuy <=55:\n",
        "    criterios.append(\"AMARILLO\")\n",
        "  else:\n",
        "    criterios.append(\"ROJO\")"
      ],
      "metadata": {
        "id": "dcXDsv26dIhP",
        "colab": {
          "base_uri": "https://localhost:8080/",
          "height": 52
        },
        "outputId": "869a0aca-fcad-4887-dbb9-34cb2f333f2c"
      },
      "id": "dcXDsv26dIhP",
      "execution_count": 179,
      "outputs": [
        {
          "output_type": "stream",
          "name": "stdout",
          "text": [
            "Hay 96.35% de probabilidad de aumento de \n",
            " las ganancias netas en los próximos 2 meses\n"
          ]
        }
      ]
    },
    {
      "cell_type": "markdown",
      "id": "funded-definition",
      "metadata": {
        "id": "funded-definition"
      },
      "source": [
        "# Tercer criterio: Ingresos-Gastos (VPN) vs kilometraje\n"
      ]
    },
    {
      "cell_type": "markdown",
      "source": [
        "____________________________________________________________\n",
        "Descripción: Un supuesto razonable para un vehículo-taxi rentable, es que la ganancia sea proporcional al kilometraje, lo que es, que estas dos variables formen una línea recta. Así, un parámetro clave para el análisis de la factibilidad es el coeficiente R2, que da cuenta de qué tanto se puede explicar del VPN con el kilometraje, el R2 DEBE ser mayor a 0.9 para que se asegure que la ganancia (VPN) crezca con el kilometraje. Al final de esta sección está el resultado.\n",
        "____________________________________________________________"
      ],
      "metadata": {
        "id": "3icEKgXVvV6T"
      },
      "id": "3icEKgXVvV6T"
    },
    {
      "cell_type": "markdown",
      "source": [
        "##Cálculos y gráficas"
      ],
      "metadata": {
        "id": "tF_Rgn-Kx3sg"
      },
      "id": "tF_Rgn-Kx3sg"
    },
    {
      "cell_type": "code",
      "execution_count": 180,
      "id": "lightweight-permit",
      "metadata": {
        "id": "lightweight-permit"
      },
      "outputs": [],
      "source": [
        "%%capture\n",
        "km=pd.read_excel(r\"gps.xlsx\",skiprows=(0,1,2,3,4),\n",
        "                  parse_dates=[\"FECHA\"],\n",
        "date_parser=lambda x: pd.to_datetime(x, format=\"%d/%m/%Y\"), \n",
        "index_col=\"FECHA\")\n",
        "km.index=pd.to_datetime(pd.date_range(km.index[0],periods=len(km[\"PLACA\"]),freq=\"d\"))\n",
        "km_n=copy.deepcopy(km.fillna(0))\n",
        "del km\n",
        "km_n\n",
        "km=copy.deepcopy(km_n)\n",
        "del km_n\n",
        "#km"
      ]
    },
    {
      "cell_type": "markdown",
      "source": [
        "Gráfica VPN vs kilometraje"
      ],
      "metadata": {
        "id": "RBBKCvFt9wyB"
      },
      "id": "RBBKCvFt9wyB"
    },
    {
      "cell_type": "code",
      "execution_count": 181,
      "id": "answering-plenty",
      "metadata": {
        "id": "answering-plenty"
      },
      "outputs": [],
      "source": [
        "\n",
        "#plt.figure()\n",
        "\n",
        "#plt.plot(km.index,km[\"KM_ACUMULADO\"])\n",
        "km[\"acum2\"]=copy.deepcopy(km[\"KIL_DIA\"])\n",
        "km[\"km_dia\"]=copy.deepcopy(km[\"KIL_DIA\"])\n",
        "km.loc[km.index[0],\"acum2\"]=copy.deepcopy(km[\"KM_ACUMULADO\"][0])\n",
        "km[\"acum2\"]=copy.deepcopy(km[\"acum2\"].cumsum())\n",
        "#plt.plot(km[\"acum2\"],km[\"vpn\"])\n",
        "\n",
        "#plt.show()"
      ]
    },
    {
      "cell_type": "code",
      "execution_count": 182,
      "id": "cellular-circus",
      "metadata": {
        "id": "cellular-circus",
        "colab": {
          "base_uri": "https://localhost:8080/",
          "height": 237
        },
        "outputId": "e1671127-a834-47fe-f2d6-edb89e99a451"
      },
      "outputs": [
        {
          "output_type": "execute_result",
          "data": {
            "text/plain": [
              "            ingresos  gastos         Fi           vpn    km_acum  km_dia\n",
              "index                                                                   \n",
              "2022-10-27      72.0   0.000  57.687263  19714.963783  164850.63  179.79\n",
              "2022-10-28     110.0   0.000  88.103951  19803.067734  164996.36  145.73\n",
              "2022-10-29     110.0  20.003  72.058629  19875.126362  165167.98  171.62\n",
              "2022-10-30     105.0   0.000  84.043188  19959.169550  165326.05  158.07\n",
              "2022-10-31     110.0   0.000  88.015906  20047.185456  165333.15    7.10"
            ],
            "text/html": [
              "\n",
              "  <div id=\"df-0d12ef54-dc23-4de1-8abb-2489176e85af\">\n",
              "    <div class=\"colab-df-container\">\n",
              "      <div>\n",
              "<style scoped>\n",
              "    .dataframe tbody tr th:only-of-type {\n",
              "        vertical-align: middle;\n",
              "    }\n",
              "\n",
              "    .dataframe tbody tr th {\n",
              "        vertical-align: top;\n",
              "    }\n",
              "\n",
              "    .dataframe thead th {\n",
              "        text-align: right;\n",
              "    }\n",
              "</style>\n",
              "<table border=\"1\" class=\"dataframe\">\n",
              "  <thead>\n",
              "    <tr style=\"text-align: right;\">\n",
              "      <th></th>\n",
              "      <th>ingresos</th>\n",
              "      <th>gastos</th>\n",
              "      <th>Fi</th>\n",
              "      <th>vpn</th>\n",
              "      <th>km_acum</th>\n",
              "      <th>km_dia</th>\n",
              "    </tr>\n",
              "    <tr>\n",
              "      <th>index</th>\n",
              "      <th></th>\n",
              "      <th></th>\n",
              "      <th></th>\n",
              "      <th></th>\n",
              "      <th></th>\n",
              "      <th></th>\n",
              "    </tr>\n",
              "  </thead>\n",
              "  <tbody>\n",
              "    <tr>\n",
              "      <th>2022-10-27</th>\n",
              "      <td>72.0</td>\n",
              "      <td>0.000</td>\n",
              "      <td>57.687263</td>\n",
              "      <td>19714.963783</td>\n",
              "      <td>164850.63</td>\n",
              "      <td>179.79</td>\n",
              "    </tr>\n",
              "    <tr>\n",
              "      <th>2022-10-28</th>\n",
              "      <td>110.0</td>\n",
              "      <td>0.000</td>\n",
              "      <td>88.103951</td>\n",
              "      <td>19803.067734</td>\n",
              "      <td>164996.36</td>\n",
              "      <td>145.73</td>\n",
              "    </tr>\n",
              "    <tr>\n",
              "      <th>2022-10-29</th>\n",
              "      <td>110.0</td>\n",
              "      <td>20.003</td>\n",
              "      <td>72.058629</td>\n",
              "      <td>19875.126362</td>\n",
              "      <td>165167.98</td>\n",
              "      <td>171.62</td>\n",
              "    </tr>\n",
              "    <tr>\n",
              "      <th>2022-10-30</th>\n",
              "      <td>105.0</td>\n",
              "      <td>0.000</td>\n",
              "      <td>84.043188</td>\n",
              "      <td>19959.169550</td>\n",
              "      <td>165326.05</td>\n",
              "      <td>158.07</td>\n",
              "    </tr>\n",
              "    <tr>\n",
              "      <th>2022-10-31</th>\n",
              "      <td>110.0</td>\n",
              "      <td>0.000</td>\n",
              "      <td>88.015906</td>\n",
              "      <td>20047.185456</td>\n",
              "      <td>165333.15</td>\n",
              "      <td>7.10</td>\n",
              "    </tr>\n",
              "  </tbody>\n",
              "</table>\n",
              "</div>\n",
              "      <button class=\"colab-df-convert\" onclick=\"convertToInteractive('df-0d12ef54-dc23-4de1-8abb-2489176e85af')\"\n",
              "              title=\"Convert this dataframe to an interactive table.\"\n",
              "              style=\"display:none;\">\n",
              "        \n",
              "  <svg xmlns=\"http://www.w3.org/2000/svg\" height=\"24px\"viewBox=\"0 0 24 24\"\n",
              "       width=\"24px\">\n",
              "    <path d=\"M0 0h24v24H0V0z\" fill=\"none\"/>\n",
              "    <path d=\"M18.56 5.44l.94 2.06.94-2.06 2.06-.94-2.06-.94-.94-2.06-.94 2.06-2.06.94zm-11 1L8.5 8.5l.94-2.06 2.06-.94-2.06-.94L8.5 2.5l-.94 2.06-2.06.94zm10 10l.94 2.06.94-2.06 2.06-.94-2.06-.94-.94-2.06-.94 2.06-2.06.94z\"/><path d=\"M17.41 7.96l-1.37-1.37c-.4-.4-.92-.59-1.43-.59-.52 0-1.04.2-1.43.59L10.3 9.45l-7.72 7.72c-.78.78-.78 2.05 0 2.83L4 21.41c.39.39.9.59 1.41.59.51 0 1.02-.2 1.41-.59l7.78-7.78 2.81-2.81c.8-.78.8-2.07 0-2.86zM5.41 20L4 18.59l7.72-7.72 1.47 1.35L5.41 20z\"/>\n",
              "  </svg>\n",
              "      </button>\n",
              "      \n",
              "  <style>\n",
              "    .colab-df-container {\n",
              "      display:flex;\n",
              "      flex-wrap:wrap;\n",
              "      gap: 12px;\n",
              "    }\n",
              "\n",
              "    .colab-df-convert {\n",
              "      background-color: #E8F0FE;\n",
              "      border: none;\n",
              "      border-radius: 50%;\n",
              "      cursor: pointer;\n",
              "      display: none;\n",
              "      fill: #1967D2;\n",
              "      height: 32px;\n",
              "      padding: 0 0 0 0;\n",
              "      width: 32px;\n",
              "    }\n",
              "\n",
              "    .colab-df-convert:hover {\n",
              "      background-color: #E2EBFA;\n",
              "      box-shadow: 0px 1px 2px rgba(60, 64, 67, 0.3), 0px 1px 3px 1px rgba(60, 64, 67, 0.15);\n",
              "      fill: #174EA6;\n",
              "    }\n",
              "\n",
              "    [theme=dark] .colab-df-convert {\n",
              "      background-color: #3B4455;\n",
              "      fill: #D2E3FC;\n",
              "    }\n",
              "\n",
              "    [theme=dark] .colab-df-convert:hover {\n",
              "      background-color: #434B5C;\n",
              "      box-shadow: 0px 1px 3px 1px rgba(0, 0, 0, 0.15);\n",
              "      filter: drop-shadow(0px 1px 2px rgba(0, 0, 0, 0.3));\n",
              "      fill: #FFFFFF;\n",
              "    }\n",
              "  </style>\n",
              "\n",
              "      <script>\n",
              "        const buttonEl =\n",
              "          document.querySelector('#df-0d12ef54-dc23-4de1-8abb-2489176e85af button.colab-df-convert');\n",
              "        buttonEl.style.display =\n",
              "          google.colab.kernel.accessAllowed ? 'block' : 'none';\n",
              "\n",
              "        async function convertToInteractive(key) {\n",
              "          const element = document.querySelector('#df-0d12ef54-dc23-4de1-8abb-2489176e85af');\n",
              "          const dataTable =\n",
              "            await google.colab.kernel.invokeFunction('convertToInteractive',\n",
              "                                                     [key], {});\n",
              "          if (!dataTable) return;\n",
              "\n",
              "          const docLinkHtml = 'Like what you see? Visit the ' +\n",
              "            '<a target=\"_blank\" href=https://colab.research.google.com/notebooks/data_table.ipynb>data table notebook</a>'\n",
              "            + ' to learn more about interactive tables.';\n",
              "          element.innerHTML = '';\n",
              "          dataTable['output_type'] = 'display_data';\n",
              "          await google.colab.output.renderOutput(dataTable, element);\n",
              "          const docLink = document.createElement('div');\n",
              "          docLink.innerHTML = docLinkHtml;\n",
              "          element.appendChild(docLink);\n",
              "        }\n",
              "      </script>\n",
              "    </div>\n",
              "  </div>\n",
              "  "
            ]
          },
          "metadata": {},
          "execution_count": 182
        }
      ],
      "source": [
        "ingre_gas_vpn[\"km_acum\"]=km[\"acum2\"]\n",
        "ingre_gas_vpn[\"km_dia\"]=km[\"km_dia\"]\n",
        "ingre_gas_vpn_km=copy.deepcopy(ingre_gas_vpn.fillna(0))\n",
        "del ingre_gas_vpn\n",
        "ingre_gas_vpn_km.tail(5)"
      ]
    },
    {
      "cell_type": "markdown",
      "id": "dependent-clinton",
      "metadata": {
        "id": "dependent-clinton"
      },
      "source": [
        "Fecha en que se empiezan a tomar datos de km: (datos de ingresos hay desde 2020"
      ]
    },
    {
      "cell_type": "code",
      "execution_count": 183,
      "id": "positive-philosophy",
      "metadata": {
        "id": "positive-philosophy",
        "colab": {
          "base_uri": "https://localhost:8080/",
          "height": 34
        },
        "outputId": "b6e30b76-5521-4800-d0d1-11996b4768a3"
      },
      "outputs": [
        {
          "output_type": "execute_result",
          "data": {
            "text/plain": [
              "Timestamp('2021-01-02 00:00:00')"
            ]
          },
          "metadata": {},
          "execution_count": 183
        }
      ],
      "source": [
        "fil=(ingre_gas_vpn_km[\"km_acum\"]>0) & (ingre_gas_vpn_km[\"ingresos\"]>0) & ingre_gas_vpn_km[\"gastos\"]>0\n",
        "ingre_gas_vpn_km[fil].index[0]"
      ]
    },
    {
      "cell_type": "code",
      "execution_count": 184,
      "id": "revised-situation",
      "metadata": {
        "colab": {
          "base_uri": "https://localhost:8080/",
          "height": 394,
          "referenced_widgets": [
            "70f28fd3c4bf48fd9ed7d691048c4b33",
            "bde82f6ed8524d8d8c105f2c0c0ac105",
            "4e61c562ee8b4d63b2c80f07d1330273",
            "f05fee8b587246a99a03694eb48296de"
          ]
        },
        "id": "revised-situation",
        "outputId": "33e6ce68-ef8d-405e-9a00-729cd65a04b8"
      },
      "outputs": [
        {
          "output_type": "stream",
          "name": "stdout",
          "text": [
            "Gráfica KM vs fechas \n"
          ]
        },
        {
          "output_type": "display_data",
          "data": {
            "text/plain": [
              "Canvas(toolbar=Toolbar(toolitems=[('Home', 'Reset original view', 'home', 'home'), ('Back', 'Back to previous …"
            ],
            "image/png": "[encoded data removed]",
            "text/html": [
              "\n",
              "            <div style=\"display: inline-block;\">\n",
              "                <div class=\"jupyter-widgets widget-label\" style=\"text-align: center;\">\n",
              "                    Figure\n",
              "                </div>\n",
              "                <img src='data:image/png;base64,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' width=432.0/>\n",
              "            </div>\n",
              "        "
            ],
            "application/vnd.jupyter.widget-view+json": {
              "version_major": 2,
              "version_minor": 0,
              "model_id": "70f28fd3c4bf48fd9ed7d691048c4b33"
            }
          },
          "metadata": {
            "application/vnd.jupyter.widget-view+json": {
              "colab": {
                "custom_widget_manager": {
                  "url": "https://ssl.gstatic.com/colaboratory-static/widgets/colab-cdn-widget-manager/d2e234f7cc04bf79/manager.min.js"
                }
              }
            }
          }
        }
      ],
      "source": [
        "X=ingre_gas_vpn_km[fil].index\n",
        "Y3=ingre_gas_vpn_km[fil][\"km_acum\"]\n",
        "\n",
        "plt.figure()\n",
        "plt.plot_date(X,Y3)\n",
        "plt.grid()\n",
        "#plt.legend(loc=\"best\")\n",
        "#plt.figure(figsize=(8, 6), dpi=180)\n",
        "plt.xlabel(\"X\")\n",
        "plt.ylabel(\"Y\")\n",
        "#plt.savefig(\"grafica_vpn.pdf\")\n",
        "print(\"Gráfica KM vs fechas \")\n",
        "plt.show()"
      ]
    },
    {
      "cell_type": "code",
      "source": [
        "np.mean(np.diff(Y3))#/(np.diff(Y3)+1e-2))"
      ],
      "metadata": {
        "colab": {
          "base_uri": "https://localhost:8080/",
          "height": 34
        },
        "id": "3FxHHs5BXRdm",
        "outputId": "041bdcd6-8cca-4b4d-eb24-5e3a3796531c"
      },
      "id": "3FxHHs5BXRdm",
      "execution_count": 185,
      "outputs": [
        {
          "output_type": "execute_result",
          "data": {
            "text/plain": [
              "806.7626315789472"
            ]
          },
          "metadata": {},
          "execution_count": 185
        }
      ]
    },
    {
      "cell_type": "code",
      "source": [
        "diasINT=[]\n",
        "for i in range(len(X)-1):\n",
        "  gggd=X[1+i]-X[0+i]\n",
        "  diasINT.append(gggd.days)\n",
        "np.mean(diasINT)"
      ],
      "metadata": {
        "colab": {
          "base_uri": "https://localhost:8080/",
          "height": 34
        },
        "id": "LAkg6wmMX1ck",
        "outputId": "27c93dba-f79e-4d77-e30c-62fb6d6bee06"
      },
      "id": "LAkg6wmMX1ck",
      "execution_count": 186,
      "outputs": [
        {
          "output_type": "execute_result",
          "data": {
            "text/plain": [
              "5.0"
            ]
          },
          "metadata": {},
          "execution_count": 186
        }
      ]
    },
    {
      "cell_type": "code",
      "execution_count": 187,
      "id": "legislative-demonstration",
      "metadata": {
        "id": "legislative-demonstration"
      },
      "outputs": [],
      "source": [
        "ejeX=ingre_gas_vpn_km[fil][\"km_acum\"].values\n",
        "####ejeX=matplotlib.dates.date2num(ejeX[ejeX==ejeX])\n",
        "ejeY=pd.to_numeric(ingre_gas_vpn_km[fil][\"vpn\"])\n",
        "#ejeY=pd.to_numeric(ingre_gas_vpn_km[fil][\"ingresos\"])\n",
        "X=ejeX\n",
        "del ejeX\n",
        "Y=ejeY\n",
        "del ejeY\n",
        "X=X[np.in1d(Y,Y[Y==Y])].reshape(-1,1)\n",
        "Y=Y[Y==Y].values.reshape(-1,1)\n",
        "X=sm.add_constant(X)\n",
        "model = sm.OLS(Y, X).fit()\n"
      ]
    },
    {
      "cell_type": "code",
      "source": [
        "(model.params, model.rsquared,model.pvalues)"
      ],
      "metadata": {
        "id": "4Z8ekzb9hfYm",
        "colab": {
          "base_uri": "https://localhost:8080/",
          "height": 69
        },
        "outputId": "9529eff6-2e77-472c-fff2-2ed7d12fef56"
      },
      "id": "4Z8ekzb9hfYm",
      "execution_count": 188,
      "outputs": [
        {
          "output_type": "execute_result",
          "data": {
            "text/plain": [
              "(array([-8.78941132e+03,  1.68414065e-01]),\n",
              " 0.9607789934358306,\n",
              " array([1.70959279e-48, 1.05104943e-94]))"
            ]
          },
          "metadata": {},
          "execution_count": 188
        }
      ]
    },
    {
      "cell_type": "markdown",
      "source": [
        "Intervalos de confianza de la regresión:"
      ],
      "metadata": {
        "id": "eeQEkT4sZ1rb"
      },
      "id": "eeQEkT4sZ1rb"
    },
    {
      "cell_type": "code",
      "source": [
        "st, data, ss2 = summary_table(model, alpha=0.05)\n",
        "\n",
        "fittedvalues = data[:, 2]\n",
        "predict_mean_se  = data[:, 3]\n",
        "predict_mean_ci_low, predict_mean_ci_upp = data[:, 4:6].T\n",
        "predict_ci_low, predict_ci_upp = data[:, 6:8].T"
      ],
      "metadata": {
        "id": "PeGKQv1mocYx"
      },
      "id": "PeGKQv1mocYx",
      "execution_count": 189,
      "outputs": []
    },
    {
      "cell_type": "code",
      "source": [
        "#plt.figure()\n",
        "\n",
        "\n",
        "#plt.rcParams[\"figure.figsize\"] = [7.00, 3.50]\n",
        "plt.rcParams[\"figure.autolayout\"] = True\n",
        "\n",
        "def mouse_event(event):\n",
        "    print('x: {} and y: {}'.format(event.xdata, event.ydata))\n",
        "\n",
        "fig = plt.figure()\n",
        "cid = fig.canvas.mpl_connect('button_press_event', mouse_event)\n",
        "\n",
        "\n",
        "\n",
        "plt.plot(X[:,1],model.predict(X))\n",
        "\n",
        "plt.scatter(X[:,1],Y)\n",
        "\n",
        "plt.fill_between(X[:,1],\n",
        "                predict_ci_low,\n",
        "                predict_ci_upp,\n",
        "                color=\"teal\",alpha=0.25)\n",
        "\n",
        "#plt.fill_between(X[:,1],\n",
        "#                predict_mean_ci_low,\n",
        "#                predict_mean_ci_upp,\n",
        "#                color=\"r\",alpha=0.35)\n",
        "#print(\"Datos y REGRESIÓN vpn vs kilometraje\")\n",
        "plt.show()\n",
        "\n"
      ],
      "metadata": {
        "id": "XMaNi41BfWpB",
        "colab": {
          "base_uri": "https://localhost:8080/",
          "height": 377,
          "referenced_widgets": [
            "c7ab5a50a70747ab90c6f19b1e81ece9",
            "ec797fcd3dfa446fa1d6c30bff16bfa5",
            "265560681e2640989805988bc52aeb0d",
            "801610860c2340e5aa33d1cc426cf22b"
          ]
        },
        "outputId": "d6d10192-080e-4977-9471-6a79ad21efd2"
      },
      "id": "XMaNi41BfWpB",
      "execution_count": 190,
      "outputs": [
        {
          "output_type": "display_data",
          "data": {
            "text/plain": [
              "Canvas(toolbar=Toolbar(toolitems=[('Home', 'Reset original view', 'home', 'home'), ('Back', 'Back to previous …"
            ],
            "image/png": "[encoded data removed]",
            "text/html": [
              "\n",
              "            <div style=\"display: inline-block;\">\n",
              "                <div class=\"jupyter-widgets widget-label\" style=\"text-align: center;\">\n",
              "                    Figure\n",
              "                </div>\n",
              "                <img src='data:image/png;base64,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' width=432.0/>\n",
              "            </div>\n",
              "        "
            ],
            "application/vnd.jupyter.widget-view+json": {
              "version_major": 2,
              "version_minor": 0,
              "model_id": "c7ab5a50a70747ab90c6f19b1e81ece9"
            }
          },
          "metadata": {
            "application/vnd.jupyter.widget-view+json": {
              "colab": {
                "custom_widget_manager": {
                  "url": "https://ssl.gstatic.com/colaboratory-static/widgets/colab-cdn-widget-manager/d2e234f7cc04bf79/manager.min.js"
                }
              }
            }
          }
        }
      ]
    },
    {
      "cell_type": "code",
      "source": [
        "np.mean((np.diff(model.predict(X)))/(np.diff(X[:,1])+1e-2))"
      ],
      "metadata": {
        "id": "JBA06xb3Pk9s",
        "colab": {
          "base_uri": "https://localhost:8080/",
          "height": 34
        },
        "outputId": "29b6c498-1a26-40e2-a181-16a508f986ae"
      },
      "id": "JBA06xb3Pk9s",
      "execution_count": 191,
      "outputs": [
        {
          "output_type": "execute_result",
          "data": {
            "text/plain": [
              "0.16709912971168253"
            ]
          },
          "metadata": {},
          "execution_count": 191
        }
      ]
    },
    {
      "cell_type": "code",
      "source": [
        "(model.predict(X)).min()"
      ],
      "metadata": {
        "id": "5QOA0u3_Qeak",
        "colab": {
          "base_uri": "https://localhost:8080/",
          "height": 34
        },
        "outputId": "7321c114-8e51-4214-99e3-769d13aa952d"
      },
      "id": "5QOA0u3_Qeak",
      "execution_count": 192,
      "outputs": [
        {
          "output_type": "execute_result",
          "data": {
            "text/plain": [
              "956.4663937633595"
            ]
          },
          "metadata": {},
          "execution_count": 192
        }
      ]
    },
    {
      "cell_type": "code",
      "source": [
        "pd.set_option(\"display.max_rows\", None)\n",
        "#ingre_gas_vpn_km[fil]\n"
      ],
      "metadata": {
        "id": "wePZxUrPkrUr"
      },
      "id": "wePZxUrPkrUr",
      "execution_count": 193,
      "outputs": []
    },
    {
      "cell_type": "markdown",
      "source": [
        "##Resultado:"
      ],
      "metadata": {
        "id": "XW83iiT7xxkC"
      },
      "id": "XW83iiT7xxkC"
    },
    {
      "cell_type": "code",
      "source": [
        "#ingre_gas_vpn_km[fil].to_csv(r\"/content/tabla_vpn_km.csv\",encoding='utf-8-sig')\n",
        "if model.rsquared <0.9:\n",
        "  if model.rsquared >=0.7 and model.rsquared<0.9:\n",
        "    criterios.append(\"AMARILLO\")\n",
        "    print(f\"El valor del coef R2 es de {model.rsquared} y por tanto, hay evidencia para saber que los últimos valores de la anterior gráfica decrecen\")\n",
        "  else:\n",
        "    criterios.append(\"ROJO\")\n",
        "    print(f\"El valor del coef R2 es de {model.rsquared} y por tanto, hay evidencia para saber que los últimos valores de la anterior gráfica decrecen fuertemente\")\n",
        "else:\n",
        "  criterios.append(\"VERDE\")\n",
        "  print(f\"Hay fuerte evidencia de que el VPN sigue aumentando con el kilometraje,\\n la ganancia acumulada (VPN) aumenta {np.round(1000*model.params[1],2)} $/km_acum aprox.\\n Se puede verificar esta afirmación con la gráfica\\n y los Intervalos de confianza calculados al 95% \")"
      ],
      "metadata": {
        "id": "SvsnUxyOmIr-",
        "colab": {
          "base_uri": "https://localhost:8080/",
          "height": 86
        },
        "outputId": "97ff97bc-7c50-41eb-914b-e76c26b385a9"
      },
      "id": "SvsnUxyOmIr-",
      "execution_count": 194,
      "outputs": [
        {
          "output_type": "stream",
          "name": "stdout",
          "text": [
            "Hay fuerte evidencia de que el VPN sigue aumentando con el kilometraje,\n",
            " la ganancia acumulada (VPN) aumenta 168.41 $/km_acum aprox.\n",
            " Se puede verificar esta afirmación con la gráfica\n",
            " y los Intervalos de confianza calculados al 95% \n"
          ]
        }
      ]
    },
    {
      "cell_type": "markdown",
      "source": [
        "###**Estimación de ganancias a partir con el kilometraje**\n",
        "# (opcional, para leer la gráfica anterior):"
      ],
      "metadata": {
        "id": "zzwFw-Y7iXOM"
      },
      "id": "zzwFw-Y7iXOM"
    },
    {
      "cell_type": "markdown",
      "source": [
        "Ingrese el kilometraje del vehículo en la siguiente celda:"
      ],
      "metadata": {
        "id": "9kNXbaDyieAc"
      },
      "id": "9kNXbaDyieAc"
    },
    {
      "cell_type": "code",
      "source": [
        "kilom=125000"
      ],
      "metadata": {
        "id": "kvuX1w7ij_MR"
      },
      "id": "kvuX1w7ij_MR",
      "execution_count": 195,
      "outputs": []
    },
    {
      "cell_type": "code",
      "source": [
        "\n",
        "moneda=\"{:,}\".format(np.round((kilom*model.params[1]+model.params[0])*1000,2))\n",
        "print(f\"El valor esperado de ganancia acumulada TOTAL,\\n con un kilometraje de {kilom}, es:  ${moneda}\")"
      ],
      "metadata": {
        "id": "CDkCofA6H6kt",
        "colab": {
          "base_uri": "https://localhost:8080/",
          "height": 52
        },
        "outputId": "e48aa1dd-2503-4614-93d8-a95b07bc71ce"
      },
      "id": "CDkCofA6H6kt",
      "execution_count": 196,
      "outputs": [
        {
          "output_type": "stream",
          "name": "stdout",
          "text": [
            "El valor esperado de ganancia acumulada TOTAL,\n",
            " con un kilometraje de 125000, es:  $12,262,346.75\n"
          ]
        }
      ]
    },
    {
      "cell_type": "code",
      "source": [],
      "metadata": {
        "id": "3GSbiTZultxl"
      },
      "id": "3GSbiTZultxl",
      "execution_count": 196,
      "outputs": []
    },
    {
      "cell_type": "code",
      "source": [
        "#pd.set_option(\"display.max_rows\", None)\n"
      ],
      "metadata": {
        "id": "ax6U3tISl11r"
      },
      "execution_count": 197,
      "outputs": [],
      "id": "ax6U3tISl11r"
    },
    {
      "cell_type": "markdown",
      "source": [
        "#Cuarto Criterio: Relación Ganancia_Acum/kilometraje \n",
        "\n",
        "Se trata de un criterio flexible que, en el mejor de los casos, debe dar VERDE, lo que significaría que en proporción, aumenta más rápido la ganancia que el kilometraje. En otras palabras, se tarda menos en acumular ganancia con base en los kilómetros recorridos (no necesariamente en tiempo)\n",
        "\n",
        "No es un criterio de que el vehículo no sea rentable, sino de cuán rápido aumenta su ganancia con cada kilómetro"
      ],
      "metadata": {
        "id": "DyBdvzJ1q6CA"
      },
      "id": "DyBdvzJ1q6CA"
    },
    {
      "cell_type": "markdown",
      "source": [
        "____________________________________________________________\n",
        "**Descripción**: Si se piensa en un índice que dé cuenta de la rentabilidad de un vehículo, el más intuitivo puede ser VPN/kilometraje, porque, el punto deseable es que este índice deba ser máximo y creciente, es decir, el mejor escenario es tener la mayor ganancia con el menor gasto del kilometraje. Se calcula este índice para los últimos 8 meses y se espera que sea creciente en el tiempo.\n",
        "\n",
        "\n",
        "____________________________________________________________"
      ],
      "metadata": {
        "id": "R4i3QpY4wMr0"
      },
      "id": "R4i3QpY4wMr0"
    },
    {
      "cell_type": "markdown",
      "source": [
        "##Cálculos y gráficos"
      ],
      "metadata": {
        "id": "mU8A6NA6yqpg"
      },
      "id": "mU8A6NA6yqpg"
    },
    {
      "cell_type": "code",
      "source": [
        "#from google.colab import output\n",
        "#output.disable_custom_widget_manager()\n",
        "#plt.figure()\n",
        "%matplotlib inline\n",
        "plt.plot(ingre_gas_vpn_km[fil].index,(ingre_gas_vpn_km[fil][\"vpn\"]/ingre_gas_vpn_km[fil][\"km_acum\"]))\n",
        "#pd.DataFrame(list(zip(Y,X[:,1])),columns =['vpn', 'kilometraje']).to_csv(r\"/content/tabla_vpn_km.csv\",encoding='utf-8-sig')\n",
        "\n",
        "plt.scatter(ingre_gas_vpn_km[fil].index,Y.reshape(-1)/X[:,1],marker=\"2\")\n",
        "plt.show()"
      ],
      "metadata": {
        "id": "96h_gIrKJOgd",
        "colab": {
          "base_uri": "https://localhost:8080/",
          "height": 297
        },
        "outputId": "70a83116-4384-49f6-d2e5-e9e7f938b1ec"
      },
      "id": "96h_gIrKJOgd",
      "execution_count": 198,
      "outputs": [
        {
          "output_type": "display_data",
          "data": {
            "text/plain": [
              "<Figure size 432x288 with 1 Axes>"
            ],
            "image/png": "[encoded data removed]"
          },
          "metadata": {
            "needs_background": "light"
          }
        }
      ]
    },
    {
      "cell_type": "code",
      "source": [
        "#plt.plot(np.diff(X[:,1]))"
      ],
      "metadata": {
        "id": "kRrAl9rK9zyQ"
      },
      "id": "kRrAl9rK9zyQ",
      "execution_count": 199,
      "outputs": []
    },
    {
      "cell_type": "code",
      "source": [
        "#plt.plot(np.diff(Y.reshape(-1)))"
      ],
      "metadata": {
        "id": "EGVRkoGnMisq"
      },
      "id": "EGVRkoGnMisq",
      "execution_count": 200,
      "outputs": []
    },
    {
      "cell_type": "code",
      "source": [
        "\n",
        "df = pd.DataFrame(list(zip(Y,X[:,1])),\n",
        "               columns =['vpn', 'kilometraje'])\n",
        "#df.sort_values(by=\"Frecuencia\",ascending=False).head(10)"
      ],
      "metadata": {
        "id": "0ZW1yMLH_Pf5"
      },
      "execution_count": 201,
      "outputs": [],
      "id": "0ZW1yMLH_Pf5"
    },
    {
      "cell_type": "code",
      "source": [
        "ingre_gas_vpn_km#[(ingre_gas_vpn_km.index[-1]-datetime.timedelta(61))]\n",
        "a=ingre_gas_vpn_km.iloc[[ -1 ]][\"vpn\"]/ingre_gas_vpn_km.iloc[[ -1]][\"km_acum\"]\n",
        "jj=30\n",
        "b=ingre_gas_vpn_km.iloc[[ -1 -jj]][\"vpn\"]/ingre_gas_vpn_km.iloc[[ -1-jj]][\"km_acum\"]\n",
        "c=ingre_gas_vpn_km.iloc[[ -1 -jj*2]][\"vpn\"]/ingre_gas_vpn_km.iloc[[ -1-jj*2]][\"km_acum\"]\n",
        "d=ingre_gas_vpn_km.iloc[[ -1 -jj*4]][\"vpn\"]/ingre_gas_vpn_km.iloc[[ -1-jj*4]][\"km_acum\"]\n",
        "e=ingre_gas_vpn_km.iloc[[ -1 -jj*6]][\"vpn\"]/ingre_gas_vpn_km.iloc[[ -1-jj*6]][\"km_acum\"]\n",
        "f=ingre_gas_vpn_km.iloc[[ -1 -jj*8]][\"vpn\"]/ingre_gas_vpn_km.iloc[[ -1-jj*8]][\"km_acum\"]\n",
        "if a.values.item()> b.values.item()> c.values.item()> d.values.item()> e.values.item()> f.values.item():\n",
        "  criterios.append(\"VERDE\")\n",
        "  p1=\"El vehículo se encuentra en fase rentable, pues él índice \\n VPN/km viene creciendo hace 8 meses hasta hoy \"\n",
        "else:\n",
        "  if a.values.item()> b.values.item()> c.values.item():\n",
        "    criterios.append(\"AMARILLO\")\n",
        "    p1=\"El vehículo presenta mucha incertidumbre respecto a la rentabilidad\"\n",
        "  else:\n",
        "    criterios.append(\"ROJO\")\n",
        "    p1=\"El vehículo presenta mucha incertidumbre respecto a la rentabilidad\"\n"
      ],
      "metadata": {
        "id": "7mq8CFjp7Yo7"
      },
      "id": "7mq8CFjp7Yo7",
      "execution_count": 202,
      "outputs": []
    },
    {
      "cell_type": "markdown",
      "source": [
        "##Resultado"
      ],
      "metadata": {
        "id": "u5ATO9spzJPV"
      },
      "id": "u5ATO9spzJPV"
    },
    {
      "cell_type": "code",
      "source": [
        "print(p1)"
      ],
      "metadata": {
        "id": "afSxOFnLy9Hk",
        "colab": {
          "base_uri": "https://localhost:8080/"
        },
        "outputId": "17b5424a-52f3-44a5-b341-c5395fcfb8af"
      },
      "id": "afSxOFnLy9Hk",
      "execution_count": 203,
      "outputs": [
        {
          "output_type": "stream",
          "name": "stdout",
          "text": [
            "El vehículo se encuentra en fase rentable, pues él índice \n",
            " VPN/km viene creciendo hace 8 meses hasta hoy \n"
          ]
        }
      ]
    },
    {
      "cell_type": "markdown",
      "source": [
        "#RESUMEN de los Criterios:"
      ],
      "metadata": {
        "id": "zfJb9-NPY_9x"
      },
      "id": "zfJb9-NPY_9x"
    },
    {
      "cell_type": "code",
      "source": [
        "criterios"
      ],
      "metadata": {
        "colab": {
          "base_uri": "https://localhost:8080/"
        },
        "id": "aXZ9LVBnZHQw",
        "outputId": "9927a3a1-192d-4252-fb9d-7ca97e444646"
      },
      "id": "aXZ9LVBnZHQw",
      "execution_count": 204,
      "outputs": [
        {
          "output_type": "execute_result",
          "data": {
            "text/plain": [
              "['VERDE', 'VERDE', 'VERDE', 'VERDE']"
            ]
          },
          "metadata": {},
          "execution_count": 204
        }
      ]
    },
    {
      "cell_type": "markdown",
      "source": [
        "#Diagnóstico de los Gastos"
      ],
      "metadata": {
        "id": "IT_5Myi37eWu"
      },
      "id": "IT_5Myi37eWu"
    },
    {
      "cell_type": "code",
      "source": [
        "datos1.head()"
      ],
      "metadata": {
        "colab": {
          "base_uri": "https://localhost:8080/",
          "height": 372
        },
        "id": "Ixs08itxf3Lx",
        "outputId": "adf23064-07e5-4b27-da7f-32fc3e6b1648"
      },
      "id": "Ixs08itxf3Lx",
      "execution_count": 205,
      "outputs": [
        {
          "output_type": "execute_result",
          "data": {
            "text/plain": [
              "     COD      FECHA   PLACA CANTIDAD    FACTURA  \\\n",
              "0  52939 2022-02-09  FXS804        1  CTA COBRO   \n",
              "1      1 2021-07-17  FXS804        1        NaN   \n",
              "2      1 2021-11-08  FXS804        1       1928   \n",
              "3      1 2022-03-14  FXS804        1       1529   \n",
              "4      1 2022-05-09  FXS804        1   TCFE1933   \n",
              "\n",
              "                                  CONCEPTO  \\\n",
              "0                              Computadora   \n",
              "1                             Kit Embrague   \n",
              "2                             Sacada Golpe   \n",
              "3  Pintura guardabarro delantero izquierdo   \n",
              "4                              Guardafango   \n",
              "\n",
              "                                         OBSERVACIÓN  VALOR UNITARIO   GASTOS  \n",
              "0                                   ANTENA Y ENLLAVE         600.000  600.000  \n",
              "1  BUJE TREN TRAS-ROTULAS-AXIALES-ABRAZ PLAST-TER...         581.437  581.437  \n",
              "2  costilla izq, hechura costilla izq, sacada gol...         500.000  500.000  \n",
              "3  RETOQUE PUERTA DELANTERO IZQ,PUERTA TRASERA IZ...         485.000  485.000  \n",
              "4                                                NaN         476.000  476.000  "
            ],
            "text/html": [
              "\n",
              "  <div id=\"df-6723e3d0-c7d4-4c63-a9d1-29f85cf247dd\">\n",
              "    <div class=\"colab-df-container\">\n",
              "      <div>\n",
              "<style scoped>\n",
              "    .dataframe tbody tr th:only-of-type {\n",
              "        vertical-align: middle;\n",
              "    }\n",
              "\n",
              "    .dataframe tbody tr th {\n",
              "        vertical-align: top;\n",
              "    }\n",
              "\n",
              "    .dataframe thead th {\n",
              "        text-align: right;\n",
              "    }\n",
              "</style>\n",
              "<table border=\"1\" class=\"dataframe\">\n",
              "  <thead>\n",
              "    <tr style=\"text-align: right;\">\n",
              "      <th></th>\n",
              "      <th>COD</th>\n",
              "      <th>FECHA</th>\n",
              "      <th>PLACA</th>\n",
              "      <th>CANTIDAD</th>\n",
              "      <th>FACTURA</th>\n",
              "      <th>CONCEPTO</th>\n",
              "      <th>OBSERVACIÓN</th>\n",
              "      <th>VALOR UNITARIO</th>\n",
              "      <th>GASTOS</th>\n",
              "    </tr>\n",
              "  </thead>\n",
              "  <tbody>\n",
              "    <tr>\n",
              "      <th>0</th>\n",
              "      <td>52939</td>\n",
              "      <td>2022-02-09</td>\n",
              "      <td>FXS804</td>\n",
              "      <td>1</td>\n",
              "      <td>CTA COBRO</td>\n",
              "      <td>Computadora</td>\n",
              "      <td>ANTENA Y ENLLAVE</td>\n",
              "      <td>600.000</td>\n",
              "      <td>600.000</td>\n",
              "    </tr>\n",
              "    <tr>\n",
              "      <th>1</th>\n",
              "      <td>1</td>\n",
              "      <td>2021-07-17</td>\n",
              "      <td>FXS804</td>\n",
              "      <td>1</td>\n",
              "      <td>NaN</td>\n",
              "      <td>Kit Embrague</td>\n",
              "      <td>BUJE TREN TRAS-ROTULAS-AXIALES-ABRAZ PLAST-TER...</td>\n",
              "      <td>581.437</td>\n",
              "      <td>581.437</td>\n",
              "    </tr>\n",
              "    <tr>\n",
              "      <th>2</th>\n",
              "      <td>1</td>\n",
              "      <td>2021-11-08</td>\n",
              "      <td>FXS804</td>\n",
              "      <td>1</td>\n",
              "      <td>1928</td>\n",
              "      <td>Sacada Golpe</td>\n",
              "      <td>costilla izq, hechura costilla izq, sacada gol...</td>\n",
              "      <td>500.000</td>\n",
              "      <td>500.000</td>\n",
              "    </tr>\n",
              "    <tr>\n",
              "      <th>3</th>\n",
              "      <td>1</td>\n",
              "      <td>2022-03-14</td>\n",
              "      <td>FXS804</td>\n",
              "      <td>1</td>\n",
              "      <td>1529</td>\n",
              "      <td>Pintura guardabarro delantero izquierdo</td>\n",
              "      <td>RETOQUE PUERTA DELANTERO IZQ,PUERTA TRASERA IZ...</td>\n",
              "      <td>485.000</td>\n",
              "      <td>485.000</td>\n",
              "    </tr>\n",
              "    <tr>\n",
              "      <th>4</th>\n",
              "      <td>1</td>\n",
              "      <td>2022-05-09</td>\n",
              "      <td>FXS804</td>\n",
              "      <td>1</td>\n",
              "      <td>TCFE1933</td>\n",
              "      <td>Guardafango</td>\n",
              "      <td>NaN</td>\n",
              "      <td>476.000</td>\n",
              "      <td>476.000</td>\n",
              "    </tr>\n",
              "  </tbody>\n",
              "</table>\n",
              "</div>\n",
              "      <button class=\"colab-df-convert\" onclick=\"convertToInteractive('df-6723e3d0-c7d4-4c63-a9d1-29f85cf247dd')\"\n",
              "              title=\"Convert this dataframe to an interactive table.\"\n",
              "              style=\"display:none;\">\n",
              "        \n",
              "  <svg xmlns=\"http://www.w3.org/2000/svg\" height=\"24px\"viewBox=\"0 0 24 24\"\n",
              "       width=\"24px\">\n",
              "    <path d=\"M0 0h24v24H0V0z\" fill=\"none\"/>\n",
              "    <path d=\"M18.56 5.44l.94 2.06.94-2.06 2.06-.94-2.06-.94-.94-2.06-.94 2.06-2.06.94zm-11 1L8.5 8.5l.94-2.06 2.06-.94-2.06-.94L8.5 2.5l-.94 2.06-2.06.94zm10 10l.94 2.06.94-2.06 2.06-.94-2.06-.94-.94-2.06-.94 2.06-2.06.94z\"/><path d=\"M17.41 7.96l-1.37-1.37c-.4-.4-.92-.59-1.43-.59-.52 0-1.04.2-1.43.59L10.3 9.45l-7.72 7.72c-.78.78-.78 2.05 0 2.83L4 21.41c.39.39.9.59 1.41.59.51 0 1.02-.2 1.41-.59l7.78-7.78 2.81-2.81c.8-.78.8-2.07 0-2.86zM5.41 20L4 18.59l7.72-7.72 1.47 1.35L5.41 20z\"/>\n",
              "  </svg>\n",
              "      </button>\n",
              "      \n",
              "  <style>\n",
              "    .colab-df-container {\n",
              "      display:flex;\n",
              "      flex-wrap:wrap;\n",
              "      gap: 12px;\n",
              "    }\n",
              "\n",
              "    .colab-df-convert {\n",
              "      background-color: #E8F0FE;\n",
              "      border: none;\n",
              "      border-radius: 50%;\n",
              "      cursor: pointer;\n",
              "      display: none;\n",
              "      fill: #1967D2;\n",
              "      height: 32px;\n",
              "      padding: 0 0 0 0;\n",
              "      width: 32px;\n",
              "    }\n",
              "\n",
              "    .colab-df-convert:hover {\n",
              "      background-color: #E2EBFA;\n",
              "      box-shadow: 0px 1px 2px rgba(60, 64, 67, 0.3), 0px 1px 3px 1px rgba(60, 64, 67, 0.15);\n",
              "      fill: #174EA6;\n",
              "    }\n",
              "\n",
              "    [theme=dark] .colab-df-convert {\n",
              "      background-color: #3B4455;\n",
              "      fill: #D2E3FC;\n",
              "    }\n",
              "\n",
              "    [theme=dark] .colab-df-convert:hover {\n",
              "      background-color: #434B5C;\n",
              "      box-shadow: 0px 1px 3px 1px rgba(0, 0, 0, 0.15);\n",
              "      filter: drop-shadow(0px 1px 2px rgba(0, 0, 0, 0.3));\n",
              "      fill: #FFFFFF;\n",
              "    }\n",
              "  </style>\n",
              "\n",
              "      <script>\n",
              "        const buttonEl =\n",
              "          document.querySelector('#df-6723e3d0-c7d4-4c63-a9d1-29f85cf247dd button.colab-df-convert');\n",
              "        buttonEl.style.display =\n",
              "          google.colab.kernel.accessAllowed ? 'block' : 'none';\n",
              "\n",
              "        async function convertToInteractive(key) {\n",
              "          const element = document.querySelector('#df-6723e3d0-c7d4-4c63-a9d1-29f85cf247dd');\n",
              "          const dataTable =\n",
              "            await google.colab.kernel.invokeFunction('convertToInteractive',\n",
              "                                                     [key], {});\n",
              "          if (!dataTable) return;\n",
              "\n",
              "          const docLinkHtml = 'Like what you see? Visit the ' +\n",
              "            '<a target=\"_blank\" href=https://colab.research.google.com/notebooks/data_table.ipynb>data table notebook</a>'\n",
              "            + ' to learn more about interactive tables.';\n",
              "          element.innerHTML = '';\n",
              "          dataTable['output_type'] = 'display_data';\n",
              "          await google.colab.output.renderOutput(dataTable, element);\n",
              "          const docLink = document.createElement('div');\n",
              "          docLink.innerHTML = docLinkHtml;\n",
              "          element.appendChild(docLink);\n",
              "        }\n",
              "      </script>\n",
              "    </div>\n",
              "  </div>\n",
              "  "
            ]
          },
          "metadata": {},
          "execution_count": 205
        }
      ]
    },
    {
      "cell_type": "code",
      "source": [
        "datos1[\"GASTOS\"]=pd.to_numeric(datos1[\"GASTOS\"])\n",
        "hh=datos1[[\"GASTOS\"]].boxplot()"
      ],
      "metadata": {
        "id": "jH3JyjOffb60",
        "colab": {
          "base_uri": "https://localhost:8080/",
          "height": 297
        },
        "outputId": "0193c122-0b06-450b-fe76-77811daa7f0a"
      },
      "id": "jH3JyjOffb60",
      "execution_count": 206,
      "outputs": [
        {
          "output_type": "display_data",
          "data": {
            "text/plain": [
              "<Figure size 432x288 with 1 Axes>"
            ],
            "image/png": "[encoded data removed]"
          },
          "metadata": {
            "needs_background": "light"
          }
        }
      ]
    },
    {
      "cell_type": "code",
      "source": [
        "gg=datos1[[\"GASTOS\"]].describe()\n",
        "gg"
      ],
      "metadata": {
        "id": "4PU8hrwihUe_",
        "colab": {
          "base_uri": "https://localhost:8080/",
          "height": 300
        },
        "outputId": "c748b709-0910-4f04-b9f0-0e6454f3ef34"
      },
      "id": "4PU8hrwihUe_",
      "execution_count": 207,
      "outputs": [
        {
          "output_type": "execute_result",
          "data": {
            "text/plain": [
              "           GASTOS\n",
              "count  386.000000\n",
              "mean    80.504456\n",
              "std    101.466581\n",
              "min      1.998000\n",
              "25%     20.000000\n",
              "50%     40.000000\n",
              "75%     85.000000\n",
              "max    600.000000"
            ],
            "text/html": [
              "\n",
              "  <div id=\"df-2dcc8ab3-b533-4394-bb0c-68849dd05296\">\n",
              "    <div class=\"colab-df-container\">\n",
              "      <div>\n",
              "<style scoped>\n",
              "    .dataframe tbody tr th:only-of-type {\n",
              "        vertical-align: middle;\n",
              "    }\n",
              "\n",
              "    .dataframe tbody tr th {\n",
              "        vertical-align: top;\n",
              "    }\n",
              "\n",
              "    .dataframe thead th {\n",
              "        text-align: right;\n",
              "    }\n",
              "</style>\n",
              "<table border=\"1\" class=\"dataframe\">\n",
              "  <thead>\n",
              "    <tr style=\"text-align: right;\">\n",
              "      <th></th>\n",
              "      <th>GASTOS</th>\n",
              "    </tr>\n",
              "  </thead>\n",
              "  <tbody>\n",
              "    <tr>\n",
              "      <th>count</th>\n",
              "      <td>386.000000</td>\n",
              "    </tr>\n",
              "    <tr>\n",
              "      <th>mean</th>\n",
              "      <td>80.504456</td>\n",
              "    </tr>\n",
              "    <tr>\n",
              "      <th>std</th>\n",
              "      <td>101.466581</td>\n",
              "    </tr>\n",
              "    <tr>\n",
              "      <th>min</th>\n",
              "      <td>1.998000</td>\n",
              "    </tr>\n",
              "    <tr>\n",
              "      <th>25%</th>\n",
              "      <td>20.000000</td>\n",
              "    </tr>\n",
              "    <tr>\n",
              "      <th>50%</th>\n",
              "      <td>40.000000</td>\n",
              "    </tr>\n",
              "    <tr>\n",
              "      <th>75%</th>\n",
              "      <td>85.000000</td>\n",
              "    </tr>\n",
              "    <tr>\n",
              "      <th>max</th>\n",
              "      <td>600.000000</td>\n",
              "    </tr>\n",
              "  </tbody>\n",
              "</table>\n",
              "</div>\n",
              "      <button class=\"colab-df-convert\" onclick=\"convertToInteractive('df-2dcc8ab3-b533-4394-bb0c-68849dd05296')\"\n",
              "              title=\"Convert this dataframe to an interactive table.\"\n",
              "              style=\"display:none;\">\n",
              "        \n",
              "  <svg xmlns=\"http://www.w3.org/2000/svg\" height=\"24px\"viewBox=\"0 0 24 24\"\n",
              "       width=\"24px\">\n",
              "    <path d=\"M0 0h24v24H0V0z\" fill=\"none\"/>\n",
              "    <path d=\"M18.56 5.44l.94 2.06.94-2.06 2.06-.94-2.06-.94-.94-2.06-.94 2.06-2.06.94zm-11 1L8.5 8.5l.94-2.06 2.06-.94-2.06-.94L8.5 2.5l-.94 2.06-2.06.94zm10 10l.94 2.06.94-2.06 2.06-.94-2.06-.94-.94-2.06-.94 2.06-2.06.94z\"/><path d=\"M17.41 7.96l-1.37-1.37c-.4-.4-.92-.59-1.43-.59-.52 0-1.04.2-1.43.59L10.3 9.45l-7.72 7.72c-.78.78-.78 2.05 0 2.83L4 21.41c.39.39.9.59 1.41.59.51 0 1.02-.2 1.41-.59l7.78-7.78 2.81-2.81c.8-.78.8-2.07 0-2.86zM5.41 20L4 18.59l7.72-7.72 1.47 1.35L5.41 20z\"/>\n",
              "  </svg>\n",
              "      </button>\n",
              "      \n",
              "  <style>\n",
              "    .colab-df-container {\n",
              "      display:flex;\n",
              "      flex-wrap:wrap;\n",
              "      gap: 12px;\n",
              "    }\n",
              "\n",
              "    .colab-df-convert {\n",
              "      background-color: #E8F0FE;\n",
              "      border: none;\n",
              "      border-radius: 50%;\n",
              "      cursor: pointer;\n",
              "      display: none;\n",
              "      fill: #1967D2;\n",
              "      height: 32px;\n",
              "      padding: 0 0 0 0;\n",
              "      width: 32px;\n",
              "    }\n",
              "\n",
              "    .colab-df-convert:hover {\n",
              "      background-color: #E2EBFA;\n",
              "      box-shadow: 0px 1px 2px rgba(60, 64, 67, 0.3), 0px 1px 3px 1px rgba(60, 64, 67, 0.15);\n",
              "      fill: #174EA6;\n",
              "    }\n",
              "\n",
              "    [theme=dark] .colab-df-convert {\n",
              "      background-color: #3B4455;\n",
              "      fill: #D2E3FC;\n",
              "    }\n",
              "\n",
              "    [theme=dark] .colab-df-convert:hover {\n",
              "      background-color: #434B5C;\n",
              "      box-shadow: 0px 1px 3px 1px rgba(0, 0, 0, 0.15);\n",
              "      filter: drop-shadow(0px 1px 2px rgba(0, 0, 0, 0.3));\n",
              "      fill: #FFFFFF;\n",
              "    }\n",
              "  </style>\n",
              "\n",
              "      <script>\n",
              "        const buttonEl =\n",
              "          document.querySelector('#df-2dcc8ab3-b533-4394-bb0c-68849dd05296 button.colab-df-convert');\n",
              "        buttonEl.style.display =\n",
              "          google.colab.kernel.accessAllowed ? 'block' : 'none';\n",
              "\n",
              "        async function convertToInteractive(key) {\n",
              "          const element = document.querySelector('#df-2dcc8ab3-b533-4394-bb0c-68849dd05296');\n",
              "          const dataTable =\n",
              "            await google.colab.kernel.invokeFunction('convertToInteractive',\n",
              "                                                     [key], {});\n",
              "          if (!dataTable) return;\n",
              "\n",
              "          const docLinkHtml = 'Like what you see? Visit the ' +\n",
              "            '<a target=\"_blank\" href=https://colab.research.google.com/notebooks/data_table.ipynb>data table notebook</a>'\n",
              "            + ' to learn more about interactive tables.';\n",
              "          element.innerHTML = '';\n",
              "          dataTable['output_type'] = 'display_data';\n",
              "          await google.colab.output.renderOutput(dataTable, element);\n",
              "          const docLink = document.createElement('div');\n",
              "          docLink.innerHTML = docLinkHtml;\n",
              "          element.appendChild(docLink);\n",
              "        }\n",
              "      </script>\n",
              "    </div>\n",
              "  </div>\n",
              "  "
            ]
          },
          "metadata": {},
          "execution_count": 207
        }
      ]
    },
    {
      "cell_type": "markdown",
      "source": [
        "Se quitan los gastos administrativos y de impuestos para analizar los GASTOS extremos"
      ],
      "metadata": {
        "id": "kXgINUXzvUuT"
      },
      "id": "kXgINUXzvUuT"
    },
    {
      "cell_type": "code",
      "source": [
        "FILTRO=datos1[\"GASTOS\"]>gg[\"GASTOS\"][6]+(gg[\"GASTOS\"][6]-gg[\"GASTOS\"][4])*1.5\n",
        "#datos[FILTRO][[\"CONCEPTO\",\"CANTIDAD\",\"OBSERVACIÓN\"]]\n",
        "filt2=np.array(list(map(lambda x:any( xx in x.lower() for xx in [\"admin\",\"impu\",\"soat\",\"tecnomec\",\"dalmaru\"]),datos1[FILTRO][\"CONCEPTO\"])))==False\n",
        "\n",
        "plt.figure()\n",
        "nuevo=copy.deepcopy(datos1[FILTRO][filt2]).sort_values(by=\"FECHA\")\n",
        "plt.scatter(nuevo[\"FECHA\"],nuevo[\"GASTOS\"])\n",
        "\n",
        "plt.show()"
      ],
      "metadata": {
        "id": "LHNf_DdkiQer",
        "colab": {
          "base_uri": "https://localhost:8080/",
          "height": 297
        },
        "outputId": "33cb8d07-fe49-4ea9-85d8-834b0ca28951"
      },
      "id": "LHNf_DdkiQer",
      "execution_count": 208,
      "outputs": [
        {
          "output_type": "display_data",
          "data": {
            "text/plain": [
              "<Figure size 432x288 with 1 Axes>"
            ],
            "image/png": "[encoded data removed]"
          },
          "metadata": {
            "needs_background": "light"
          }
        }
      ]
    },
    {
      "cell_type": "markdown",
      "source": [
        "Se agrupan los gastos por bloques de 3 gastos (no siempre 3 días) para analizar la frecuencia con la que se vienen haciendo gastos fuertes. Luego se presentan estos datos en tabla"
      ],
      "metadata": {
        "id": "fkpULW7mvmvP"
      },
      "id": "fkpULW7mvmvP"
    },
    {
      "cell_type": "code",
      "source": [
        "%matplotlib ipympl\n",
        "i = iter(list(np.linspace(1,500,500)//3))\n",
        "#i=iter(list(map(lambda x: str(int(x)),np.linspace(1,500,500)//3)))\n",
        "nuevo['temporal'] = nuevo.index.map(dict(zip(nuevo.index, cycle(i))))\n",
        "\n",
        "plt.figure()\n",
        "\n",
        "plt.bar(nuevo.groupby(\"temporal\").agg({\"GASTOS\":sum,\"FECHA\":max})[\"FECHA\"],nuevo.groupby(\"temporal\").agg({\"GASTOS\":sum,\"FECHA\":max})[\"GASTOS\"] ,width=10 )\n",
        "\n",
        "plt.show()"
      ],
      "metadata": {
        "id": "FOIcxNz4DWpX",
        "colab": {
          "base_uri": "https://localhost:8080/",
          "height": 377,
          "referenced_widgets": [
            "ecfdc605fce54b30b4276142852473c9",
            "5ea6e128934148f8b4c9758a62dfaeff",
            "ae2820f076b242d8a811c0abfe145408",
            "47b27974a3ec49f3bb08e44b7aa74aed"
          ]
        },
        "outputId": "7b289165-331b-497a-90ad-42a501272c29"
      },
      "id": "FOIcxNz4DWpX",
      "execution_count": 209,
      "outputs": [
        {
          "output_type": "display_data",
          "data": {
            "text/plain": [
              "Canvas(toolbar=Toolbar(toolitems=[('Home', 'Reset original view', 'home', 'home'), ('Back', 'Back to previous …"
            ],
            "image/png": "[encoded data removed]",
            "text/html": [
              "\n",
              "            <div style=\"display: inline-block;\">\n",
              "                <div class=\"jupyter-widgets widget-label\" style=\"text-align: center;\">\n",
              "                    Figure\n",
              "                </div>\n",
              "                <img src='data:image/png;base64,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' width=432.0/>\n",
              "            </div>\n",
              "        "
            ],
            "application/vnd.jupyter.widget-view+json": {
              "version_major": 2,
              "version_minor": 0,
              "model_id": "ecfdc605fce54b30b4276142852473c9"
            }
          },
          "metadata": {
            "application/vnd.jupyter.widget-view+json": {
              "colab": {
                "custom_widget_manager": {
                  "url": "https://ssl.gstatic.com/colaboratory-static/widgets/colab-cdn-widget-manager/d2e234f7cc04bf79/manager.min.js"
                }
              }
            }
          }
        }
      ]
    },
    {
      "cell_type": "markdown",
      "source": [
        "Datos anteriores en Tabla: "
      ],
      "metadata": {
        "id": "KsIxF80Av3Gw"
      },
      "id": "KsIxF80Av3Gw"
    },
    {
      "cell_type": "code",
      "source": [
        "tp=nuevo[[\"CONCEPTO\"]]+\" \"\n",
        "nuevo[\"CONCEPTO\"]=nuevo[\"CONCEPTO\"]+\"--\"\n",
        "nuevo.groupby(\"temporal\").agg({\"GASTOS\":sum,\"FECHA\":(min,max),\"CONCEPTO\":sum})"
      ],
      "metadata": {
        "id": "AuLv7e27v14d",
        "colab": {
          "base_uri": "https://localhost:8080/",
          "height": 426
        },
        "outputId": "48db4bd5-8615-41ad-a8d2-f7bcda0c5480"
      },
      "id": "AuLv7e27v14d",
      "execution_count": 210,
      "outputs": [
        {
          "output_type": "execute_result",
          "data": {
            "text/plain": [
              "            GASTOS      FECHA             \\\n",
              "               sum        min        max   \n",
              "temporal                                   \n",
              "0.0        475.000 2021-01-05 2021-07-06   \n",
              "1.0       1253.637 2021-07-17 2021-09-13   \n",
              "2.0        992.764 2021-09-28 2021-10-01   \n",
              "3.0       1076.081 2021-11-08 2021-12-30   \n",
              "4.0        779.764 2022-01-03 2022-01-17   \n",
              "5.0       1355.000 2022-02-09 2022-03-14   \n",
              "6.0        932.800 2022-03-15 2022-06-10   \n",
              "7.0        814.996 2022-06-21 2022-07-12   \n",
              "8.0        605.000 2022-08-22 2022-09-24   \n",
              "9.0        350.000 2022-10-10 2022-10-10   \n",
              "\n",
              "                                                   CONCEPTO  \n",
              "                                                        sum  \n",
              "temporal                                                     \n",
              "0.0                            Llantas--COMPRA DE LLANTAS--  \n",
              "1.0                     Kit Embrague--Cremallera--Batería--  \n",
              "2.0                         Kit Embrague--Póliza--Llantas--  \n",
              "3.0       Sacada Golpe--Tarjeta Operación--Bobina Encend...  \n",
              "4.0              Latonería--Kit Embrague--Reparación Piso--  \n",
              "5.0       Computadora--Espejo Retrovisor--Pintura guarda...  \n",
              "6.0             Amortiguador Trasero--Guardafango--Forros--  \n",
              "7.0         COMPRA DE LLANTAS--Batería--COMPRA DE LLANTAS--  \n",
              "8.0       Latonería--Latonería--Fabricación Buje En Bron...  \n",
              "9.0                    INDEMNIZACION POR DAÑOS A TERCEROS--  "
            ],
            "text/html": [
              "\n",
              "  <div id=\"df-064272f2-e333-43b8-8f8b-fc43c639ff4d\">\n",
              "    <div class=\"colab-df-container\">\n",
              "      <div>\n",
              "<style scoped>\n",
              "    .dataframe tbody tr th:only-of-type {\n",
              "        vertical-align: middle;\n",
              "    }\n",
              "\n",
              "    .dataframe tbody tr th {\n",
              "        vertical-align: top;\n",
              "    }\n",
              "\n",
              "    .dataframe thead tr th {\n",
              "        text-align: left;\n",
              "    }\n",
              "\n",
              "    .dataframe thead tr:last-of-type th {\n",
              "        text-align: right;\n",
              "    }\n",
              "</style>\n",
              "<table border=\"1\" class=\"dataframe\">\n",
              "  <thead>\n",
              "    <tr>\n",
              "      <th></th>\n",
              "      <th>GASTOS</th>\n",
              "      <th colspan=\"2\" halign=\"left\">FECHA</th>\n",
              "      <th>CONCEPTO</th>\n",
              "    </tr>\n",
              "    <tr>\n",
              "      <th></th>\n",
              "      <th>sum</th>\n",
              "      <th>min</th>\n",
              "      <th>max</th>\n",
              "      <th>sum</th>\n",
              "    </tr>\n",
              "    <tr>\n",
              "      <th>temporal</th>\n",
              "      <th></th>\n",
              "      <th></th>\n",
              "      <th></th>\n",
              "      <th></th>\n",
              "    </tr>\n",
              "  </thead>\n",
              "  <tbody>\n",
              "    <tr>\n",
              "      <th>0.0</th>\n",
              "      <td>475.000</td>\n",
              "      <td>2021-01-05</td>\n",
              "      <td>2021-07-06</td>\n",
              "      <td>Llantas--COMPRA DE LLANTAS--</td>\n",
              "    </tr>\n",
              "    <tr>\n",
              "      <th>1.0</th>\n",
              "      <td>1253.637</td>\n",
              "      <td>2021-07-17</td>\n",
              "      <td>2021-09-13</td>\n",
              "      <td>Kit Embrague--Cremallera--Batería--</td>\n",
              "    </tr>\n",
              "    <tr>\n",
              "      <th>2.0</th>\n",
              "      <td>992.764</td>\n",
              "      <td>2021-09-28</td>\n",
              "      <td>2021-10-01</td>\n",
              "      <td>Kit Embrague--Póliza--Llantas--</td>\n",
              "    </tr>\n",
              "    <tr>\n",
              "      <th>3.0</th>\n",
              "      <td>1076.081</td>\n",
              "      <td>2021-11-08</td>\n",
              "      <td>2021-12-30</td>\n",
              "      <td>Sacada Golpe--Tarjeta Operación--Bobina Encend...</td>\n",
              "    </tr>\n",
              "    <tr>\n",
              "      <th>4.0</th>\n",
              "      <td>779.764</td>\n",
              "      <td>2022-01-03</td>\n",
              "      <td>2022-01-17</td>\n",
              "      <td>Latonería--Kit Embrague--Reparación Piso--</td>\n",
              "    </tr>\n",
              "    <tr>\n",
              "      <th>5.0</th>\n",
              "      <td>1355.000</td>\n",
              "      <td>2022-02-09</td>\n",
              "      <td>2022-03-14</td>\n",
              "      <td>Computadora--Espejo Retrovisor--Pintura guarda...</td>\n",
              "    </tr>\n",
              "    <tr>\n",
              "      <th>6.0</th>\n",
              "      <td>932.800</td>\n",
              "      <td>2022-03-15</td>\n",
              "      <td>2022-06-10</td>\n",
              "      <td>Amortiguador Trasero--Guardafango--Forros--</td>\n",
              "    </tr>\n",
              "    <tr>\n",
              "      <th>7.0</th>\n",
              "      <td>814.996</td>\n",
              "      <td>2022-06-21</td>\n",
              "      <td>2022-07-12</td>\n",
              "      <td>COMPRA DE LLANTAS--Batería--COMPRA DE LLANTAS--</td>\n",
              "    </tr>\n",
              "    <tr>\n",
              "      <th>8.0</th>\n",
              "      <td>605.000</td>\n",
              "      <td>2022-08-22</td>\n",
              "      <td>2022-09-24</td>\n",
              "      <td>Latonería--Latonería--Fabricación Buje En Bron...</td>\n",
              "    </tr>\n",
              "    <tr>\n",
              "      <th>9.0</th>\n",
              "      <td>350.000</td>\n",
              "      <td>2022-10-10</td>\n",
              "      <td>2022-10-10</td>\n",
              "      <td>INDEMNIZACION POR DAÑOS A TERCEROS--</td>\n",
              "    </tr>\n",
              "  </tbody>\n",
              "</table>\n",
              "</div>\n",
              "      <button class=\"colab-df-convert\" onclick=\"convertToInteractive('df-064272f2-e333-43b8-8f8b-fc43c639ff4d')\"\n",
              "              title=\"Convert this dataframe to an interactive table.\"\n",
              "              style=\"display:none;\">\n",
              "        \n",
              "  <svg xmlns=\"http://www.w3.org/2000/svg\" height=\"24px\"viewBox=\"0 0 24 24\"\n",
              "       width=\"24px\">\n",
              "    <path d=\"M0 0h24v24H0V0z\" fill=\"none\"/>\n",
              "    <path d=\"M18.56 5.44l.94 2.06.94-2.06 2.06-.94-2.06-.94-.94-2.06-.94 2.06-2.06.94zm-11 1L8.5 8.5l.94-2.06 2.06-.94-2.06-.94L8.5 2.5l-.94 2.06-2.06.94zm10 10l.94 2.06.94-2.06 2.06-.94-2.06-.94-.94-2.06-.94 2.06-2.06.94z\"/><path d=\"M17.41 7.96l-1.37-1.37c-.4-.4-.92-.59-1.43-.59-.52 0-1.04.2-1.43.59L10.3 9.45l-7.72 7.72c-.78.78-.78 2.05 0 2.83L4 21.41c.39.39.9.59 1.41.59.51 0 1.02-.2 1.41-.59l7.78-7.78 2.81-2.81c.8-.78.8-2.07 0-2.86zM5.41 20L4 18.59l7.72-7.72 1.47 1.35L5.41 20z\"/>\n",
              "  </svg>\n",
              "      </button>\n",
              "      \n",
              "  <style>\n",
              "    .colab-df-container {\n",
              "      display:flex;\n",
              "      flex-wrap:wrap;\n",
              "      gap: 12px;\n",
              "    }\n",
              "\n",
              "    .colab-df-convert {\n",
              "      background-color: #E8F0FE;\n",
              "      border: none;\n",
              "      border-radius: 50%;\n",
              "      cursor: pointer;\n",
              "      display: none;\n",
              "      fill: #1967D2;\n",
              "      height: 32px;\n",
              "      padding: 0 0 0 0;\n",
              "      width: 32px;\n",
              "    }\n",
              "\n",
              "    .colab-df-convert:hover {\n",
              "      background-color: #E2EBFA;\n",
              "      box-shadow: 0px 1px 2px rgba(60, 64, 67, 0.3), 0px 1px 3px 1px rgba(60, 64, 67, 0.15);\n",
              "      fill: #174EA6;\n",
              "    }\n",
              "\n",
              "    [theme=dark] .colab-df-convert {\n",
              "      background-color: #3B4455;\n",
              "      fill: #D2E3FC;\n",
              "    }\n",
              "\n",
              "    [theme=dark] .colab-df-convert:hover {\n",
              "      background-color: #434B5C;\n",
              "      box-shadow: 0px 1px 3px 1px rgba(0, 0, 0, 0.15);\n",
              "      filter: drop-shadow(0px 1px 2px rgba(0, 0, 0, 0.3));\n",
              "      fill: #FFFFFF;\n",
              "    }\n",
              "  </style>\n",
              "\n",
              "      <script>\n",
              "        const buttonEl =\n",
              "          document.querySelector('#df-064272f2-e333-43b8-8f8b-fc43c639ff4d button.colab-df-convert');\n",
              "        buttonEl.style.display =\n",
              "          google.colab.kernel.accessAllowed ? 'block' : 'none';\n",
              "\n",
              "        async function convertToInteractive(key) {\n",
              "          const element = document.querySelector('#df-064272f2-e333-43b8-8f8b-fc43c639ff4d');\n",
              "          const dataTable =\n",
              "            await google.colab.kernel.invokeFunction('convertToInteractive',\n",
              "                                                     [key], {});\n",
              "          if (!dataTable) return;\n",
              "\n",
              "          const docLinkHtml = 'Like what you see? Visit the ' +\n",
              "            '<a target=\"_blank\" href=https://colab.research.google.com/notebooks/data_table.ipynb>data table notebook</a>'\n",
              "            + ' to learn more about interactive tables.';\n",
              "          element.innerHTML = '';\n",
              "          dataTable['output_type'] = 'display_data';\n",
              "          await google.colab.output.renderOutput(dataTable, element);\n",
              "          const docLink = document.createElement('div');\n",
              "          docLink.innerHTML = docLinkHtml;\n",
              "          element.appendChild(docLink);\n",
              "        }\n",
              "      </script>\n",
              "    </div>\n",
              "  </div>\n",
              "  "
            ]
          },
          "metadata": {},
          "execution_count": 210
        }
      ]
    },
    {
      "cell_type": "code",
      "source": [
        "print(\"\\n DETALLE DE LOS GASTOS ANTERIORES: \\n\")\n",
        "print(*list(nuevo.groupby(\"temporal\").agg({\"GASTOS\":sum,\"FECHA\":(min,max),\"CONCEPTO\":sum})[\"CONCEPTO\"][\"sum\"]), sep = \"\\n\")#[0]\n"
      ],
      "metadata": {
        "id": "oNjxviteE28X",
        "colab": {
          "base_uri": "https://localhost:8080/",
          "height": 243
        },
        "outputId": "dc528bf8-2527-4bf8-a1c7-8bc140309d6b"
      },
      "id": "oNjxviteE28X",
      "execution_count": 211,
      "outputs": [
        {
          "output_type": "stream",
          "name": "stdout",
          "text": [
            "\n",
            " DETALLE DE LOS GASTOS ANTERIORES: \n",
            "\n",
            "Llantas--COMPRA DE LLANTAS--\n",
            "Kit Embrague--Cremallera--Batería--\n",
            "Kit Embrague--Póliza--Llantas--\n",
            "Sacada Golpe--Tarjeta Operación--Bobina Encendido--\n",
            "Latonería--Kit Embrague--Reparación Piso--\n",
            "Computadora--Espejo Retrovisor--Pintura guardabarro delantero izquierdo--\n",
            "Amortiguador Trasero--Guardafango--Forros--\n",
            "COMPRA DE LLANTAS--Batería--COMPRA DE LLANTAS--\n",
            "Latonería--Latonería--Fabricación Buje En Bronce--\n",
            "INDEMNIZACION POR DAÑOS A TERCEROS--\n"
          ]
        }
      ]
    },
    {
      "cell_type": "markdown",
      "source": [
        "Con el trabajo a la anterior información es posible analizar la frecuencia con la que se aplican los diferentes gastos que son atípicamente altos. "
      ],
      "metadata": {
        "id": "NmYBJgm65i8A"
      },
      "id": "NmYBJgm65i8A"
    },
    {
      "cell_type": "code",
      "source": [
        "sali=tp[\"CONCEPTO\"].sum()"
      ],
      "metadata": {
        "id": "xWWecQNH9p2A"
      },
      "id": "xWWecQNH9p2A",
      "execution_count": 212,
      "outputs": []
    },
    {
      "cell_type": "code",
      "source": [
        "# Python code to find frequency of each word\n",
        "def freq(str):\n",
        " \n",
        "    # break the string into list of words\n",
        "    str = str.split()        \n",
        "    str2 = []\n",
        " \n",
        "    # loop till string values present in list str\n",
        "    for i in str:            \n",
        " \n",
        "        # checking for the duplicacy\n",
        "        if i not in str2:\n",
        " \n",
        "            # insert value in str2\n",
        "            str2.append(i)\n",
        "    temp=[]\n",
        "    tempstr=[]\n",
        "    for i in range(0, len(str2)):\n",
        "          if str2[i]!=\"de\" and str2[i]!=\"con\"and str2[i]!= \"a\" and str2[i]!=\"en\"and str2[i]!=\"por\"and str2[i]!=\"y\"and any(xx in str2[i] for xx in [\"kit\"])!=True:\n",
        "            # count the frequency of each word(present\n",
        "            # in str2) in str and print\n",
        "            #print('Frequency of', str2[i], 'is :', str.count(str2[i]))\n",
        "            temp.append(str.count(str2[i]))\n",
        "            tempstr.append(str2[i])\n",
        "    return (tempstr,temp)\n",
        " \n",
        "def main():\n",
        "    str =sali.lower()\n",
        "    (a,b)=freq(str)                   \n",
        "    return (a,b)\n",
        " \n",
        "if __name__==\"__main__\":\n",
        "    main()             # call main function"
      ],
      "metadata": {
        "id": "Clh7UQZCBPlJ"
      },
      "id": "Clh7UQZCBPlJ",
      "execution_count": 213,
      "outputs": []
    },
    {
      "cell_type": "code",
      "source": [
        "ffr=\"asdasdalkitmaru\"\n",
        "any(xx in ffr for xx in [\"kit\"])"
      ],
      "metadata": {
        "colab": {
          "base_uri": "https://localhost:8080/",
          "height": 34
        },
        "id": "JIcC7p6wuikL",
        "outputId": "ee9b4284-cfab-413d-dcd1-a67cd9df2676"
      },
      "id": "JIcC7p6wuikL",
      "execution_count": 214,
      "outputs": [
        {
          "output_type": "execute_result",
          "data": {
            "text/plain": [
              "True"
            ]
          },
          "metadata": {},
          "execution_count": 214
        }
      ]
    },
    {
      "cell_type": "code",
      "source": [
        "#any( xx in x.lower() for xx in [\"admin\",\"impu\",\"soat\",\"tecnomec\"])\n",
        "palab,frc=main()\n",
        "palab,frc\n",
        "df = pd.DataFrame(list(zip(palab, frc)),\n",
        "               columns =['Palabras', 'Frecuencia'])\n",
        "df.sort_values(by=\"Frecuencia\",ascending=False).head(10)"
      ],
      "metadata": {
        "id": "cCSEGY5ZB9BY",
        "colab": {
          "base_uri": "https://localhost:8080/",
          "height": 363
        },
        "outputId": "6c1d0e1e-9cba-4a56-8cb1-17a6297fda4a"
      },
      "id": "cCSEGY5ZB9BY",
      "execution_count": 215,
      "outputs": [
        {
          "output_type": "execute_result",
          "data": {
            "text/plain": [
              "        Palabras  Frecuencia\n",
              "0        llantas           5\n",
              "2       embrague           3\n",
              "1         compra           3\n",
              "12     latonería           3\n",
              "4        batería           2\n",
              "24   guardafango           1\n",
              "20     delantero           1\n",
              "21     izquierdo           1\n",
              "22  amortiguador           1\n",
              "23       trasero           1"
            ],
            "text/html": [
              "\n",
              "  <div id=\"df-f0374cb9-5522-474a-ba06-3ef4491e1f09\">\n",
              "    <div class=\"colab-df-container\">\n",
              "      <div>\n",
              "<style scoped>\n",
              "    .dataframe tbody tr th:only-of-type {\n",
              "        vertical-align: middle;\n",
              "    }\n",
              "\n",
              "    .dataframe tbody tr th {\n",
              "        vertical-align: top;\n",
              "    }\n",
              "\n",
              "    .dataframe thead th {\n",
              "        text-align: right;\n",
              "    }\n",
              "</style>\n",
              "<table border=\"1\" class=\"dataframe\">\n",
              "  <thead>\n",
              "    <tr style=\"text-align: right;\">\n",
              "      <th></th>\n",
              "      <th>Palabras</th>\n",
              "      <th>Frecuencia</th>\n",
              "    </tr>\n",
              "  </thead>\n",
              "  <tbody>\n",
              "    <tr>\n",
              "      <th>0</th>\n",
              "      <td>llantas</td>\n",
              "      <td>5</td>\n",
              "    </tr>\n",
              "    <tr>\n",
              "      <th>2</th>\n",
              "      <td>embrague</td>\n",
              "      <td>3</td>\n",
              "    </tr>\n",
              "    <tr>\n",
              "      <th>1</th>\n",
              "      <td>compra</td>\n",
              "      <td>3</td>\n",
              "    </tr>\n",
              "    <tr>\n",
              "      <th>12</th>\n",
              "      <td>latonería</td>\n",
              "      <td>3</td>\n",
              "    </tr>\n",
              "    <tr>\n",
              "      <th>4</th>\n",
              "      <td>batería</td>\n",
              "      <td>2</td>\n",
              "    </tr>\n",
              "    <tr>\n",
              "      <th>24</th>\n",
              "      <td>guardafango</td>\n",
              "      <td>1</td>\n",
              "    </tr>\n",
              "    <tr>\n",
              "      <th>20</th>\n",
              "      <td>delantero</td>\n",
              "      <td>1</td>\n",
              "    </tr>\n",
              "    <tr>\n",
              "      <th>21</th>\n",
              "      <td>izquierdo</td>\n",
              "      <td>1</td>\n",
              "    </tr>\n",
              "    <tr>\n",
              "      <th>22</th>\n",
              "      <td>amortiguador</td>\n",
              "      <td>1</td>\n",
              "    </tr>\n",
              "    <tr>\n",
              "      <th>23</th>\n",
              "      <td>trasero</td>\n",
              "      <td>1</td>\n",
              "    </tr>\n",
              "  </tbody>\n",
              "</table>\n",
              "</div>\n",
              "      <button class=\"colab-df-convert\" onclick=\"convertToInteractive('df-f0374cb9-5522-474a-ba06-3ef4491e1f09')\"\n",
              "              title=\"Convert this dataframe to an interactive table.\"\n",
              "              style=\"display:none;\">\n",
              "        \n",
              "  <svg xmlns=\"http://www.w3.org/2000/svg\" height=\"24px\"viewBox=\"0 0 24 24\"\n",
              "       width=\"24px\">\n",
              "    <path d=\"M0 0h24v24H0V0z\" fill=\"none\"/>\n",
              "    <path d=\"M18.56 5.44l.94 2.06.94-2.06 2.06-.94-2.06-.94-.94-2.06-.94 2.06-2.06.94zm-11 1L8.5 8.5l.94-2.06 2.06-.94-2.06-.94L8.5 2.5l-.94 2.06-2.06.94zm10 10l.94 2.06.94-2.06 2.06-.94-2.06-.94-.94-2.06-.94 2.06-2.06.94z\"/><path d=\"M17.41 7.96l-1.37-1.37c-.4-.4-.92-.59-1.43-.59-.52 0-1.04.2-1.43.59L10.3 9.45l-7.72 7.72c-.78.78-.78 2.05 0 2.83L4 21.41c.39.39.9.59 1.41.59.51 0 1.02-.2 1.41-.59l7.78-7.78 2.81-2.81c.8-.78.8-2.07 0-2.86zM5.41 20L4 18.59l7.72-7.72 1.47 1.35L5.41 20z\"/>\n",
              "  </svg>\n",
              "      </button>\n",
              "      \n",
              "  <style>\n",
              "    .colab-df-container {\n",
              "      display:flex;\n",
              "      flex-wrap:wrap;\n",
              "      gap: 12px;\n",
              "    }\n",
              "\n",
              "    .colab-df-convert {\n",
              "      background-color: #E8F0FE;\n",
              "      border: none;\n",
              "      border-radius: 50%;\n",
              "      cursor: pointer;\n",
              "      display: none;\n",
              "      fill: #1967D2;\n",
              "      height: 32px;\n",
              "      padding: 0 0 0 0;\n",
              "      width: 32px;\n",
              "    }\n",
              "\n",
              "    .colab-df-convert:hover {\n",
              "      background-color: #E2EBFA;\n",
              "      box-shadow: 0px 1px 2px rgba(60, 64, 67, 0.3), 0px 1px 3px 1px rgba(60, 64, 67, 0.15);\n",
              "      fill: #174EA6;\n",
              "    }\n",
              "\n",
              "    [theme=dark] .colab-df-convert {\n",
              "      background-color: #3B4455;\n",
              "      fill: #D2E3FC;\n",
              "    }\n",
              "\n",
              "    [theme=dark] .colab-df-convert:hover {\n",
              "      background-color: #434B5C;\n",
              "      box-shadow: 0px 1px 3px 1px rgba(0, 0, 0, 0.15);\n",
              "      filter: drop-shadow(0px 1px 2px rgba(0, 0, 0, 0.3));\n",
              "      fill: #FFFFFF;\n",
              "    }\n",
              "  </style>\n",
              "\n",
              "      <script>\n",
              "        const buttonEl =\n",
              "          document.querySelector('#df-f0374cb9-5522-474a-ba06-3ef4491e1f09 button.colab-df-convert');\n",
              "        buttonEl.style.display =\n",
              "          google.colab.kernel.accessAllowed ? 'block' : 'none';\n",
              "\n",
              "        async function convertToInteractive(key) {\n",
              "          const element = document.querySelector('#df-f0374cb9-5522-474a-ba06-3ef4491e1f09');\n",
              "          const dataTable =\n",
              "            await google.colab.kernel.invokeFunction('convertToInteractive',\n",
              "                                                     [key], {});\n",
              "          if (!dataTable) return;\n",
              "\n",
              "          const docLinkHtml = 'Like what you see? Visit the ' +\n",
              "            '<a target=\"_blank\" href=https://colab.research.google.com/notebooks/data_table.ipynb>data table notebook</a>'\n",
              "            + ' to learn more about interactive tables.';\n",
              "          element.innerHTML = '';\n",
              "          dataTable['output_type'] = 'display_data';\n",
              "          await google.colab.output.renderOutput(dataTable, element);\n",
              "          const docLink = document.createElement('div');\n",
              "          docLink.innerHTML = docLinkHtml;\n",
              "          element.appendChild(docLink);\n",
              "        }\n",
              "      </script>\n",
              "    </div>\n",
              "  </div>\n",
              "  "
            ]
          },
          "metadata": {},
          "execution_count": 215
        }
      ]
    },
    {
      "cell_type": "code",
      "source": [],
      "metadata": {
        "id": "l8fVS8urD_oe"
      },
      "id": "l8fVS8urD_oe",
      "execution_count": 215,
      "outputs": []
    },
    {
      "cell_type": "markdown",
      "source": [
        "#Herramienta para calcular la rentabilidad de un nuevo vehículo"
      ],
      "metadata": {
        "id": "9OSaNrpZNxd-"
      },
      "id": "9OSaNrpZNxd-"
    },
    {
      "cell_type": "markdown",
      "source": [
        "__________________________________________________________\n",
        "El presente aplicativo en una proyección financiera con base en los parámetros calculados y encontrados para los vehículos tipo Taxi analizados. Se trata de una herramienta de pronóstico a priori qu usa parámetros conservadores, evitando así optimismo infundado. \n",
        "_________________________________________________________"
      ],
      "metadata": {
        "id": "UFzVrcrOruMS"
      },
      "id": "UFzVrcrOruMS"
    },
    {
      "cell_type": "code",
      "source": [
        "inversion_ini=60000\n",
        "costo_cancel_chatarr=1500"
      ],
      "metadata": {
        "id": "MqJu3FSAN9_y"
      },
      "id": "MqJu3FSAN9_y",
      "execution_count": 216,
      "outputs": []
    },
    {
      "cell_type": "code",
      "source": [
        "def ganancia(anios_proyec=7,inversion_ini=60000,costo_cancel_chatarr=1500):\n",
        "  anio=np.linspace(0,anios_proyec,365*anios_proyec-1)\n",
        "  noise = np.random.normal(0,1,365*anios_proyec-1)\n",
        "  dias_a=anio*365\n",
        "  km_a=161*dias_a#+noise*3000\n",
        "  vpn=0.160*km_a#-inversion_ini\n",
        "  ceri=np.zeros(int(np.ceil((365*anios_proyec-1)/2)))\n",
        "  ceriT=np.zeros(int(np.floor((365*anios_proyec-1)/2)))\n",
        "  vpn[int(len(ceriT)):365*anios_proyec ]   =vpn[int(len(ceriT)):365*anios_proyec ]/(1+np.exp(ceri))+vpn[int(len(ceriT))]*0.5\n",
        "  vpn[-1]=vpn[-1]-costo_cancel_chatarr*1.05**anios_proyec\n",
        "  vpn=vpn+200*noise\n",
        "  deprec=-inversion_ini*0.1+np.linspace(start=inversion_ini,stop=0.45*inversion_ini,num=365*anios_proyec-1)\n",
        "  return deprec,vpn,anio\n",
        "deprec,vpn,anio=ganancia(inversion_ini=inversion_ini,costo_cancel_chatarr=costo_cancel_chatarr)"
      ],
      "metadata": {
        "id": "Ibf1MHZC_wvI"
      },
      "id": "Ibf1MHZC_wvI",
      "execution_count": 217,
      "outputs": []
    },
    {
      "cell_type": "code",
      "source": [
        "#%matplotlib inline\n",
        "#output.disable_custom_widget_manager()\n",
        "plt.figure()\n",
        "\n",
        "plt.plot(anio,vpn,label=\"VPN proyectado\")\n",
        "plt.plot(anio,vpn+deprec,label=\"Ahorro=Ganan net+vehíc depreciado\")\n",
        "plt.plot(anio,np.array(vpn+deprec)*0+inversion_ini,label=\"Inversión a superar\")\n",
        "plt.legend(loc=\"best\")\n",
        "plt.show()"
      ],
      "metadata": {
        "colab": {
          "base_uri": "https://localhost:8080/",
          "height": 377,
          "referenced_widgets": [
            "c5465b6ee1fc4346999342180f8b0b33",
            "8854d296146c4debbfe9f16ecbdabdd9",
            "6e16e7092de44d50a91cb83a75a5d02e",
            "58d4ed4047e74abd9c80e91af1ed95e8"
          ]
        },
        "id": "NkMpq7nvBbAZ",
        "outputId": "cd6d72c8-a7db-4b30-eb1c-7665d3779a80"
      },
      "id": "NkMpq7nvBbAZ",
      "execution_count": 218,
      "outputs": [
        {
          "output_type": "display_data",
          "data": {
            "text/plain": [
              "Canvas(toolbar=Toolbar(toolitems=[('Home', 'Reset original view', 'home', 'home'), ('Back', 'Back to previous …"
            ],
            "image/png": "[encoded data removed]",
            "text/html": [
              "\n",
              "            <div style=\"display: inline-block;\">\n",
              "                <div class=\"jupyter-widgets widget-label\" style=\"text-align: center;\">\n",
              "                    Figure\n",
              "                </div>\n",
              "                <img src='data:image/png;base64,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' width=432.0/>\n",
              "            </div>\n",
              "        "
            ],
            "application/vnd.jupyter.widget-view+json": {
              "version_major": 2,
              "version_minor": 0,
              "model_id": "c5465b6ee1fc4346999342180f8b0b33"
            }
          },
          "metadata": {
            "application/vnd.jupyter.widget-view+json": {
              "colab": {
                "custom_widget_manager": {
                  "url": "https://ssl.gstatic.com/colaboratory-static/widgets/colab-cdn-widget-manager/d2e234f7cc04bf79/manager.min.js"
                }
              }
            }
          }
        }
      ]
    },
    {
      "cell_type": "code",
      "source": [
        "tiempo_a_liquidar= 5   #-----AÑOS---\n",
        "deprec,vpn,anio=ganancia(inversion_ini=inversion_ini,costo_cancel_chatarr=costo_cancel_chatarr)\n",
        "GANANCIA_NETA_TOTAL=vpn[-1]+deprec[-1]-inversion_ini-costo_cancel_chatarr\n",
        "monedaF=\"{:,}\".format(np.round(GANANCIA_NETA_TOTAL*1000,2))\n",
        "print(f\"La GANANCIA_NETA_TOTAL es de ${monedaF}, si vende a los {tiempo_a_liquidar} años\")"
      ],
      "metadata": {
        "colab": {
          "base_uri": "https://localhost:8080/",
          "height": 34
        },
        "id": "rPTCTJ7amHAf",
        "outputId": "033ccabe-e790-4f27-a105-4969a6c24ee6"
      },
      "id": "rPTCTJ7amHAf",
      "execution_count": 219,
      "outputs": [
        {
          "output_type": "stream",
          "name": "stdout",
          "text": [
            "La GANANCIA_NETA_TOTAL es de $6,760,127.87, si vende a los 5 años\n"
          ]
        }
      ]
    },
    {
      "cell_type": "code",
      "source": [],
      "metadata": {
        "id": "8flDk6HayKHq"
      },
      "id": "8flDk6HayKHq",
      "execution_count": 219,
      "outputs": []
    }
  ],
  "metadata": {
    "kernelspec": {
      "display_name": "Python 3",
      "language": "python",
      "name": "python3"
    },
    "language_info": {
      "codemirror_mode": {
        "name": "ipython",
        "version": 3
      },
      "file_extension": ".py",
      "mimetype": "text/x-python",
      "name": "python",
      "nbconvert_exporter": "python",
      "pygments_lexer": "ipython3",
      "version": "3.8.6"
    },
    "colab": {
      "provenance": [],
      "include_colab_link": true
    },
    "accelerator": "GPU",
    "gpuClass": "standard",
    "widgets": {
      "application/vnd.jupyter.widget-state+json": {
        "f6b614924a964202abc13f92713df842": {
          "model_module": "jupyter-matplotlib",
          "model_name": "MPLCanvasModel",
          "model_module_version": "^0.11",
          "state": {
            "_cursor": "pointer",
            "_data_url": "data:image/png;base64,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",
            "_dom_classes": [],
            "_figure_label": "Figure 1",
            "_image_mode": "full",
            "_message": "",
            "_model_module": "jupyter-matplotlib",
            "_model_module_version": "^0.11",
            "_model_name": "MPLCanvasModel",
            "_rubberband_height": 0,
            "_rubberband_width": 0,
            "_rubberband_x": 0,
            "_rubberband_y": 0,
            "_size": [
              432,
              288
            ],
            "_view_count": null,
            "_view_module": "jupyter-matplotlib",
            "_view_module_version": "^0.11",
            "_view_name": "MPLCanvasView",
            "capture_scroll": false,
            "footer_visible": true,
            "header_visible": true,
            "layout": "IPY_MODEL_1bc9c53e040e4fe88824e9612d72c2f6",
            "pan_zoom_throttle": 33,
            "resizable": true,
            "toolbar": "IPY_MODEL_c47a4da8375647688144a65e17a7301d",
            "toolbar_position": "left",
            "toolbar_visible": "fade-in-fade-out"
          }
        },
        "1bc9c53e040e4fe88824e9612d72c2f6": {
          "model_module": "@jupyter-widgets/base",
          "model_name": "LayoutModel",
          "model_module_version": "1.2.0",
          "state": {
            "_model_module": "@jupyter-widgets/base",
            "_model_module_version": "1.2.0",
            "_model_name": "LayoutModel",
            "_view_count": null,
            "_view_module": "@jupyter-widgets/base",
            "_view_module_version": "1.2.0",
            "_view_name": "LayoutView",
            "align_content": null,
            "align_items": null,
            "align_self": null,
            "border": null,
            "bottom": null,
            "display": null,
            "flex": null,
            "flex_flow": null,
            "grid_area": null,
            "grid_auto_columns": null,
            "grid_auto_flow": null,
            "grid_auto_rows": null,
            "grid_column": null,
            "grid_gap": null,
            "grid_row": null,
            "grid_template_areas": null,
            "grid_template_columns": null,
            "grid_template_rows": null,
            "height": null,
            "justify_content": null,
            "justify_items": null,
            "left": null,
            "margin": null,
            "max_height": null,
            "max_width": null,
            "min_height": null,
            "min_width": null,
            "object_fit": null,
            "object_position": null,
            "order": null,
            "overflow": null,
            "overflow_x": null,
            "overflow_y": null,
            "padding": null,
            "right": null,
            "top": null,
            "visibility": null,
            "width": null
          }
        },
        "c47a4da8375647688144a65e17a7301d": {
          "model_module": "jupyter-matplotlib",
          "model_name": "ToolbarModel",
          "model_module_version": "^0.11",
          "state": {
            "_current_action": "",
            "_dom_classes": [],
            "_model_module": "jupyter-matplotlib",
            "_model_module_version": "^0.11",
            "_model_name": "ToolbarModel",
            "_view_count": null,
            "_view_module": "jupyter-matplotlib",
            "_view_module_version": "^0.11",
            "_view_name": "ToolbarView",
            "button_style": "",
            "collapsed": true,
            "layout": "IPY_MODEL_cffdf982064347e09e7e2936a3d1fd96",
            "orientation": "vertical",
            "toolitems": [
              [
                "Home",
                "Reset original view",
                "home",
                "home"
              ],
              [
                "Back",
                "Back to previous view",
                "arrow-left",
                "back"
              ],
              [
                "Forward",
                "Forward to next view",
                "arrow-right",
                "forward"
              ],
              [
                "Pan",
                "Left button pans, Right button zooms\nx/y fixes axis, CTRL fixes aspect",
                "arrows",
                "pan"
              ],
              [
                "Zoom",
                "Zoom to rectangle\nx/y fixes axis",
                "square-o",
                "zoom"
              ],
              [
                "Download",
                "Download plot",
                "floppy-o",
                "save_figure"
              ]
            ]
          }
        },
        "cffdf982064347e09e7e2936a3d1fd96": {
          "model_module": "@jupyter-widgets/base",
          "model_name": "LayoutModel",
          "model_module_version": "1.2.0",
          "state": {
            "_model_module": "@jupyter-widgets/base",
            "_model_module_version": "1.2.0",
            "_model_name": "LayoutModel",
            "_view_count": null,
            "_view_module": "@jupyter-widgets/base",
            "_view_module_version": "1.2.0",
            "_view_name": "LayoutView",
            "align_content": null,
            "align_items": null,
            "align_self": null,
            "border": null,
            "bottom": null,
            "display": null,
            "flex": null,
            "flex_flow": null,
            "grid_area": null,
            "grid_auto_columns": null,
            "grid_auto_flow": null,
            "grid_auto_rows": null,
            "grid_column": null,
            "grid_gap": null,
            "grid_row": null,
            "grid_template_areas": null,
            "grid_template_columns": null,
            "grid_template_rows": null,
            "height": null,
            "justify_content": null,
            "justify_items": null,
            "left": null,
            "margin": null,
            "max_height": null,
            "max_width": null,
            "min_height": null,
            "min_width": null,
            "object_fit": null,
            "object_position": null,
            "order": null,
            "overflow": null,
            "overflow_x": null,
            "overflow_y": null,
            "padding": null,
            "right": null,
            "top": null,
            "visibility": null,
            "width": null
          }
        },
        "c8d177644f8849de8219fcf88ffc992d": {
          "model_module": "jupyter-matplotlib",
          "model_name": "MPLCanvasModel",
          "model_module_version": "^0.11",
          "state": {
            "_cursor": "default",
            "_data_url": "data:image/png;base64,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",
            "_dom_classes": [],
            "_figure_label": "Figure 2",
            "_image_mode": "full",
            "_message": "",
            "_model_module": "jupyter-matplotlib",
            "_model_module_version": "^0.11",
            "_model_name": "MPLCanvasModel",
            "_rubberband_height": 0,
            "_rubberband_width": 0,
            "_rubberband_x": 0,
            "_rubberband_y": 0,
            "_size": [
              432,
              288
            ],
            "_view_count": null,
            "_view_module": "jupyter-matplotlib",
            "_view_module_version": "^0.11",
            "_view_name": "MPLCanvasView",
            "capture_scroll": false,
            "footer_visible": true,
            "header_visible": true,
            "layout": "IPY_MODEL_acffd0dbebf348cd89503fee1a645868",
            "pan_zoom_throttle": 33,
            "resizable": true,
            "toolbar": "IPY_MODEL_22d80dbcba86446f97fdc44a43c5c67f",
            "toolbar_position": "left",
            "toolbar_visible": "fade-in-fade-out"
          }
        },
        "acffd0dbebf348cd89503fee1a645868": {
          "model_module": "@jupyter-widgets/base",
          "model_name": "LayoutModel",
          "model_module_version": "1.2.0",
          "state": {
            "_model_module": "@jupyter-widgets/base",
            "_model_module_version": "1.2.0",
            "_model_name": "LayoutModel",
            "_view_count": null,
            "_view_module": "@jupyter-widgets/base",
            "_view_module_version": "1.2.0",
            "_view_name": "LayoutView",
            "align_content": null,
            "align_items": null,
            "align_self": null,
            "border": null,
            "bottom": null,
            "display": null,
            "flex": null,
            "flex_flow": null,
            "grid_area": null,
            "grid_auto_columns": null,
            "grid_auto_flow": null,
            "grid_auto_rows": null,
            "grid_column": null,
            "grid_gap": null,
            "grid_row": null,
            "grid_template_areas": null,
            "grid_template_columns": null,
            "grid_template_rows": null,
            "height": null,
            "justify_content": null,
            "justify_items": null,
            "left": null,
            "margin": null,
            "max_height": null,
            "max_width": null,
            "min_height": null,
            "min_width": null,
            "object_fit": null,
            "object_position": null,
            "order": null,
            "overflow": null,
            "overflow_x": null,
            "overflow_y": null,
            "padding": null,
            "right": null,
            "top": null,
            "visibility": null,
            "width": null
          }
        },
        "22d80dbcba86446f97fdc44a43c5c67f": {
          "model_module": "jupyter-matplotlib",
          "model_name": "ToolbarModel",
          "model_module_version": "^0.11",
          "state": {
            "_current_action": "",
            "_dom_classes": [],
            "_model_module": "jupyter-matplotlib",
            "_model_module_version": "^0.11",
            "_model_name": "ToolbarModel",
            "_view_count": null,
            "_view_module": "jupyter-matplotlib",
            "_view_module_version": "^0.11",
            "_view_name": "ToolbarView",
            "button_style": "",
            "collapsed": true,
            "layout": "IPY_MODEL_3a50606742e34aaea2e57c9c80bc51bf",
            "orientation": "vertical",
            "toolitems": [
              [
                "Home",
                "Reset original view",
                "home",
                "home"
              ],
              [
                "Back",
                "Back to previous view",
                "arrow-left",
                "back"
              ],
              [
                "Forward",
                "Forward to next view",
                "arrow-right",
                "forward"
              ],
              [
                "Pan",
                "Left button pans, Right button zooms\nx/y fixes axis, CTRL fixes aspect",
                "arrows",
                "pan"
              ],
              [
                "Zoom",
                "Zoom to rectangle\nx/y fixes axis",
                "square-o",
                "zoom"
              ],
              [
                "Download",
                "Download plot",
                "floppy-o",
                "save_figure"
              ]
            ]
          }
        },
        "3a50606742e34aaea2e57c9c80bc51bf": {
          "model_module": "@jupyter-widgets/base",
          "model_name": "LayoutModel",
          "model_module_version": "1.2.0",
          "state": {
            "_model_module": "@jupyter-widgets/base",
            "_model_module_version": "1.2.0",
            "_model_name": "LayoutModel",
            "_view_count": null,
            "_view_module": "@jupyter-widgets/base",
            "_view_module_version": "1.2.0",
            "_view_name": "LayoutView",
            "align_content": null,
            "align_items": null,
            "align_self": null,
            "border": null,
            "bottom": null,
            "display": null,
            "flex": null,
            "flex_flow": null,
            "grid_area": null,
            "grid_auto_columns": null,
            "grid_auto_flow": null,
            "grid_auto_rows": null,
            "grid_column": null,
            "grid_gap": null,
            "grid_row": null,
            "grid_template_areas": null,
            "grid_template_columns": null,
            "grid_template_rows": null,
            "height": null,
            "justify_content": null,
            "justify_items": null,
            "left": null,
            "margin": null,
            "max_height": null,
            "max_width": null,
            "min_height": null,
            "min_width": null,
            "object_fit": null,
            "object_position": null,
            "order": null,
            "overflow": null,
            "overflow_x": null,
            "overflow_y": null,
            "padding": null,
            "right": null,
            "top": null,
            "visibility": null,
            "width": null
          }
        },
        "a7250364738549c08d9f5de0f6e047bf": {
          "model_module": "jupyter-matplotlib",
          "model_name": "MPLCanvasModel",
          "model_module_version": "^0.11",
          "state": {
            "_cursor": "pointer",
            "_data_url": "data:image/png;base64,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",
            "_dom_classes": [],
            "_figure_label": "Figure",
            "_image_mode": "full",
            "_message": "",
            "_model_module": "jupyter-matplotlib",
            "_model_module_version": "^0.11",
            "_model_name": "MPLCanvasModel",
            "_rubberband_height": 0,
            "_rubberband_width": 0,
            "_rubberband_x": 0,
            "_rubberband_y": 0,
            "_size": [
              432,
              288
            ],
            "_view_count": null,
            "_view_module": "jupyter-matplotlib",
            "_view_module_version": "^0.11",
            "_view_name": "MPLCanvasView",
            "capture_scroll": false,
            "footer_visible": true,
            "header_visible": true,
            "layout": "IPY_MODEL_3a11dd9fd84d4e139e67ab2a11d870c1",
            "pan_zoom_throttle": 33,
            "resizable": true,
            "toolbar": "IPY_MODEL_cd06a718104d474cb35a8c63acf70dc0",
            "toolbar_position": "left",
            "toolbar_visible": "fade-in-fade-out"
          }
        },
        "3a11dd9fd84d4e139e67ab2a11d870c1": {
          "model_module": "@jupyter-widgets/base",
          "model_name": "LayoutModel",
          "model_module_version": "1.2.0",
          "state": {
            "_model_module": "@jupyter-widgets/base",
            "_model_module_version": "1.2.0",
            "_model_name": "LayoutModel",
            "_view_count": null,
            "_view_module": "@jupyter-widgets/base",
            "_view_module_version": "1.2.0",
            "_view_name": "LayoutView",
            "align_content": null,
            "align_items": null,
            "align_self": null,
            "border": null,
            "bottom": null,
            "display": null,
            "flex": null,
            "flex_flow": null,
            "grid_area": null,
            "grid_auto_columns": null,
            "grid_auto_flow": null,
            "grid_auto_rows": null,
            "grid_column": null,
            "grid_gap": null,
            "grid_row": null,
            "grid_template_areas": null,
            "grid_template_columns": null,
            "grid_template_rows": null,
            "height": null,
            "justify_content": null,
            "justify_items": null,
            "left": null,
            "margin": null,
            "max_height": null,
            "max_width": null,
            "min_height": null,
            "min_width": null,
            "object_fit": null,
            "object_position": null,
            "order": null,
            "overflow": null,
            "overflow_x": null,
            "overflow_y": null,
            "padding": null,
            "right": null,
            "top": null,
            "visibility": null,
            "width": null
          }
        },
        "cd06a718104d474cb35a8c63acf70dc0": {
          "model_module": "jupyter-matplotlib",
          "model_name": "ToolbarModel",
          "model_module_version": "^0.11",
          "state": {
            "_current_action": "",
            "_dom_classes": [],
            "_model_module": "jupyter-matplotlib",
            "_model_module_version": "^0.11",
            "_model_name": "ToolbarModel",
            "_view_count": null,
            "_view_module": "jupyter-matplotlib",
            "_view_module_version": "^0.11",
            "_view_name": "ToolbarView",
            "button_style": "",
            "collapsed": true,
            "layout": "IPY_MODEL_9c15bc8b532e428b862c85ad21530554",
            "orientation": "vertical",
            "toolitems": [
              [
                "Home",
                "Reset original view",
                "home",
                "home"
              ],
              [
                "Back",
                "Back to previous view",
                "arrow-left",
                "back"
              ],
              [
                "Forward",
                "Forward to next view",
                "arrow-right",
                "forward"
              ],
              [
                "Pan",
                "Left button pans, Right button zooms\nx/y fixes axis, CTRL fixes aspect",
                "arrows",
                "pan"
              ],
              [
                "Zoom",
                "Zoom to rectangle\nx/y fixes axis",
                "square-o",
                "zoom"
              ],
              [
                "Download",
                "Download plot",
                "floppy-o",
                "save_figure"
              ]
            ]
          }
        },
        "9c15bc8b532e428b862c85ad21530554": {
          "model_module": "@jupyter-widgets/base",
          "model_name": "LayoutModel",
          "model_module_version": "1.2.0",
          "state": {
            "_model_module": "@jupyter-widgets/base",
            "_model_module_version": "1.2.0",
            "_model_name": "LayoutModel",
            "_view_count": null,
            "_view_module": "@jupyter-widgets/base",
            "_view_module_version": "1.2.0",
            "_view_name": "LayoutView",
            "align_content": null,
            "align_items": null,
            "align_self": null,
            "border": null,
            "bottom": null,
            "display": null,
            "flex": null,
            "flex_flow": null,
            "grid_area": null,
            "grid_auto_columns": null,
            "grid_auto_flow": null,
            "grid_auto_rows": null,
            "grid_column": null,
            "grid_gap": null,
            "grid_row": null,
            "grid_template_areas": null,
            "grid_template_columns": null,
            "grid_template_rows": null,
            "height": null,
            "justify_content": null,
            "justify_items": null,
            "left": null,
            "margin": null,
            "max_height": null,
            "max_width": null,
            "min_height": null,
            "min_width": null,
            "object_fit": null,
            "object_position": null,
            "order": null,
            "overflow": null,
            "overflow_x": null,
            "overflow_y": null,
            "padding": null,
            "right": null,
            "top": null,
            "visibility": null,
            "width": null
          }
        },
        "70f28fd3c4bf48fd9ed7d691048c4b33": {
          "model_module": "jupyter-matplotlib",
          "model_name": "MPLCanvasModel",
          "model_module_version": "^0.11",
          "state": {
            "_cursor": "pointer",
            "_data_url": "data:image/png;base64,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",
            "_dom_classes": [],
            "_figure_label": "Figure",
            "_image_mode": "full",
            "_message": "",
            "_model_module": "jupyter-matplotlib",
            "_model_module_version": "^0.11",
            "_model_name": "MPLCanvasModel",
            "_rubberband_height": 0,
            "_rubberband_width": 0,
            "_rubberband_x": 0,
            "_rubberband_y": 0,
            "_size": [
              432,
              288
            ],
            "_view_count": null,
            "_view_module": "jupyter-matplotlib",
            "_view_module_version": "^0.11",
            "_view_name": "MPLCanvasView",
            "capture_scroll": false,
            "footer_visible": true,
            "header_visible": true,
            "layout": "IPY_MODEL_bde82f6ed8524d8d8c105f2c0c0ac105",
            "pan_zoom_throttle": 33,
            "resizable": true,
            "toolbar": "IPY_MODEL_4e61c562ee8b4d63b2c80f07d1330273",
            "toolbar_position": "left",
            "toolbar_visible": "fade-in-fade-out"
          }
        },
        "bde82f6ed8524d8d8c105f2c0c0ac105": {
          "model_module": "@jupyter-widgets/base",
          "model_name": "LayoutModel",
          "model_module_version": "1.2.0",
          "state": {
            "_model_module": "@jupyter-widgets/base",
            "_model_module_version": "1.2.0",
            "_model_name": "LayoutModel",
            "_view_count": null,
            "_view_module": "@jupyter-widgets/base",
            "_view_module_version": "1.2.0",
            "_view_name": "LayoutView",
            "align_content": null,
            "align_items": null,
            "align_self": null,
            "border": null,
            "bottom": null,
            "display": null,
            "flex": null,
            "flex_flow": null,
            "grid_area": null,
            "grid_auto_columns": null,
            "grid_auto_flow": null,
            "grid_auto_rows": null,
            "grid_column": null,
            "grid_gap": null,
            "grid_row": null,
            "grid_template_areas": null,
            "grid_template_columns": null,
            "grid_template_rows": null,
            "height": null,
            "justify_content": null,
            "justify_items": null,
            "left": null,
            "margin": null,
            "max_height": null,
            "max_width": null,
            "min_height": null,
            "min_width": null,
            "object_fit": null,
            "object_position": null,
            "order": null,
            "overflow": null,
            "overflow_x": null,
            "overflow_y": null,
            "padding": null,
            "right": null,
            "top": null,
            "visibility": null,
            "width": null
          }
        },
        "4e61c562ee8b4d63b2c80f07d1330273": {
          "model_module": "jupyter-matplotlib",
          "model_name": "ToolbarModel",
          "model_module_version": "^0.11",
          "state": {
            "_current_action": "",
            "_dom_classes": [],
            "_model_module": "jupyter-matplotlib",
            "_model_module_version": "^0.11",
            "_model_name": "ToolbarModel",
            "_view_count": null,
            "_view_module": "jupyter-matplotlib",
            "_view_module_version": "^0.11",
            "_view_name": "ToolbarView",
            "button_style": "",
            "collapsed": true,
            "layout": "IPY_MODEL_f05fee8b587246a99a03694eb48296de",
            "orientation": "vertical",
            "toolitems": [
              [
                "Home",
                "Reset original view",
                "home",
                "home"
              ],
              [
                "Back",
                "Back to previous view",
                "arrow-left",
                "back"
              ],
              [
                "Forward",
                "Forward to next view",
                "arrow-right",
                "forward"
              ],
              [
                "Pan",
                "Left button pans, Right button zooms\nx/y fixes axis, CTRL fixes aspect",
                "arrows",
                "pan"
              ],
              [
                "Zoom",
                "Zoom to rectangle\nx/y fixes axis",
                "square-o",
                "zoom"
              ],
              [
                "Download",
                "Download plot",
                "floppy-o",
                "save_figure"
              ]
            ]
          }
        },
        "f05fee8b587246a99a03694eb48296de": {
          "model_module": "@jupyter-widgets/base",
          "model_name": "LayoutModel",
          "model_module_version": "1.2.0",
          "state": {
            "_model_module": "@jupyter-widgets/base",
            "_model_module_version": "1.2.0",
            "_model_name": "LayoutModel",
            "_view_count": null,
            "_view_module": "@jupyter-widgets/base",
            "_view_module_version": "1.2.0",
            "_view_name": "LayoutView",
            "align_content": null,
            "align_items": null,
            "align_self": null,
            "border": null,
            "bottom": null,
            "display": null,
            "flex": null,
            "flex_flow": null,
            "grid_area": null,
            "grid_auto_columns": null,
            "grid_auto_flow": null,
            "grid_auto_rows": null,
            "grid_column": null,
            "grid_gap": null,
            "grid_row": null,
            "grid_template_areas": null,
            "grid_template_columns": null,
            "grid_template_rows": null,
            "height": null,
            "justify_content": null,
            "justify_items": null,
            "left": null,
            "margin": null,
            "max_height": null,
            "max_width": null,
            "min_height": null,
            "min_width": null,
            "object_fit": null,
            "object_position": null,
            "order": null,
            "overflow": null,
            "overflow_x": null,
            "overflow_y": null,
            "padding": null,
            "right": null,
            "top": null,
            "visibility": null,
            "width": null
          }
        },
        "c7ab5a50a70747ab90c6f19b1e81ece9": {
          "model_module": "jupyter-matplotlib",
          "model_name": "MPLCanvasModel",
          "model_module_version": "^0.11",
          "state": {
            "_cursor": "pointer",
            "_data_url": "data:image/png;base64,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",
            "_dom_classes": [],
            "_figure_label": "Figure",
            "_image_mode": "full",
            "_message": "",
            "_model_module": "jupyter-matplotlib",
            "_model_module_version": "^0.11",
            "_model_name": "MPLCanvasModel",
            "_rubberband_height": 0,
            "_rubberband_width": 0,
            "_rubberband_x": 0,
            "_rubberband_y": 0,
            "_size": [
              432,
              288
            ],
            "_view_count": null,
            "_view_module": "jupyter-matplotlib",
            "_view_module_version": "^0.11",
            "_view_name": "MPLCanvasView",
            "capture_scroll": false,
            "footer_visible": true,
            "header_visible": true,
            "layout": "IPY_MODEL_ec797fcd3dfa446fa1d6c30bff16bfa5",
            "pan_zoom_throttle": 33,
            "resizable": true,
            "toolbar": "IPY_MODEL_265560681e2640989805988bc52aeb0d",
            "toolbar_position": "left",
            "toolbar_visible": "fade-in-fade-out"
          }
        },
        "ec797fcd3dfa446fa1d6c30bff16bfa5": {
          "model_module": "@jupyter-widgets/base",
          "model_name": "LayoutModel",
          "model_module_version": "1.2.0",
          "state": {
            "_model_module": "@jupyter-widgets/base",
            "_model_module_version": "1.2.0",
            "_model_name": "LayoutModel",
            "_view_count": null,
            "_view_module": "@jupyter-widgets/base",
            "_view_module_version": "1.2.0",
            "_view_name": "LayoutView",
            "align_content": null,
            "align_items": null,
            "align_self": null,
            "border": null,
            "bottom": null,
            "display": null,
            "flex": null,
            "flex_flow": null,
            "grid_area": null,
            "grid_auto_columns": null,
            "grid_auto_flow": null,
            "grid_auto_rows": null,
            "grid_column": null,
            "grid_gap": null,
            "grid_row": null,
            "grid_template_areas": null,
            "grid_template_columns": null,
            "grid_template_rows": null,
            "height": null,
            "justify_content": null,
            "justify_items": null,
            "left": null,
            "margin": null,
            "max_height": null,
            "max_width": null,
            "min_height": null,
            "min_width": null,
            "object_fit": null,
            "object_position": null,
            "order": null,
            "overflow": null,
            "overflow_x": null,
            "overflow_y": null,
            "padding": null,
            "right": null,
            "top": null,
            "visibility": null,
            "width": null
          }
        },
        "265560681e2640989805988bc52aeb0d": {
          "model_module": "jupyter-matplotlib",
          "model_name": "ToolbarModel",
          "model_module_version": "^0.11",
          "state": {
            "_current_action": "",
            "_dom_classes": [],
            "_model_module": "jupyter-matplotlib",
            "_model_module_version": "^0.11",
            "_model_name": "ToolbarModel",
            "_view_count": null,
            "_view_module": "jupyter-matplotlib",
            "_view_module_version": "^0.11",
            "_view_name": "ToolbarView",
            "button_style": "",
            "collapsed": true,
            "layout": "IPY_MODEL_801610860c2340e5aa33d1cc426cf22b",
            "orientation": "vertical",
            "toolitems": [
              [
                "Home",
                "Reset original view",
                "home",
                "home"
              ],
              [
                "Back",
                "Back to previous view",
                "arrow-left",
                "back"
              ],
              [
                "Forward",
                "Forward to next view",
                "arrow-right",
                "forward"
              ],
              [
                "Pan",
                "Left button pans, Right button zooms\nx/y fixes axis, CTRL fixes aspect",
                "arrows",
                "pan"
              ],
              [
                "Zoom",
                "Zoom to rectangle\nx/y fixes axis",
                "square-o",
                "zoom"
              ],
              [
                "Download",
                "Download plot",
                "floppy-o",
                "save_figure"
              ]
            ]
          }
        },
        "801610860c2340e5aa33d1cc426cf22b": {
          "model_module": "@jupyter-widgets/base",
          "model_name": "LayoutModel",
          "model_module_version": "1.2.0",
          "state": {
            "_model_module": "@jupyter-widgets/base",
            "_model_module_version": "1.2.0",
            "_model_name": "LayoutModel",
            "_view_count": null,
            "_view_module": "@jupyter-widgets/base",
            "_view_module_version": "1.2.0",
            "_view_name": "LayoutView",
            "align_content": null,
            "align_items": null,
            "align_self": null,
            "border": null,
            "bottom": null,
            "display": null,
            "flex": null,
            "flex_flow": null,
            "grid_area": null,
            "grid_auto_columns": null,
            "grid_auto_flow": null,
            "grid_auto_rows": null,
            "grid_column": null,
            "grid_gap": null,
            "grid_row": null,
            "grid_template_areas": null,
            "grid_template_columns": null,
            "grid_template_rows": null,
            "height": null,
            "justify_content": null,
            "justify_items": null,
            "left": null,
            "margin": null,
            "max_height": null,
            "max_width": null,
            "min_height": null,
            "min_width": null,
            "object_fit": null,
            "object_position": null,
            "order": null,
            "overflow": null,
            "overflow_x": null,
            "overflow_y": null,
            "padding": null,
            "right": null,
            "top": null,
            "visibility": null,
            "width": null
          }
        },
        "ecfdc605fce54b30b4276142852473c9": {
          "model_module": "jupyter-matplotlib",
          "model_name": "MPLCanvasModel",
          "model_module_version": "^0.11",
          "state": {
            "_cursor": "default",
            "_data_url": "data:image/png;base64,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",
            "_dom_classes": [],
            "_figure_label": "Figure 1",
            "_image_mode": "full",
            "_message": "",
            "_model_module": "jupyter-matplotlib",
            "_model_module_version": "^0.11",
            "_model_name": "MPLCanvasModel",
            "_rubberband_height": 0,
            "_rubberband_width": 0,
            "_rubberband_x": 0,
            "_rubberband_y": 0,
            "_size": [
              432,
              288
            ],
            "_view_count": null,
            "_view_module": "jupyter-matplotlib",
            "_view_module_version": "^0.11",
            "_view_name": "MPLCanvasView",
            "capture_scroll": false,
            "footer_visible": true,
            "header_visible": true,
            "layout": "IPY_MODEL_5ea6e128934148f8b4c9758a62dfaeff",
            "pan_zoom_throttle": 33,
            "resizable": true,
            "toolbar": "IPY_MODEL_ae2820f076b242d8a811c0abfe145408",
            "toolbar_position": "left",
            "toolbar_visible": "fade-in-fade-out"
          }
        },
        "5ea6e128934148f8b4c9758a62dfaeff": {
          "model_module": "@jupyter-widgets/base",
          "model_name": "LayoutModel",
          "model_module_version": "1.2.0",
          "state": {
            "_model_module": "@jupyter-widgets/base",
            "_model_module_version": "1.2.0",
            "_model_name": "LayoutModel",
            "_view_count": null,
            "_view_module": "@jupyter-widgets/base",
            "_view_module_version": "1.2.0",
            "_view_name": "LayoutView",
            "align_content": null,
            "align_items": null,
            "align_self": null,
            "border": null,
            "bottom": null,
            "display": null,
            "flex": null,
            "flex_flow": null,
            "grid_area": null,
            "grid_auto_columns": null,
            "grid_auto_flow": null,
            "grid_auto_rows": null,
            "grid_column": null,
            "grid_gap": null,
            "grid_row": null,
            "grid_template_areas": null,
            "grid_template_columns": null,
            "grid_template_rows": null,
            "height": null,
            "justify_content": null,
            "justify_items": null,
            "left": null,
            "margin": null,
            "max_height": null,
            "max_width": null,
            "min_height": null,
            "min_width": null,
            "object_fit": null,
            "object_position": null,
            "order": null,
            "overflow": null,
            "overflow_x": null,
            "overflow_y": null,
            "padding": null,
            "right": null,
            "top": null,
            "visibility": null,
            "width": null
          }
        },
        "ae2820f076b242d8a811c0abfe145408": {
          "model_module": "jupyter-matplotlib",
          "model_name": "ToolbarModel",
          "model_module_version": "^0.11",
          "state": {
            "_current_action": "",
            "_dom_classes": [],
            "_model_module": "jupyter-matplotlib",
            "_model_module_version": "^0.11",
            "_model_name": "ToolbarModel",
            "_view_count": null,
            "_view_module": "jupyter-matplotlib",
            "_view_module_version": "^0.11",
            "_view_name": "ToolbarView",
            "button_style": "",
            "collapsed": true,
            "layout": "IPY_MODEL_47b27974a3ec49f3bb08e44b7aa74aed",
            "orientation": "vertical",
            "toolitems": [
              [
                "Home",
                "Reset original view",
                "home",
                "home"
              ],
              [
                "Back",
                "Back to previous view",
                "arrow-left",
                "back"
              ],
              [
                "Forward",
                "Forward to next view",
                "arrow-right",
                "forward"
              ],
              [
                "Pan",
                "Left button pans, Right button zooms\nx/y fixes axis, CTRL fixes aspect",
                "arrows",
                "pan"
              ],
              [
                "Zoom",
                "Zoom to rectangle\nx/y fixes axis",
                "square-o",
                "zoom"
              ],
              [
                "Download",
                "Download plot",
                "floppy-o",
                "save_figure"
              ]
            ]
          }
        },
        "47b27974a3ec49f3bb08e44b7aa74aed": {
          "model_module": "@jupyter-widgets/base",
          "model_name": "LayoutModel",
          "model_module_version": "1.2.0",
          "state": {
            "_model_module": "@jupyter-widgets/base",
            "_model_module_version": "1.2.0",
            "_model_name": "LayoutModel",
            "_view_count": null,
            "_view_module": "@jupyter-widgets/base",
            "_view_module_version": "1.2.0",
            "_view_name": "LayoutView",
            "align_content": null,
            "align_items": null,
            "align_self": null,
            "border": null,
            "bottom": null,
            "display": null,
            "flex": null,
            "flex_flow": null,
            "grid_area": null,
            "grid_auto_columns": null,
            "grid_auto_flow": null,
            "grid_auto_rows": null,
            "grid_column": null,
            "grid_gap": null,
            "grid_row": null,
            "grid_template_areas": null,
            "grid_template_columns": null,
            "grid_template_rows": null,
            "height": null,
            "justify_content": null,
            "justify_items": null,
            "left": null,
            "margin": null,
            "max_height": null,
            "max_width": null,
            "min_height": null,
            "min_width": null,
            "object_fit": null,
            "object_position": null,
            "order": null,
            "overflow": null,
            "overflow_x": null,
            "overflow_y": null,
            "padding": null,
            "right": null,
            "top": null,
            "visibility": null,
            "width": null
          }
        },
        "c5465b6ee1fc4346999342180f8b0b33": {
          "model_module": "jupyter-matplotlib",
          "model_name": "MPLCanvasModel",
          "model_module_version": "^0.11",
          "state": {
            "_cursor": "default",
            "_data_url": "data:image/png;base64,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",
            "_dom_classes": [],
            "_figure_label": "Figure 2",
            "_image_mode": "full",
            "_message": "",
            "_model_module": "jupyter-matplotlib",
            "_model_module_version": "^0.11",
            "_model_name": "MPLCanvasModel",
            "_rubberband_height": 0,
            "_rubberband_width": 0,
            "_rubberband_x": 0,
            "_rubberband_y": 0,
            "_size": [
              432,
              288
            ],
            "_view_count": null,
            "_view_module": "jupyter-matplotlib",
            "_view_module_version": "^0.11",
            "_view_name": "MPLCanvasView",
            "capture_scroll": false,
            "footer_visible": true,
            "header_visible": true,
            "layout": "IPY_MODEL_8854d296146c4debbfe9f16ecbdabdd9",
            "pan_zoom_throttle": 33,
            "resizable": true,
            "toolbar": "IPY_MODEL_6e16e7092de44d50a91cb83a75a5d02e",
            "toolbar_position": "left",
            "toolbar_visible": "fade-in-fade-out"
          }
        },
        "8854d296146c4debbfe9f16ecbdabdd9": {
          "model_module": "@jupyter-widgets/base",
          "model_name": "LayoutModel",
          "model_module_version": "1.2.0",
          "state": {
            "_model_module": "@jupyter-widgets/base",
            "_model_module_version": "1.2.0",
            "_model_name": "LayoutModel",
            "_view_count": null,
            "_view_module": "@jupyter-widgets/base",
            "_view_module_version": "1.2.0",
            "_view_name": "LayoutView",
            "align_content": null,
            "align_items": null,
            "align_self": null,
            "border": null,
            "bottom": null,
            "display": null,
            "flex": null,
            "flex_flow": null,
            "grid_area": null,
            "grid_auto_columns": null,
            "grid_auto_flow": null,
            "grid_auto_rows": null,
            "grid_column": null,
            "grid_gap": null,
            "grid_row": null,
            "grid_template_areas": null,
            "grid_template_columns": null,
            "grid_template_rows": null,
            "height": null,
            "justify_content": null,
            "justify_items": null,
            "left": null,
            "margin": null,
            "max_height": null,
            "max_width": null,
            "min_height": null,
            "min_width": null,
            "object_fit": null,
            "object_position": null,
            "order": null,
            "overflow": null,
            "overflow_x": null,
            "overflow_y": null,
            "padding": null,
            "right": null,
            "top": null,
            "visibility": null,
            "width": null
          }
        },
        "6e16e7092de44d50a91cb83a75a5d02e": {
          "model_module": "jupyter-matplotlib",
          "model_name": "ToolbarModel",
          "model_module_version": "^0.11",
          "state": {
            "_current_action": "",
            "_dom_classes": [],
            "_model_module": "jupyter-matplotlib",
            "_model_module_version": "^0.11",
            "_model_name": "ToolbarModel",
            "_view_count": null,
            "_view_module": "jupyter-matplotlib",
            "_view_module_version": "^0.11",
            "_view_name": "ToolbarView",
            "button_style": "",
            "collapsed": true,
            "layout": "IPY_MODEL_58d4ed4047e74abd9c80e91af1ed95e8",
            "orientation": "vertical",
            "toolitems": [
              [
                "Home",
                "Reset original view",
                "home",
                "home"
              ],
              [
                "Back",
                "Back to previous view",
                "arrow-left",
                "back"
              ],
              [
                "Forward",
                "Forward to next view",
                "arrow-right",
                "forward"
              ],
              [
                "Pan",
                "Left button pans, Right button zooms\nx/y fixes axis, CTRL fixes aspect",
                "arrows",
                "pan"
              ],
              [
                "Zoom",
                "Zoom to rectangle\nx/y fixes axis",
                "square-o",
                "zoom"
              ],
              [
                "Download",
                "Download plot",
                "floppy-o",
                "save_figure"
              ]
            ]
          }
        },
        "58d4ed4047e74abd9c80e91af1ed95e8": {
          "model_module": "@jupyter-widgets/base",
          "model_name": "LayoutModel",
          "model_module_version": "1.2.0",
          "state": {
            "_model_module": "@jupyter-widgets/base",
            "_model_module_version": "1.2.0",
            "_model_name": "LayoutModel",
            "_view_count": null,
            "_view_module": "@jupyter-widgets/base",
            "_view_module_version": "1.2.0",
            "_view_name": "LayoutView",
            "align_content": null,
            "align_items": null,
            "align_self": null,
            "border": null,
            "bottom": null,
            "display": null,
            "flex": null,
            "flex_flow": null,
            "grid_area": null,
            "grid_auto_columns": null,
            "grid_auto_flow": null,
            "grid_auto_rows": null,
            "grid_column": null,
            "grid_gap": null,
            "grid_row": null,
            "grid_template_areas": null,
            "grid_template_columns": null,
            "grid_template_rows": null,
            "height": null,
            "justify_content": null,
            "justify_items": null,
            "left": null,
            "margin": null,
            "max_height": null,
            "max_width": null,
            "min_height": null,
            "min_width": null,
            "object_fit": null,
            "object_position": null,
            "order": null,
            "overflow": null,
            "overflow_x": null,
            "overflow_y": null,
            "padding": null,
            "right": null,
            "top": null,
            "visibility": null,
            "width": null
          }
        }
      }
    }
  },
  "nbformat": 4,
  "nbformat_minor": 5
}